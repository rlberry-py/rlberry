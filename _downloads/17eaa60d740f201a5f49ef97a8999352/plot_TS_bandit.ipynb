{
  "cells": [
    {
      "cell_type": "markdown",
      "metadata": {},
      "source": [
        "\n# Comparison of Thompson sampling and UCB on Bernoulli and Gaussian bandits\n\nThis script shows how to use Thompson sampling on two examples: Bernoulli and Gaussian bandits.\n\nIn the Bernoulli case, we use Thompson sampling with a Beta prior. We compare it to a UCB for\nbounded rewards with support in [0,1].\nFor the Gaussian case, we use a Gaussian prior and compare it to a sub-Gaussian UCB.\n"
      ]
    },
    {
      "cell_type": "code",
      "execution_count": null,
      "metadata": {
        "collapsed": false
      },
      "outputs": [],
      "source": [
        "import numpy as np\nfrom rlberry_research.envs.bandits import BernoulliBandit, NormalBandit\nfrom rlberry_research.agents.bandits import (\n    IndexAgent,\n    TSAgent,\n    makeBoundedUCBIndex,\n    makeSubgaussianUCBIndex,\n    makeBetaPrior,\n    makeGaussianPrior,\n)\nfrom rlberry.manager import ExperimentManager, plot_writer_data\n\n\n# Bernoulli\n\n# Agents definition\n\n\nclass BernoulliTSAgent(TSAgent):\n    \"\"\"Thompson sampling for Bernoulli bandit\"\"\"\n\n    name = \"Bernoulli TS Agent\"\n\n    def __init__(self, env, **kwargs):\n        prior, _ = makeBetaPrior()\n        TSAgent.__init__(self, env, prior, writer_extra=\"action\", **kwargs)\n\n\nclass BoundedUCBAgent(IndexAgent):\n    \"\"\"UCB agent for bounded bandits\"\"\"\n\n    name = \"Bounded UCB Agent\"\n\n    def __init__(self, env, **kwargs):\n        index, _ = makeBoundedUCBIndex(0, 1)\n        IndexAgent.__init__(self, env, index, writer_extra=\"action\", **kwargs)\n\n\n# Parameters of the problem\nmeans = np.array([0.8, 0.8, 0.9, 1])  # means of the arms\nA = len(means)\nT = 2000  # Horizon\nM = 10  # number of MC simu\n\n# Construction of the experiment\n\nenv_ctor = BernoulliBandit\nenv_kwargs = {\"p\": means}\n\nagents = [\n    ExperimentManager(\n        Agent,\n        (env_ctor, env_kwargs),\n        fit_budget=T,\n        n_fit=M,\n    )\n    for Agent in [BoundedUCBAgent, BernoulliTSAgent]\n]\n\n# Agent training\n\nfor agent in agents:\n    agent.fit()\n\n\n# Compute and plot (pseudo-)regret\ndef compute_pseudo_regret(actions):\n    return np.cumsum(np.max(means) - means[actions.astype(int)])\n\n\noutput = plot_writer_data(\n    agents,\n    tag=\"action\",\n    preprocess_func=compute_pseudo_regret,\n    title=\"Cumulative Pseudo-Regret\",\n)\n\n\n# Gaussian\n\n\nclass GaussianTSAgent(TSAgent):\n    \"\"\"Thompson sampling for Gaussian bandit\"\"\"\n\n    name = \"Gaussian TS Agent\"\n\n    def __init__(self, env, sigma=1.0, **kwargs):\n        prior, _ = makeGaussianPrior(sigma)\n        TSAgent.__init__(self, env, prior, writer_extra=\"action\", **kwargs)\n\n\nclass GaussianUCBAgent(IndexAgent):\n    \"\"\"UCB agent for Gaussian bandits\"\"\"\n\n    name = \"Gaussian UCB Agent\"\n\n    def __init__(self, env, sigma=1.0, **kwargs):\n        index, _ = makeSubgaussianUCBIndex(sigma)\n        IndexAgent.__init__(self, env, index, writer_extra=\"action\", **kwargs)\n\n\n# Parameters of the problem\nmeans = np.array([0.3, 0.5])  # means of the arms\nsigma = 1.0  # means of the arms\nA = len(means)\nT = 2000  # Horizon\nM = 10  # number of MC simu\n\n# Construction of the experiment\n\nenv_ctor = NormalBandit\nenv_kwargs = {\"means\": means, \"stds\": sigma * np.ones(A)}\n\nagents = [\n    ExperimentManager(\n        Agent,\n        (env_ctor, env_kwargs),\n        fit_budget=T,\n        n_fit=M,\n    )\n    for Agent in [GaussianUCBAgent, GaussianTSAgent]\n]\n\n# Agent training\n\nfor agent in agents:\n    agent.fit()\n\n\n# Compute and plot (pseudo-)regret\ndef compute_pseudo_regret(actions):\n    return np.cumsum(np.max(means) - means[actions.astype(int)])\n\n\noutput = plot_writer_data(\n    agents,\n    tag=\"action\",\n    preprocess_func=compute_pseudo_regret,\n    title=\"Cumulative Pseudo-Regret\",\n)"
      ]
    }
  ],
  "metadata": {
    "kernelspec": {
      "display_name": "Python 3",
      "language": "python",
      "name": "python3"
    },
    "language_info": {
      "codemirror_mode": {
        "name": "ipython",
        "version": 3
      },
      "file_extension": ".py",
      "mimetype": "text/x-python",
      "name": "python",
      "nbconvert_exporter": "python",
      "pygments_lexer": "ipython3",
      "version": "3.10.16"
    }
  },
  "nbformat": 4,
  "nbformat_minor": 0
}