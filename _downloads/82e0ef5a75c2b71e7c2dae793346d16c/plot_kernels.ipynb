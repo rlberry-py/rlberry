{
  "cells": [
    {
      "cell_type": "markdown",
      "metadata": {},
      "source": [
        "\n# Plot kernel functions\n\nThis script requires matplotlib\n"
      ]
    },
    {
      "cell_type": "code",
      "execution_count": null,
      "metadata": {
        "collapsed": false
      },
      "outputs": [],
      "source": [
        "import matplotlib.pyplot as plt\nimport numpy as np\nfrom rlberry_research.agents.kernel_based.kernels import kernel_func\n\nkernel_types = [\n    \"uniform\",\n    \"triangular\",\n    \"gaussian\",\n    \"epanechnikov\",\n    \"quartic\",\n    \"triweight\",\n    \"tricube\",\n    \"cosine\",\n    \"exp-4\",\n]\n\nz = np.linspace(-2, 2, 100)\n\n\nfig, axes = plt.subplots(1, len(kernel_types), figsize=(15, 5))\nfor ii, k_type in enumerate(kernel_types):\n    kernel_vals = kernel_func(z, k_type)\n    axes[ii].plot(z, kernel_vals)\n    axes[ii].set_title(k_type)\nplt.show()"
      ]
    }
  ],
  "metadata": {
    "kernelspec": {
      "display_name": "Python 3",
      "language": "python",
      "name": "python3"
    },
    "language_info": {
      "codemirror_mode": {
        "name": "ipython",
        "version": 3
      },
      "file_extension": ".py",
      "mimetype": "text/x-python",
      "name": "python",
      "nbconvert_exporter": "python",
      "pygments_lexer": "ipython3",
      "version": "3.10.16"
    }
  },
  "nbformat": 4,
  "nbformat_minor": 0
}