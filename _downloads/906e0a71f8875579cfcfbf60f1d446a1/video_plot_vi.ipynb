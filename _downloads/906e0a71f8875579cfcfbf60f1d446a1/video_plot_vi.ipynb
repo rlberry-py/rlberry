{
  "cells": [
    {
      "cell_type": "markdown",
      "metadata": {},
      "source": [
        "\n# A demo of ValueIteration algorithm in Chain environment\n Illustration of how to set up an ValueIteration algorithm in rlberry.\n The environment chosen here is Chain environment.\n\n.. video:: ../../video_plot_vi.mp4\n   :width: 600\n"
      ]
    },
    {
      "cell_type": "code",
      "execution_count": null,
      "metadata": {
        "collapsed": false
      },
      "outputs": [],
      "source": [
        "from rlberry_scool.agents.dynprog import ValueIterationAgent\nfrom rlberry_scool.envs.finite import Chain\n\nenv = Chain()\nagent = ValueIterationAgent(env, gamma=0.95)\ninfo = agent.fit()\nprint(info)\n\nenv.enable_rendering()\nobservation, info = env.reset()\nfor tt in range(50):\n    action = agent.policy(observation)\n    observation, reward, terminated, truncated, info = env.step(action)\n    done = terminated or truncated\n    if done:\n        break\nvideo = env.save_video(\"_video/video_plot_vi.mp4\")"
      ]
    }
  ],
  "metadata": {
    "kernelspec": {
      "display_name": "Python 3",
      "language": "python",
      "name": "python3"
    },
    "language_info": {
      "codemirror_mode": {
        "name": "ipython",
        "version": 3
      },
      "file_extension": ".py",
      "mimetype": "text/x-python",
      "name": "python",
      "nbconvert_exporter": "python",
      "pygments_lexer": "ipython3",
      "version": "3.10.16"
    }
  },
  "nbformat": 4,
  "nbformat_minor": 0
}