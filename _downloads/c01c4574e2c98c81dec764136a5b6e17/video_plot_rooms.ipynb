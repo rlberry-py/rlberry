{
  "cells": [
    {
      "cell_type": "markdown",
      "metadata": {},
      "source": [
        "\n# A demo of rooms environment\n Illustration of NRooms environment\n\n.. video:: ../../video_plot_rooms.mp4\n   :width: 600\n"
      ]
    },
    {
      "cell_type": "code",
      "execution_count": null,
      "metadata": {
        "collapsed": false
      },
      "outputs": [],
      "source": [
        "from rlberry_research.envs.benchmarks.grid_exploration.nroom import NRoom\nfrom rlberry_scool.agents.dynprog import ValueIterationAgent\n\nenv = NRoom(\n    nrooms=9,\n    remove_walls=False,\n    room_size=9,\n    initial_state_distribution=\"center\",\n    include_traps=True,\n)\nhorizon = env.observation_space.n\n\nagent = ValueIterationAgent(env, gamma=0.999, horizon=horizon)\nprint(\"fitting...\")\ninfo = agent.fit()\nprint(info)\n\nenv.enable_rendering()\n\nfor _ in range(10):\n    observation, info = env.reset()\n    for tt in range(horizon):\n        # action = agent.policy(observation)\n        action = env.action_space.sample()\n        observation, reward, terminated, truncated, info = env.step(action)\n        done = terminated or truncated\n        if done:\n            break\nenv.render()\nvideo = env.save_video(\"_video/video_plot_rooms.mp4\")"
      ]
    }
  ],
  "metadata": {
    "kernelspec": {
      "display_name": "Python 3",
      "language": "python",
      "name": "python3"
    },
    "language_info": {
      "codemirror_mode": {
        "name": "ipython",
        "version": 3
      },
      "file_extension": ".py",
      "mimetype": "text/x-python",
      "name": "python",
      "nbconvert_exporter": "python",
      "pygments_lexer": "ipython3",
      "version": "3.10.16"
    }
  },
  "nbformat": 4,
  "nbformat_minor": 0
}