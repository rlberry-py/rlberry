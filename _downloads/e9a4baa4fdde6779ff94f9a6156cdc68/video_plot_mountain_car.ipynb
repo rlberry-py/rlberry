{
  "cells": [
    {
      "cell_type": "markdown",
      "metadata": {},
      "source": [
        "\n# A demo of MountainCar environment\n Illustration of MountainCar environment\n\n.. video:: ../../video_plot_montain_car.mp4\n   :width: 600\n"
      ]
    },
    {
      "cell_type": "code",
      "execution_count": null,
      "metadata": {
        "collapsed": false
      },
      "outputs": [],
      "source": [
        "from rlberry_scool.agents.mbqvi import MBQVIAgent\nfrom rlberry_research.envs.classic_control import MountainCar\nfrom rlberry.wrappers import DiscretizeStateWrapper\n\n_env = MountainCar()\nenv = DiscretizeStateWrapper(_env, 20)\nagent = MBQVIAgent(env, n_samples=40, gamma=0.99)\nagent.fit()\n\nenv.enable_rendering()\nobservation, info = env.reset()\nfor tt in range(200):\n    action = agent.policy(observation)\n    observation, reward, terminated, truncated, info = env.step(action)\n    done = terminated or truncated\n\nvideo = env.save_video(\"_video/video_plot_montain_car.mp4\")"
      ]
    }
  ],
  "metadata": {
    "kernelspec": {
      "display_name": "Python 3",
      "language": "python",
      "name": "python3"
    },
    "language_info": {
      "codemirror_mode": {
        "name": "ipython",
        "version": 3
      },
      "file_extension": ".py",
      "mimetype": "text/x-python",
      "name": "python",
      "nbconvert_exporter": "python",
      "pygments_lexer": "ipython3",
      "version": "3.10.16"
    }
  },
  "nbformat": 4,
  "nbformat_minor": 0
}