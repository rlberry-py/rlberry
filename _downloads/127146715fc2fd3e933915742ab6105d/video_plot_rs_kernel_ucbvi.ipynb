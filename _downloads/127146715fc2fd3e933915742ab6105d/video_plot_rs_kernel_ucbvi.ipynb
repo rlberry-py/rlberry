{
  "cells": [
    {
      "cell_type": "markdown",
      "metadata": {},
      "source": [
        "\n# A demo of RSKernelUCBVIAgent algorithm in Acrobot environment\n Illustration of how to set up a RSKernelUCBVI algorithm in rlberry.\n The environment chosen here is Acrobot environment.\n\n.. video:: ../../video_plot_rs_kernel_ucbvi.mp4\n   :width: 600\n"
      ]
    },
    {
      "cell_type": "code",
      "execution_count": null,
      "metadata": {
        "collapsed": false
      },
      "outputs": [],
      "source": [
        "from rlberry_research.envs import Acrobot\nfrom rlberry_research.agents import RSKernelUCBVIAgent\nfrom rlberry.wrappers import RescaleRewardWrapper\n\nenv = Acrobot()\n# rescake rewards to [0, 1]\nenv = RescaleRewardWrapper(env, (0.0, 1.0))\n\nagent = RSKernelUCBVIAgent(\n    env,\n    gamma=0.99,\n    horizon=300,\n    bonus_scale_factor=0.01,\n    min_dist=0.2,\n    bandwidth=0.05,\n    beta=1.0,\n    kernel_type=\"gaussian\",\n)\nagent.fit(budget=500)\n\nenv.enable_rendering()\nobservation, info = env.reset()\n\ntime_before_done = 0\nended = False\nfor tt in range(2 * agent.horizon):\n    action = agent.policy(observation)\n    observation, reward, terminated, truncated, info = env.step(action)\n    done = terminated or truncated\n    if not done and not ended:\n        time_before_done += 1\n    if done:\n        ended = True\n\nprint(\"steps to achieve the goal for the first time = \", time_before_done)\nvideo = env.save_video(\"_video/video_plot_rs_kernel_ucbvi.mp4\")"
      ]
    }
  ],
  "metadata": {
    "kernelspec": {
      "display_name": "Python 3",
      "language": "python",
      "name": "python3"
    },
    "language_info": {
      "codemirror_mode": {
        "name": "ipython",
        "version": 3
      },
      "file_extension": ".py",
      "mimetype": "text/x-python",
      "name": "python",
      "nbconvert_exporter": "python",
      "pygments_lexer": "ipython3",
      "version": "3.10.16"
    }
  },
  "nbformat": 4,
  "nbformat_minor": 0
}