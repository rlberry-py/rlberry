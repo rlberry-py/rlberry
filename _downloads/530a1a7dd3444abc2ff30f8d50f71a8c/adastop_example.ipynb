{
  "cells": [
    {
      "cell_type": "markdown",
      "metadata": {},
      "source": [
        "\n# Compare PPO and A2C on Acrobot with AdaStop\n\nThis example illustrate the use of adastop_comparator which uses adaptive multiple-testing to assess whether trained agents are\nstatistically different or not.\n\nRemark that in the case where two agents are not deemed statistically different it can mean either that they are as efficient,\nor it can mean that there have not been enough fits to assess the variability of the agents.\n\nResults in\n\n```\n[INFO] 13:35: Test finished\n[INFO] 13:35: Results are\n  Agent1 vs Agent2  mean Agent1  mean Agent2  mean diff  std Agent 1  std Agent 2 decisions\n0       A2C vs PPO     -274.274      -85.068   -189.206    185.82553      2.71784   smaller\n```\n"
      ]
    },
    {
      "cell_type": "code",
      "execution_count": null,
      "metadata": {
        "collapsed": false
      },
      "outputs": [],
      "source": [
        "from rlberry.envs import gym_make\nfrom stable_baselines3 import A2C, PPO\nfrom rlberry.agents.stable_baselines import StableBaselinesAgent\nfrom rlberry.manager import AdastopComparator\n\nenv_ctor, env_kwargs = gym_make, dict(id=\"Acrobot-v1\")\n\nmanagers = [\n    {\n        \"agent_class\": StableBaselinesAgent,\n        \"train_env\": (env_ctor, env_kwargs),\n        \"fit_budget\": 5e4,\n        \"agent_name\": \"A2C\",\n        \"init_kwargs\": {\"algo_cls\": A2C, \"policy\": \"MlpPolicy\", \"verbose\": 1},\n    },\n    {\n        \"agent_class\": StableBaselinesAgent,\n        \"train_env\": (env_ctor, env_kwargs),\n        \"agent_name\": \"PPO\",\n        \"fit_budget\": 5e4,\n        \"init_kwargs\": {\"algo_cls\": PPO, \"policy\": \"MlpPolicy\", \"verbose\": 1},\n    },\n]\n\ncomparator = AdastopComparator()\ncomparator.compare(managers)\nprint(comparator.managers_paths)"
      ]
    }
  ],
  "metadata": {
    "kernelspec": {
      "display_name": "Python 3",
      "language": "python",
      "name": "python3"
    },
    "language_info": {
      "codemirror_mode": {
        "name": "ipython",
        "version": 3
      },
      "file_extension": ".py",
      "mimetype": "text/x-python",
      "name": "python",
      "nbconvert_exporter": "python",
      "pygments_lexer": "ipython3",
      "version": "3.10.16"
    }
  },
  "nbformat": 4,
  "nbformat_minor": 0
}