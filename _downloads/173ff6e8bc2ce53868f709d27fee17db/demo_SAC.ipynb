{
  "cells": [
    {
      "cell_type": "markdown",
      "metadata": {},
      "source": [
        "\n# SAC Soft Actor-Critic\n\nThis script shows how to train a SAC agent on a Pendulum environment.\n"
      ]
    },
    {
      "cell_type": "code",
      "execution_count": null,
      "metadata": {
        "collapsed": false
      },
      "outputs": [],
      "source": [
        "import time\n\nimport gymnasium as gym\nfrom rlberry_research.agents.torch.sac import SACAgent\nfrom rlberry_research.envs import Pendulum\nfrom rlberry.manager import ExperimentManager\n\n\ndef env_ctor(env, wrap_spaces=True):\n    return env\n\n\n# Setup agent parameters\nenv_name = \"Pendulum\"\nfit_budget = int(2e5)\nagent_name = f\"{env_name}_{fit_budget}_{int(time.time())}\"\n\n# Setup environment parameters\nenv = Pendulum()\nenv = gym.wrappers.TimeLimit(env, max_episode_steps=200)\nenv = gym.wrappers.RecordEpisodeStatistics(env)\nenv_kwargs = dict(env=env)\n\n# Create agent instance\nxp_manager = ExperimentManager(\n    SACAgent,\n    (env_ctor, env_kwargs),\n    fit_budget=fit_budget,\n    n_fit=1,\n    enable_tensorboard=True,\n    agent_name=agent_name,\n)\n\n# Start training\nxp_manager.fit()"
      ]
    }
  ],
  "metadata": {
    "kernelspec": {
      "display_name": "Python 3",
      "language": "python",
      "name": "python3"
    },
    "language_info": {
      "codemirror_mode": {
        "name": "ipython",
        "version": 3
      },
      "file_extension": ".py",
      "mimetype": "text/x-python",
      "name": "python",
      "nbconvert_exporter": "python",
      "pygments_lexer": "ipython3",
      "version": "3.10.16"
    }
  },
  "nbformat": 4,
  "nbformat_minor": 0
}