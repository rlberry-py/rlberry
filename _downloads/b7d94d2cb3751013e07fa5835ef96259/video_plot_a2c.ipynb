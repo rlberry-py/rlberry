{
  "cells": [
    {
      "cell_type": "markdown",
      "metadata": {},
      "source": [
        "\n# A demo of A2C algorithm in PBall2D environment\n Illustration of how to set up an A2C algorithm in rlberry.\n The environment chosen here is PBALL2D environment.\n\n.. video:: ../../video_plot_a2c.mp4\n   :width: 600\n"
      ]
    },
    {
      "cell_type": "code",
      "execution_count": null,
      "metadata": {
        "collapsed": false
      },
      "outputs": [],
      "source": [
        "from rlberry_research.agents.torch import A2CAgent\nfrom rlberry_research.envs.benchmarks.ball_exploration import PBall2D\nfrom gymnasium.wrappers import TimeLimit\n\n\nenv = PBall2D()\nenv = TimeLimit(env, max_episode_steps=256)\nn_timesteps = 50_000\nagent = A2CAgent(env, gamma=0.99, learning_rate=0.001)\nagent.fit(budget=n_timesteps)\n\nenv.enable_rendering()\n\nobservation, info = env.reset()\nfor tt in range(200):\n    action = agent.policy(observation)\n    observation, reward, terminated, truncated, info = env.step(action)\n    done = terminated or truncated\n\nvideo = env.save_video(\"_video/video_plot_a2c.mp4\")"
      ]
    }
  ],
  "metadata": {
    "kernelspec": {
      "display_name": "Python 3",
      "language": "python",
      "name": "python3"
    },
    "language_info": {
      "codemirror_mode": {
        "name": "ipython",
        "version": 3
      },
      "file_extension": ".py",
      "mimetype": "text/x-python",
      "name": "python",
      "nbconvert_exporter": "python",
      "pygments_lexer": "ipython3",
      "version": "3.10.16"
    }
  },
  "nbformat": 4,
  "nbformat_minor": 0
}