{
  "cells": [
    {
      "cell_type": "markdown",
      "metadata": {},
      "source": [
        "\n# A demo of Chain environment\n Illustration of Chain environment\n\n.. video:: ../../video_plot_chain.mp4\n   :width: 600\n"
      ]
    },
    {
      "cell_type": "code",
      "execution_count": null,
      "metadata": {
        "collapsed": false
      },
      "outputs": [],
      "source": [
        "from rlberry_scool.envs.finite import Chain\n\nenv = Chain(10, 0.1)\nenv.enable_rendering()\nfor tt in range(5):\n    env.step(env.action_space.sample())\nenv.render()\nenv.save_video(\"_video/video_plot_chain.mp4\")"
      ]
    }
  ],
  "metadata": {
    "kernelspec": {
      "display_name": "Python 3",
      "language": "python",
      "name": "python3"
    },
    "language_info": {
      "codemirror_mode": {
        "name": "ipython",
        "version": 3
      },
      "file_extension": ".py",
      "mimetype": "text/x-python",
      "name": "python",
      "nbconvert_exporter": "python",
      "pygments_lexer": "ipython3",
      "version": "3.10.16"
    }
  },
  "nbformat": 4,
  "nbformat_minor": 0
}