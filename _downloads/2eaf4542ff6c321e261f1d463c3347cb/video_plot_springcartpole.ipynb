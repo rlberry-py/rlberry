{
  "cells": [
    {
      "cell_type": "markdown",
      "metadata": {},
      "source": [
        "\n# A demo of SpringCartPole environment with DQNAgent\nIllustration of the training and video rendering of DQN Agent in\nSpringCartPole environment.\n\nAgent is slightly tuned, but not optimal. This is just for illustration purpose.\n\n.. video:: ../../video_plot_springcartpole.mp4\n   :width: 600\n"
      ]
    },
    {
      "cell_type": "code",
      "execution_count": null,
      "metadata": {
        "collapsed": false
      },
      "outputs": [],
      "source": [
        "from rlberry_research.envs.classic_control import SpringCartPole\nfrom rlberry_research.agents.torch import DQNAgent\nfrom gymnasium.wrappers.time_limit import TimeLimit\n\nmodel_configs = {\n    \"type\": \"MultiLayerPerceptron\",\n    \"layer_sizes\": (256, 256),\n    \"reshape\": False,\n}\n\ninit_kwargs = dict(\n    q_net_constructor=\"rlberry_research.agents.torch.utils.training.model_factory_from_env\",\n    q_net_kwargs=model_configs,\n)\n\nenv = SpringCartPole(obs_trans=False, swing_up=True)\nenv = TimeLimit(env, max_episode_steps=500)\nagent = DQNAgent(env, **init_kwargs)\nagent.fit(budget=1e5)\n\nenv.enable_rendering()\nobservation, info = env.reset()\n\nfor tt in range(1000):\n    action = agent.policy(observation)\n    observation, reward, terminated, truncated, info = env.step(action)\n    done = terminated or truncated\n    if done:\n        observation, info = env.reset()\n\n# Save video\nvideo = env.save_video(\"_video/video_plot_springcartpole.mp4\")"
      ]
    }
  ],
  "metadata": {
    "kernelspec": {
      "display_name": "Python 3",
      "language": "python",
      "name": "python3"
    },
    "language_info": {
      "codemirror_mode": {
        "name": "ipython",
        "version": 3
      },
      "file_extension": ".py",
      "mimetype": "text/x-python",
      "name": "python",
      "nbconvert_exporter": "python",
      "pygments_lexer": "ipython3",
      "version": "3.10.16"
    }
  },
  "nbformat": 4,
  "nbformat_minor": 0
}