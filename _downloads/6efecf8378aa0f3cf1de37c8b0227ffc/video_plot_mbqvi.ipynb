{
  "cells": [
    {
      "cell_type": "markdown",
      "metadata": {},
      "source": [
        "\n# A demo of MBQVI algorithm in Gridworld environment\n Illustration of how to set up an MBQVI algorithm in rlberry.\n The environment chosen here is GridWorld environment.\n\n.. video:: ../../video_plot_mbqvi.mp4\n   :width: 600\n"
      ]
    },
    {
      "cell_type": "code",
      "execution_count": null,
      "metadata": {
        "collapsed": false
      },
      "outputs": [],
      "source": [
        "from rlberry_scool.agents.mbqvi import MBQVIAgent\nfrom rlberry_research.envs.finite import GridWorld\n\nparams = {}\nparams[\"n_samples\"] = 100  # samples per state-action pair\nparams[\"gamma\"] = 0.99\nparams[\"horizon\"] = None\n\nenv = GridWorld(7, 10, walls=((2, 2), (3, 3)), success_probability=0.6)\nagent = MBQVIAgent(env, **params)\ninfo = agent.fit()\nprint(info)\n\n# evaluate policy in a deterministic version of the environment\nenv_eval = GridWorld(7, 10, walls=((2, 2), (3, 3)), success_probability=1.0)\nenv_eval.enable_rendering()\nstate, info = env_eval.reset()\nfor tt in range(50):\n    action = agent.policy(state)\n    next_s, _, _, _, _ = env_eval.step(action)\n    state = next_s\nvideo = env_eval.save_video(\"_video/video_plot_mbqvi.mp4\")"
      ]
    }
  ],
  "metadata": {
    "kernelspec": {
      "display_name": "Python 3",
      "language": "python",
      "name": "python3"
    },
    "language_info": {
      "codemirror_mode": {
        "name": "ipython",
        "version": 3
      },
      "file_extension": ".py",
      "mimetype": "text/x-python",
      "name": "python",
      "nbconvert_exporter": "python",
      "pygments_lexer": "ipython3",
      "version": "3.10.16"
    }
  },
  "nbformat": 4,
  "nbformat_minor": 0
}