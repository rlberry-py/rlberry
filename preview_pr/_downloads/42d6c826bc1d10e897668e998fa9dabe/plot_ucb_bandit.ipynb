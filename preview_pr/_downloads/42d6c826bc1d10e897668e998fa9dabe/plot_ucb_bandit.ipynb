{
  "cells": [
    {
      "cell_type": "markdown",
      "metadata": {},
      "source": [
        "\n# UCB Bandit cumulative regret\n\nThis script shows how to define a bandit environment and an UCB Index-based algorithm.\n"
      ]
    },
    {
      "cell_type": "code",
      "execution_count": null,
      "metadata": {
        "collapsed": false
      },
      "outputs": [],
      "source": [
        "import numpy as np\nfrom rlberry_research.envs.bandits import NormalBandit\nfrom rlberry_research.agents.bandits import IndexAgent, makeSubgaussianUCBIndex\nfrom rlberry.manager import ExperimentManager, plot_writer_data\nimport matplotlib.pyplot as plt\n\n\n# Agents definition\n\n\nclass UCBAgent(IndexAgent):\n    \"\"\"UCB agent for sigma-subgaussian bandits\"\"\"\n\n    name = \"UCB Agent\"\n\n    def __init__(self, env, sigma=1, **kwargs):\n        index, _ = makeSubgaussianUCBIndex(sigma)\n        IndexAgent.__init__(self, env, index, writer_extra=\"action\", **kwargs)\n\n\n# Parameters of the problem\nmeans = np.array([0, 0.9, 1])  # means of the arms\nT = 3000  # Horizon\nM = 20  # number of MC simu\n\n# Construction of the experiment\n\nenv_ctor = NormalBandit\nenv_kwargs = {\"means\": means, \"stds\": 2 * np.ones(len(means))}\n\nxp_manager = ExperimentManager(\n    UCBAgent,\n    (env_ctor, env_kwargs),\n    fit_budget=T,\n    init_kwargs={\"sigma\": 2},\n    n_fit=M,\n    parallelization=\"process\",\n    mp_context=\"fork\",\n)\n# these parameters should give parallel computing even in notebooks\n\n\n# Agent training\n\nxp_manager.fit()\n\n\n# Compute and plot (pseudo-)regret\ndef compute_pseudo_regret(actions):\n    return np.cumsum(np.max(means) - means[actions.astype(int)])\n\n\nfig = plt.figure(1, figsize=(5, 3))\nax = plt.gca()\noutput = plot_writer_data(\n    [xp_manager],\n    tag=\"action\",\n    preprocess_func=compute_pseudo_regret,\n    title=\"Cumulative Pseudo-Regret\",\n    ax=ax,\n)"
      ]
    }
  ],
  "metadata": {
    "kernelspec": {
      "display_name": "Python 3",
      "language": "python",
      "name": "python3"
    },
    "language_info": {
      "codemirror_mode": {
        "name": "ipython",
        "version": 3
      },
      "file_extension": ".py",
      "mimetype": "text/x-python",
      "name": "python",
      "nbconvert_exporter": "python",
      "pygments_lexer": "ipython3",
      "version": "3.10.15"
    }
  },
  "nbformat": 4,
  "nbformat_minor": 0
}