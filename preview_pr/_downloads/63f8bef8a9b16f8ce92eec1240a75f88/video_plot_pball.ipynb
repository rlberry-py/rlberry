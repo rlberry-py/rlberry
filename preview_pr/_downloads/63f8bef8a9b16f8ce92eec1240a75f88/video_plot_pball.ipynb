{
  "cells": [
    {
      "cell_type": "markdown",
      "metadata": {},
      "source": [
        "\n# A demo of PBALL2D environment\n Illustration of PBall2D environment\n\n.. video:: ../../video_plot_pball.mp4\n   :width: 600\n"
      ]
    },
    {
      "cell_type": "code",
      "execution_count": null,
      "metadata": {
        "collapsed": false
      },
      "outputs": [],
      "source": [
        "import numpy as np\nfrom rlberry_research.envs.benchmarks.ball_exploration import PBall2D\n\np = 5\nA = np.array([[1.0, 0.1], [-0.1, 1.0]])\n\nreward_amplitudes = np.array([1.0, 0.5, 0.5])\nreward_smoothness = np.array([0.25, 0.25, 0.25])\n\nreward_centers = [\n    np.array([0.75 * np.cos(np.pi / 2), 0.75 * np.sin(np.pi / 2)]),\n    np.array([0.75 * np.cos(np.pi / 6), 0.75 * np.sin(np.pi / 6)]),\n    np.array([0.75 * np.cos(5 * np.pi / 6), 0.75 * np.sin(5 * np.pi / 6)]),\n]\n\naction_list = [\n    0.1 * np.array([1, 0]),\n    -0.1 * np.array([1, 0]),\n    0.1 * np.array([0, 1]),\n    -0.1 * np.array([0, 1]),\n]\n\nenv = PBall2D(\n    p=p,\n    A=A,\n    reward_amplitudes=reward_amplitudes,\n    reward_centers=reward_centers,\n    reward_smoothness=reward_smoothness,\n    action_list=action_list,\n)\n\nenv.enable_rendering()\n\nfor ii in range(5):\n    env.step(1)\n    env.step(3)\n\nenv.render()\nvideo = env.save_video(\"_video/video_plot_pball.mp4\")"
      ]
    }
  ],
  "metadata": {
    "kernelspec": {
      "display_name": "Python 3",
      "language": "python",
      "name": "python3"
    },
    "language_info": {
      "codemirror_mode": {
        "name": "ipython",
        "version": 3
      },
      "file_extension": ".py",
      "mimetype": "text/x-python",
      "name": "python",
      "nbconvert_exporter": "python",
      "pygments_lexer": "ipython3",
      "version": "3.10.15"
    }
  },
  "nbformat": 4,
  "nbformat_minor": 0
}