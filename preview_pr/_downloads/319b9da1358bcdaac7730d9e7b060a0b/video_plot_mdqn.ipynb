{
  "cells": [
    {
      "cell_type": "markdown",
      "metadata": {},
      "source": [
        "\n# A demo of M-DQN algorithm in CartPole environment\nIllustration of how to set up a M-DQN algorithm in rlberry.\nThe environment chosen here is gym's cartpole environment.\n\nAs DQN can be computationally intensive and hard to tune,\none can use tensorboard to visualize the training of the DQN\nusing the following command:\n\n```bash\ntensorboard --logdir {Path(agent.writer.log_dir).parent}\n```\n.. video:: ../../video_plot_mdqn.mp4\n   :width: 600\n"
      ]
    },
    {
      "cell_type": "code",
      "execution_count": null,
      "metadata": {
        "collapsed": false
      },
      "outputs": [],
      "source": [
        "from rlberry.envs import gym_make\nfrom torch.utils.tensorboard import SummaryWriter\n\nfrom rlberry_research.agents.torch.dqn import MunchausenDQNAgent\nfrom rlberry.utils.logging import configure_logging\n\nfrom gymnasium.wrappers.record_video import RecordVideo\nimport shutil\nimport os\n\n\nconfigure_logging(level=\"INFO\")\n\nenv = gym_make(\"CartPole-v1\", render_mode=\"rgb_array\")\nagent = MunchausenDQNAgent(env, epsilon_decay_interval=1000)\nagent.set_writer(SummaryWriter())\n\nprint(f\"Running Munchausen DQN on {env}\")\n\nagent.fit(budget=10**5)\nenv = RecordVideo(env, \"_video/temp\")\n\n\nfor episode in range(3):\n    done = False\n    observation, info = env.reset()\n    while not done:\n        action = agent.policy(observation)\n        observation, reward, terminated, truncated, info = env.step(action)\n        done = terminated or truncated\nenv.close()\n\n# need to move the final result inside the folder used for documentation\nos.rename(\"_video/temp/rl-video-episode-0.mp4\", \"_video/video_plot_mdqn.mp4\")\nshutil.rmtree(\"_video/temp/\")"
      ]
    }
  ],
  "metadata": {
    "kernelspec": {
      "display_name": "Python 3",
      "language": "python",
      "name": "python3"
    },
    "language_info": {
      "codemirror_mode": {
        "name": "ipython",
        "version": 3
      },
      "file_extension": ".py",
      "mimetype": "text/x-python",
      "name": "python",
      "nbconvert_exporter": "python",
      "pygments_lexer": "ipython3",
      "version": "3.10.15"
    }
  },
  "nbformat": 4,
  "nbformat_minor": 0
}