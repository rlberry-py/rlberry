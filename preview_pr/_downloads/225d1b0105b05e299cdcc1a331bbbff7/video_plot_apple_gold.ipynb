{
  "cells": [
    {
      "cell_type": "markdown",
      "metadata": {},
      "source": [
        "\n# A demo of AppleGold environment\n Illustration of Applegold environment on which we train a ValueIteration\n algorithm.\n\n.. video:: ../../video_plot_apple_gold.mp4\n   :width: 600\n"
      ]
    },
    {
      "cell_type": "code",
      "execution_count": null,
      "metadata": {
        "collapsed": false
      },
      "outputs": [],
      "source": [
        "from rlberry_research.envs.benchmarks.grid_exploration.apple_gold import AppleGold\nfrom rlberry_scool.agents.dynprog import ValueIterationAgent\n\nenv = AppleGold(reward_free=False, array_observation=False)\n\nagent = ValueIterationAgent(env, gamma=0.9)\ninfo = agent.fit()\nprint(info)\n\nenv.enable_rendering()\n\nobservation, info = env.reset()\nfor tt in range(5):\n    action = agent.policy(observation)\n    observation, reward, terminated, truncated, info = env.step(action)\n    done = terminated or truncated\n    if done:\n        break\nenv.render()\nvideo = env.save_video(\"_video/video_plot_apple_gold.mp4\")"
      ]
    }
  ],
  "metadata": {
    "kernelspec": {
      "display_name": "Python 3",
      "language": "python",
      "name": "python3"
    },
    "language_info": {
      "codemirror_mode": {
        "name": "ipython",
        "version": 3
      },
      "file_extension": ".py",
      "mimetype": "text/x-python",
      "name": "python",
      "nbconvert_exporter": "python",
      "pygments_lexer": "ipython3",
      "version": "3.10.15"
    }
  },
  "nbformat": 4,
  "nbformat_minor": 0
}