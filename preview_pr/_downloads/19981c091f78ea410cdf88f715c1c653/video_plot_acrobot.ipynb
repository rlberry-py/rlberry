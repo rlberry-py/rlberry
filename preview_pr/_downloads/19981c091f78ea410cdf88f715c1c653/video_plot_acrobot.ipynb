{
  "cells": [
    {
      "cell_type": "markdown",
      "metadata": {},
      "source": [
        "\n# A demo of Acrobot environment with RSUCBVIAgent\nIllustration of the training and video rendering of RSUCBVI Agent in Acrobot\nenvironment.\n\n.. video:: ../../video_plot_acrobot.mp4\n   :width: 600\n"
      ]
    },
    {
      "cell_type": "code",
      "execution_count": null,
      "metadata": {
        "collapsed": false
      },
      "outputs": [],
      "source": [
        "from rlberry_research.envs import Acrobot\nfrom rlberry_research.agents import RSUCBVIAgent\nfrom rlberry.wrappers import RescaleRewardWrapper\n\nenv = Acrobot()\n# rescale rewards to [0, 1]\nenv = RescaleRewardWrapper(env, (0.0, 1.0))\nn_episodes = 300\nagent = RSUCBVIAgent(\n    env, gamma=0.99, horizon=300, bonus_scale_factor=0.01, min_dist=0.25\n)\nagent.fit(budget=n_episodes)\n\nenv.enable_rendering()\nobservation, info = env.reset()\nfor tt in range(2 * agent.horizon):\n    action = agent.policy(observation)\n    observation, reward, terminated, truncated, info = env.step(action)\n    done = terminated or truncated\n\n# Save video\nvideo = env.save_video(\"_video/video_plot_acrobot.mp4\")"
      ]
    }
  ],
  "metadata": {
    "kernelspec": {
      "display_name": "Python 3",
      "language": "python",
      "name": "python3"
    },
    "language_info": {
      "codemirror_mode": {
        "name": "ipython",
        "version": 3
      },
      "file_extension": ".py",
      "mimetype": "text/x-python",
      "name": "python",
      "nbconvert_exporter": "python",
      "pygments_lexer": "ipython3",
      "version": "3.10.15"
    }
  },
  "nbformat": 4,
  "nbformat_minor": 0
}