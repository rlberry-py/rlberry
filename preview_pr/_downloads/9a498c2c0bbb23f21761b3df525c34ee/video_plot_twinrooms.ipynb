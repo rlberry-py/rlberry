{
  "cells": [
    {
      "cell_type": "markdown",
      "metadata": {},
      "source": [
        "\n# A demo of twinrooms environment\n Illustration of TwinRooms environment\n\n.. video:: ../../video_plot_twinrooms.mp4\n   :width: 600\n"
      ]
    },
    {
      "cell_type": "code",
      "execution_count": null,
      "metadata": {
        "collapsed": false
      },
      "outputs": [],
      "source": [
        "from rlberry_research.envs.benchmarks.generalization.twinrooms import TwinRooms\nfrom rlberry_scool.agents.mbqvi import MBQVIAgent\nfrom rlberry.wrappers.discretize_state import DiscretizeStateWrapper\nfrom rlberry.seeding import Seeder\n\nseeder = Seeder(123)\n\nenv = TwinRooms()\nenv = DiscretizeStateWrapper(env, n_bins=20)\nenv.reseed(seeder)\nhorizon = 20\nagent = MBQVIAgent(env, n_samples=10, gamma=1.0, horizon=horizon)\nagent.reseed(seeder)\nagent.fit()\n\nobservation, info = env.reset()\nenv.enable_rendering()\nfor ii in range(10):\n    action = agent.policy(observation)\n    observation, reward, terminated, truncated, info = env.step(action)\n    done = terminated or truncated\n\n    if (ii + 1) % horizon == 0:\n        observation, info = env.reset()\n\nenv.render()\nvideo = env.save_video(\"_video/video_plot_twinrooms.mp4\")"
      ]
    }
  ],
  "metadata": {
    "kernelspec": {
      "display_name": "Python 3",
      "language": "python",
      "name": "python3"
    },
    "language_info": {
      "codemirror_mode": {
        "name": "ipython",
        "version": 3
      },
      "file_extension": ".py",
      "mimetype": "text/x-python",
      "name": "python",
      "nbconvert_exporter": "python",
      "pygments_lexer": "ipython3",
      "version": "3.10.15"
    }
  },
  "nbformat": 4,
  "nbformat_minor": 0
}