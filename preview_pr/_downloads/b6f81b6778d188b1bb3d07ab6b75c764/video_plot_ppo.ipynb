{
  "cells": [
    {
      "cell_type": "markdown",
      "metadata": {},
      "source": [
        "\n# A demo of PPO algorithm in PBall2D environment\n Illustration of how to set up an PPO algorithm in rlberry.\n The environment chosen here is PBALL2D environment.\n\n.. video:: ../../video_plot_ppo.mp4\n   :width: 600\n"
      ]
    },
    {
      "cell_type": "code",
      "execution_count": null,
      "metadata": {
        "collapsed": false
      },
      "outputs": [],
      "source": [
        "from rlberry_research.agents.torch import PPOAgent\nfrom rlberry_research.envs.benchmarks.ball_exploration import PBall2D\n\n\nenv = PBall2D()\nn_steps = 3e3\n\nagent = PPOAgent(env)\nagent.fit(budget=n_steps)\n\nenv.enable_rendering()\nobservation, info = env.reset()\nfor tt in range(200):\n    action = agent.policy(observation)\n    observation, reward, terminated, truncated, info = env.step(action)\n    done = terminated or truncated\n\nvideo = env.save_video(\"_video/video_plot_ppo.mp4\")"
      ]
    }
  ],
  "metadata": {
    "kernelspec": {
      "display_name": "Python 3",
      "language": "python",
      "name": "python3"
    },
    "language_info": {
      "codemirror_mode": {
        "name": "ipython",
        "version": 3
      },
      "file_extension": ".py",
      "mimetype": "text/x-python",
      "name": "python",
      "nbconvert_exporter": "python",
      "pygments_lexer": "ipython3",
      "version": "3.10.15"
    }
  },
  "nbformat": 4,
  "nbformat_minor": 0
}