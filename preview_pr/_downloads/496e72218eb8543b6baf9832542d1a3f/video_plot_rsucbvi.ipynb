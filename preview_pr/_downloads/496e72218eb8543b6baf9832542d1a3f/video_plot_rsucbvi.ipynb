{
  "cells": [
    {
      "cell_type": "markdown",
      "metadata": {},
      "source": [
        "\n# A demo of RSUCBVI algorithm in MountainCar environment\n Illustration of how to set up an RSUCBVI algorithm in rlberry.\n The environment chosen here is MountainCar environment.\n\n.. video:: ../../video_plot_rsucbvi.mp4\n   :width: 600\n"
      ]
    },
    {
      "cell_type": "code",
      "execution_count": null,
      "metadata": {
        "collapsed": false
      },
      "outputs": [],
      "source": [
        "from rlberry_research.agents import RSUCBVIAgent\nfrom rlberry_research.envs.classic_control import MountainCar\n\nenv = MountainCar()\nhorizon = 170\nprint(\"Running RS-UCBVI on %s\" % env.name)\nagent = RSUCBVIAgent(env, gamma=0.99, horizon=horizon, bonus_scale_factor=0.1)\nagent.fit(budget=500)\n\nenv.enable_rendering()\nobservation, info = env.reset()\nfor tt in range(200):\n    action = agent.policy(observation)\n    observation, reward, terminated, truncated, info = env.step(action)\n    done = terminated or truncated\n\nvideo = env.save_video(\"_video/video_plot_rsucbvi.mp4\")"
      ]
    }
  ],
  "metadata": {
    "kernelspec": {
      "display_name": "Python 3",
      "language": "python",
      "name": "python3"
    },
    "language_info": {
      "codemirror_mode": {
        "name": "ipython",
        "version": 3
      },
      "file_extension": ".py",
      "mimetype": "text/x-python",
      "name": "python",
      "nbconvert_exporter": "python",
      "pygments_lexer": "ipython3",
      "version": "3.10.15"
    }
  },
  "nbformat": 4,
  "nbformat_minor": 0
}