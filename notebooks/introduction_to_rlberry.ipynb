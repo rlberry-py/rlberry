{
  "nbformat": 4,
  "nbformat_minor": 2,
  "metadata": {
    "colab": {
      "name": "Introduction to rlberry.ipynb",
      "provenance": [],
      "collapsed_sections": [],
      "include_colab_link": true
    },
    "kernelspec": {
      "name": "python3",
      "display_name": "Python 3.7.11 64-bit ('rlberry': conda)"
    },
    "language_info": {
      "name": "python",
      "version": "3.7.11",
      "mimetype": "text/x-python",
      "codemirror_mode": {
        "name": "ipython",
        "version": 3
      },
      "pygments_lexer": "ipython3",
      "nbconvert_exporter": "python",
      "file_extension": ".py"
    },
    "interpreter": {
      "hash": "77626d6da4f24721c6cde6592fa6521e12f75aa06b21b1ac25df0859aa7f2530"
    }
  },
  "cells": [
    {
      "cell_type": "markdown",
      "source": [
        "<a href=\"https://colab.research.google.com/github/rlberry-py/rlberry/blob/main/notebooks/introduction_to_rlberry.ipynb\" target=\"_parent\"><img src=\"https://colab.research.google.com/assets/colab-badge.svg\" alt=\"Open In Colab\"/></a>"
      ],
      "metadata": {
        "id": "view-in-github",
        "colab_type": "text"
      }
    },
    {
      "cell_type": "markdown",
      "source": [
        "# Introduction to\n",
        "<img src=\"https://raw.githubusercontent.com/rlberry-py/rlberry/main/assets/logo_wide.svg\" width=\"700\"/>\n",
        "\n",
        "\n"
      ],
      "metadata": {
        "id": "gVtvJ8vqQehR"
      }
    },
    {
      "cell_type": "markdown",
      "source": [
        "# Colab setup"
      ],
      "metadata": {
        "id": "BR9N_lSyTh-E"
      }
    },
    {
      "cell_type": "code",
      "execution_count": 1,
      "source": [
        "from IPython import get_ipython\n",
        "COLAB = False\n",
        "if 'google.colab' in str(get_ipython()):\n",
        "    COLAB = True\n",
        "\n",
        "if COLAB:\n",
        "    # install rlberry library\n",
        "    !git clone https://github.com/rlberry-py/rlberry.git \n",
        "    !cd rlberry && git pull && pip install -e . > /dev/null 2>&1\n",
        "\n",
        "    # install ffmpeg-python for saving videos\n",
        "    !pip install ffmpeg-python > /dev/null 2>&1\n",
        "\n",
        "    # install optuna for hyperparameter optimization\n",
        "    !pip install optuna > /dev/null 2>&1\n",
        "\n",
        "    # packages required to show video\n",
        "    !pip install pyvirtualdisplay > /dev/null 2>&1\n",
        "    !apt-get install -y xvfb python-opengl ffmpeg > /dev/null 2>&1\n",
        "\n",
        "    print(\"\")\n",
        "    print(\" ~~~  Libraries installed, please restart the runtime! ~~~ \")\n",
        "    print(\"\")\n"
      ],
      "outputs": [],
      "metadata": {
        "id": "j2VU8Y7xQbSg",
        "colab": {
          "base_uri": "https://localhost:8080/"
        },
        "outputId": "71102a98-a446-49a4-968c-751817e9edc8"
      }
    },
    {
      "cell_type": "code",
      "execution_count": 2,
      "source": [
        "# Create directory for saving videos\n",
        "!mkdir videos > /dev/null 2>&1\n",
        "\n",
        "# Initialize display and import function to show videos\n",
        "import rlberry.colab_utils.display_setup\n",
        "from rlberry.colab_utils.display_setup import show_video"
      ],
      "outputs": [
        {
          "output_type": "stream",
          "name": "stdout",
          "text": [
            "/bin/bash: /home/omardd/miniconda3/envs/rlberry/lib/libtinfo.so.6: no version information available (required by /bin/bash)\n"
          ]
        }
      ],
      "metadata": {
        "id": "rvkt6z9pVUnv"
      }
    },
    {
      "cell_type": "markdown",
      "source": [
        "# Interacting with a simple environment"
      ],
      "metadata": {
        "id": "BCCyreAiWikz"
      }
    },
    {
      "cell_type": "code",
      "execution_count": 3,
      "source": [
        "from rlberry.envs import GridWorld\n",
        "\n",
        "# A grid world is a simple environment with finite states and actions, on which \n",
        "# we can test simple algorithms.\n",
        "# -> The reward function can be accessed by: env.R[state, action]\n",
        "# -> And the transitions: env.P[state, action, next_state]\n",
        "env_ctor = GridWorld\n",
        "env_kwargs =dict(nrows=3, ncols=10,\n",
        "                reward_at = {(1,1):0.1, (2, 9):1.0},\n",
        "                walls=((1,4),(2,4), (1,5)),\n",
        "                success_probability=0.9)\n",
        "env = env_ctor(**env_kwargs)\n",
        "\n",
        "# Let's visuzalize a random policy in this environment!\n",
        "env.enable_rendering()\n",
        "env.reset()\n",
        "for tt in range(20):\n",
        "    action = env.action_space.sample()\n",
        "    next_state, reward, is_terminal, info = env.step(action)\n",
        "\n",
        "# save video and clear buffer\n",
        "env.save_video('./videos/gw.mp4', framerate=5)\n",
        "env.clear_render_buffer()\n",
        "# show video\n",
        "show_video('./videos/gw.mp4')"
      ],
      "outputs": [
        {
          "output_type": "stream",
          "name": "stderr",
          "text": [
            "[INFO] OpenGL_accelerate module loaded \n",
            "[INFO] Using accelerated ArrayDatatype \n",
            "ffmpeg: /home/omardd/miniconda3/envs/rlberry/lib/libtinfo.so.6: no version information available (required by /lib/x86_64-linux-gnu/libcaca.so.0)\n",
            "ffmpeg: /home/omardd/miniconda3/envs/rlberry/lib/libncursesw.so.6: no version information available (required by /lib/x86_64-linux-gnu/libcaca.so.0)\n",
            "ffmpeg: /home/omardd/miniconda3/envs/rlberry/lib/libncursesw.so.6: no version information available (required by /lib/x86_64-linux-gnu/libcaca.so.0)\n",
            "ffmpeg version 4.2.4-1ubuntu0.1 Copyright (c) 2000-2020 the FFmpeg developers\n",
            "  built with gcc 9 (Ubuntu 9.3.0-10ubuntu2)\n",
            "  configuration: --prefix=/usr --extra-version=1ubuntu0.1 --toolchain=hardened --libdir=/usr/lib/x86_64-linux-gnu --incdir=/usr/include/x86_64-linux-gnu --arch=amd64 --enable-gpl --disable-stripping --enable-avresample --disable-filter=resample --enable-avisynth --enable-gnutls --enable-ladspa --enable-libaom --enable-libass --enable-libbluray --enable-libbs2b --enable-libcaca --enable-libcdio --enable-libcodec2 --enable-libflite --enable-libfontconfig --enable-libfreetype --enable-libfribidi --enable-libgme --enable-libgsm --enable-libjack --enable-libmp3lame --enable-libmysofa --enable-libopenjpeg --enable-libopenmpt --enable-libopus --enable-libpulse --enable-librsvg --enable-librubberband --enable-libshine --enable-libsnappy --enable-libsoxr --enable-libspeex --enable-libssh --enable-libtheora --enable-libtwolame --enable-libvidstab --enable-libvorbis --enable-libvpx --enable-libwavpack --enable-libwebp --enable-libx265 --enable-libxml2 --enable-libxvid --enable-libzmq --enable-libzvbi --enable-lv2 --enable-omx --enable-openal --enable-opencl --enable-opengl --enable-sdl2 --enable-libdc1394 --enable-libdrm --enable-libiec61883 --enable-nvenc --enable-chromaprint --enable-frei0r --enable-libx264 --enable-shared\n",
            "  libavutil      56. 31.100 / 56. 31.100\n",
            "  libavcodec     58. 54.100 / 58. 54.100\n",
            "  libavformat    58. 29.100 / 58. 29.100\n",
            "  libavdevice    58.  8.100 / 58.  8.100\n",
            "  libavfilter     7. 57.100 /  7. 57.100\n",
            "  libavresample   4.  0.  0 /  4.  0.  0\n",
            "  libswscale      5.  5.100 /  5.  5.100\n",
            "  libswresample   3.  5.100 /  3.  5.100\n",
            "  libpostproc    55.  5.100 / 55.  5.100\n",
            "Input #0, rawvideo, from 'pipe:':\n",
            "  Duration: N/A, start: 0.000000, bitrate: 23040 kb/s\n",
            "    Stream #0:0: Video: rawvideo (RGB[24] / 0x18424752), rgb24, 800x240, 23040 kb/s, 5 tbr, 5 tbn, 5 tbc\n",
            "Stream mapping:\n",
            "  Stream #0:0 -> #0:0 (rawvideo (native) -> h264 (libx264))\n",
            "[libx264 @ 0x55da6f1225c0] using cpu capabilities: MMX2 SSE2Fast SSSE3 SSE4.2 AVX FMA3 BMI2 AVX2\n",
            "[libx264 @ 0x55da6f1225c0] profile High, level 2.1\n",
            "[libx264 @ 0x55da6f1225c0] 264 - core 155 r2917 0a84d98 - H.264/MPEG-4 AVC codec - Copyleft 2003-2018 - http://www.videolan.org/x264.html - options: cabac=1 ref=3 deblock=1:0:0 analyse=0x3:0x113 me=hex subme=7 psy=1 psy_rd=1.00:0.00 mixed_ref=1 me_range=16 chroma_me=1 trellis=1 8x8dct=1 cqm=0 deadzone=21,11 fast_pskip=1 chroma_qp_offset=-2 threads=6 lookahead_threads=1 sliced_threads=0 nr=0 decimate=1 interlaced=0 bluray_compat=0 constrained_intra=0 bframes=3 b_pyramid=2 b_adapt=1 b_bias=0 direct=1 weightb=1 open_gop=0 weightp=2 keyint=250 keyint_min=5 scenecut=40 intra_refresh=0 rc_lookahead=40 rc=crf mbtree=1 crf=23.0 qcomp=0.60 qpmin=0 qpmax=69 qpstep=4 ip_ratio=1.40 aq=1:1.00\n",
            "Output #0, mp4, to './videos/gw.mp4':\n",
            "  Metadata:\n",
            "    encoder         : Lavf58.29.100\n",
            "    Stream #0:0: Video: h264 (libx264) (avc1 / 0x31637661), yuv420p, 800x240, q=-1--1, 5 fps, 10240 tbn, 5 tbc\n",
            "    Metadata:\n",
            "      encoder         : Lavc58.54.100 libx264\n",
            "    Side data:\n",
            "      cpb: bitrate max/min/avg: 0/0/0 buffer size: 0 vbv_delay: -1\n",
            "frame=   21 fps=0.0 q=-1.0 Lsize=       8kB time=00:00:03.60 bitrate=  19.3kbits/s speed=40.5x    \n",
            "video:7kB audio:0kB subtitle:0kB other streams:0kB global headers:0kB muxing overhead: 14.178712%\n",
            "[libx264 @ 0x55da6f1225c0] frame I:1     Avg QP: 6.18  size:  1611\n",
            "[libx264 @ 0x55da6f1225c0] frame P:12    Avg QP:19.76  size:   329\n",
            "[libx264 @ 0x55da6f1225c0] frame B:8     Avg QP:16.26  size:   170\n",
            "[libx264 @ 0x55da6f1225c0] consecutive B-frames: 33.3% 47.6%  0.0% 19.0%\n",
            "[libx264 @ 0x55da6f1225c0] mb I  I16..4: 96.8%  0.0%  3.2%\n",
            "[libx264 @ 0x55da6f1225c0] mb P  I16..4:  0.4%  0.8%  0.7%  P16..4:  0.1%  0.0%  0.0%  0.0%  0.0%    skip:97.9%\n",
            "[libx264 @ 0x55da6f1225c0] mb B  I16..4:  0.1%  0.3%  0.3%  B16..8:  1.1%  0.0%  0.0%  direct: 0.1%  skip:98.1%  L0:29.6% L1:70.4% BI: 0.0%\n",
            "[libx264 @ 0x55da6f1225c0] 8x8 transform intra:9.6% inter:0.0%\n",
            "[libx264 @ 0x55da6f1225c0] coded y,uvDC,uvAC intra: 7.4% 13.6% 11.9% inter: 0.0% 0.1% 0.1%\n",
            "[libx264 @ 0x55da6f1225c0] i16 v,h,dc,p: 89%  3%  8%  0%\n",
            "[libx264 @ 0x55da6f1225c0] i8 v,h,dc,ddl,ddr,vr,hd,vl,hu:  0%  0% 100%  0%  0%  0%  0%  0%  0%\n",
            "[libx264 @ 0x55da6f1225c0] i4 v,h,dc,ddl,ddr,vr,hd,vl,hu: 18% 13% 51%  6%  7%  2%  1%  2%  1%\n",
            "[libx264 @ 0x55da6f1225c0] i8c dc,h,v,p: 81%  9%  4%  6%\n",
            "[libx264 @ 0x55da6f1225c0] Weighted P-Frames: Y:0.0% UV:0.0%\n",
            "[libx264 @ 0x55da6f1225c0] ref B L0: 57.1% 42.9%\n",
            "[libx264 @ 0x55da6f1225c0] kb/s:13.18\n"
          ]
        },
        {
          "output_type": "display_data",
          "data": {
            "text/html": [
              "<video alt=\"videos/gw.mp4\" autoplay\n",
              "                      loop controls style=\"height: 400px;\">\n",
              "                    <source src=\"data:video/mp4;base64,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\" type=\"video/mp4\" />\n",
              "                 </video>"
            ],
            "text/plain": [
              "<IPython.core.display.HTML object>"
            ]
          },
          "metadata": {}
        }
      ],
      "metadata": {
        "colab": {
          "base_uri": "https://localhost:8080/",
          "height": 441
        },
        "id": "M5qrjKk3WiHE",
        "outputId": "b8b7cb91-1bfc-4178-8741-6904173ad209"
      }
    },
    {
      "cell_type": "markdown",
      "source": [
        "# Creating an agent\n",
        "\n",
        "Let's create an agent that runs value iteration to find a near-optimal policy.\n",
        "This is possible in our GridWorld, because we have access to the transitions `env.P` and the rewards `env.R`.\n",
        "\n",
        "\n",
        "An `Agent` must implement at least two methods, **fit()** and **eval()**. These methods train and evaluate the agent, respectively. A convenient subclass of `Agent`, `AgentWithSimplePolicy`, requires a **policy()** method instead of **eval()** and implements a default `eval()` method that performs Monte-Carlo policy evaluation.\n",
        "\n",
        "It can also implement **sample_parameters()** used for hyperparameter optimization with [Optuna](https://optuna.org/).\n"
      ],
      "metadata": {
        "id": "jWgoh5yoYuDE"
      }
    },
    {
      "cell_type": "code",
      "execution_count": 4,
      "source": [
        "import numpy as np\n",
        "from rlberry.agents import AgentWithSimplePolicy\n",
        "\n",
        "class ValueIterationAgent(AgentWithSimplePolicy):\n",
        "    name = 'ValueIterationAgent'\n",
        "    def __init__(self, env, gamma=0.99, epsilon=1e-5, **kwargs):   # it's important to put **kwargs to ensure compatibility with the base class \n",
        "        \"\"\"\n",
        "        gamma: discount factor\n",
        "        episilon: precision of value iteration\n",
        "        \"\"\"\n",
        "        AgentWithSimplePolicy.__init__(self, env, **kwargs) # self.env is initialized in the base class\n",
        "\n",
        "        self.gamma = gamma\n",
        "        self.epsilon = epsilon \n",
        "        self.Q = None  # Q function to be computed in fit()\n",
        "    \n",
        "    def fit(self, budget=None, **kwargs):  \n",
        "        \"\"\"\n",
        "        Run value iteration.\n",
        "        \"\"\"\n",
        "        S, A = env.observation_space.n, env.action_space.n \n",
        "        Q = np.zeros((S, A))\n",
        "        V = np.zeros(S)\n",
        "\n",
        "        while True:\n",
        "            TQ = np.zeros((S, A))\n",
        "            for ss in range(S):\n",
        "                for aa in range(A):\n",
        "                    TQ[ss, aa] = env.R[ss, aa] + self.gamma*env.P[ss, aa, :].dot(V)\n",
        "            V = TQ.max(axis=1)\n",
        "\n",
        "            if np.abs(TQ-Q).max() < self.epsilon:\n",
        "                break\n",
        "            Q = TQ\n",
        "        self.Q = Q\n",
        "          \n",
        "    def policy(self, observation):\n",
        "        return self.Q[observation, :].argmax()\n",
        "\n",
        "    \n",
        "    @classmethod\n",
        "    def sample_parameters(cls, trial):\n",
        "      \"\"\"\n",
        "      Sample hyperparameters for hyperparam optimization using Optuna (https://optuna.org/)\n",
        "      \"\"\"\n",
        "      gamma = trial.suggest_categorical('gamma', [0.1, 0.25, 0.5, 0.75, 0.99])\n",
        "      return {'gamma':gamma}\n"
      ],
      "outputs": [],
      "metadata": {
        "id": "AJVMjW7WYspi"
      }
    },
    {
      "cell_type": "code",
      "execution_count": 5,
      "source": [
        "# Now, let's fit and test the agent!\n",
        "agent = ValueIterationAgent(env)\n",
        "agent.fit()\n",
        "\n",
        "\n",
        "# Run agent's policy\n",
        "env.enable_rendering()\n",
        "state = env.reset()\n",
        "for tt in range(20):\n",
        "    action = agent.policy(state)\n",
        "    state, reward, is_terminal, info = env.step(action)\n",
        "\n",
        "# save video and clear buffer\n",
        "env.save_video('./videos/gw.mp4', framerate=5)\n",
        "env.clear_render_buffer()\n",
        "# show video\n",
        "show_video('./videos/gw.mp4')\n"
      ],
      "outputs": [
        {
          "output_type": "stream",
          "name": "stderr",
          "text": [
            "ffmpeg: /home/omardd/miniconda3/envs/rlberry/lib/libtinfo.so.6: no version information available (required by /lib/x86_64-linux-gnu/libcaca.so.0)\n",
            "ffmpeg: /home/omardd/miniconda3/envs/rlberry/lib/libncursesw.so.6: no version information available (required by /lib/x86_64-linux-gnu/libcaca.so.0)\n",
            "ffmpeg: /home/omardd/miniconda3/envs/rlberry/lib/libncursesw.so.6: no version information available (required by /lib/x86_64-linux-gnu/libcaca.so.0)\n",
            "ffmpeg version 4.2.4-1ubuntu0.1 Copyright (c) 2000-2020 the FFmpeg developers\n",
            "  built with gcc 9 (Ubuntu 9.3.0-10ubuntu2)\n",
            "  configuration: --prefix=/usr --extra-version=1ubuntu0.1 --toolchain=hardened --libdir=/usr/lib/x86_64-linux-gnu --incdir=/usr/include/x86_64-linux-gnu --arch=amd64 --enable-gpl --disable-stripping --enable-avresample --disable-filter=resample --enable-avisynth --enable-gnutls --enable-ladspa --enable-libaom --enable-libass --enable-libbluray --enable-libbs2b --enable-libcaca --enable-libcdio --enable-libcodec2 --enable-libflite --enable-libfontconfig --enable-libfreetype --enable-libfribidi --enable-libgme --enable-libgsm --enable-libjack --enable-libmp3lame --enable-libmysofa --enable-libopenjpeg --enable-libopenmpt --enable-libopus --enable-libpulse --enable-librsvg --enable-librubberband --enable-libshine --enable-libsnappy --enable-libsoxr --enable-libspeex --enable-libssh --enable-libtheora --enable-libtwolame --enable-libvidstab --enable-libvorbis --enable-libvpx --enable-libwavpack --enable-libwebp --enable-libx265 --enable-libxml2 --enable-libxvid --enable-libzmq --enable-libzvbi --enable-lv2 --enable-omx --enable-openal --enable-opencl --enable-opengl --enable-sdl2 --enable-libdc1394 --enable-libdrm --enable-libiec61883 --enable-nvenc --enable-chromaprint --enable-frei0r --enable-libx264 --enable-shared\n",
            "  libavutil      56. 31.100 / 56. 31.100\n",
            "  libavcodec     58. 54.100 / 58. 54.100\n",
            "  libavformat    58. 29.100 / 58. 29.100\n",
            "  libavdevice    58.  8.100 / 58.  8.100\n",
            "  libavfilter     7. 57.100 /  7. 57.100\n",
            "  libavresample   4.  0.  0 /  4.  0.  0\n",
            "  libswscale      5.  5.100 /  5.  5.100\n",
            "  libswresample   3.  5.100 /  3.  5.100\n",
            "  libpostproc    55.  5.100 / 55.  5.100\n",
            "Input #0, rawvideo, from 'pipe:':\n",
            "  Duration: N/A, start: 0.000000, bitrate: 23040 kb/s\n",
            "    Stream #0:0: Video: rawvideo (RGB[24] / 0x18424752), rgb24, 800x240, 23040 kb/s, 5 tbr, 5 tbn, 5 tbc\n",
            "Stream mapping:\n",
            "  Stream #0:0 -> #0:0 (rawvideo (native) -> h264 (libx264))\n",
            "[libx264 @ 0x55a251a845c0] using cpu capabilities: MMX2 SSE2Fast SSSE3 SSE4.2 AVX FMA3 BMI2 AVX2\n",
            "[libx264 @ 0x55a251a845c0] profile High, level 2.1\n",
            "[libx264 @ 0x55a251a845c0] 264 - core 155 r2917 0a84d98 - H.264/MPEG-4 AVC codec - Copyleft 2003-2018 - http://www.videolan.org/x264.html - options: cabac=1 ref=3 deblock=1:0:0 analyse=0x3:0x113 me=hex subme=7 psy=1 psy_rd=1.00:0.00 mixed_ref=1 me_range=16 chroma_me=1 trellis=1 8x8dct=1 cqm=0 deadzone=21,11 fast_pskip=1 chroma_qp_offset=-2 threads=6 lookahead_threads=1 sliced_threads=0 nr=0 decimate=1 interlaced=0 bluray_compat=0 constrained_intra=0 bframes=3 b_pyramid=2 b_adapt=1 b_bias=0 direct=1 weightb=1 open_gop=0 weightp=2 keyint=250 keyint_min=5 scenecut=40 intra_refresh=0 rc_lookahead=40 rc=crf mbtree=1 crf=23.0 qcomp=0.60 qpmin=0 qpmax=69 qpstep=4 ip_ratio=1.40 aq=1:1.00\n",
            "Output #0, mp4, to './videos/gw.mp4':\n",
            "  Metadata:\n",
            "    encoder         : Lavf58.29.100\n",
            "    Stream #0:0: Video: h264 (libx264) (avc1 / 0x31637661), yuv420p, 800x240, q=-1--1, 5 fps, 10240 tbn, 5 tbc\n",
            "    Metadata:\n",
            "      encoder         : Lavc58.54.100 libx264\n",
            "    Side data:\n",
            "      cpb: bitrate max/min/avg: 0/0/0 buffer size: 0 vbv_delay: -1\n",
            "frame=   21 fps=0.0 q=-1.0 Lsize=       9kB time=00:00:03.60 bitrate=  20.7kbits/s speed=34.1x    \n",
            "video:8kB audio:0kB subtitle:0kB other streams:0kB global headers:0kB muxing overhead: 12.212730%\n",
            "[libx264 @ 0x55a251a845c0] frame I:1     Avg QP: 6.14  size:  1560\n",
            "[libx264 @ 0x55a251a845c0] frame P:13    Avg QP:15.22  size:   421\n",
            "[libx264 @ 0x55a251a845c0] frame B:7     Avg QP:12.66  size:    85\n",
            "[libx264 @ 0x55a251a845c0] consecutive B-frames: 52.4%  9.5%  0.0% 38.1%\n",
            "[libx264 @ 0x55a251a845c0] mb I  I16..4: 96.8%  0.0%  3.2%\n",
            "[libx264 @ 0x55a251a845c0] mb P  I16..4:  0.5%  1.2%  0.9%  P16..4:  0.3%  0.0%  0.0%  0.0%  0.0%    skip:97.1%\n",
            "[libx264 @ 0x55a251a845c0] mb B  I16..4:  0.0%  0.0%  0.1%  B16..8:  1.6%  0.0%  0.0%  direct: 0.0%  skip:98.2%  L0:52.3% L1:47.7% BI: 0.0%\n",
            "[libx264 @ 0x55a251a845c0] 8x8 transform intra:11.2% inter:0.0%\n",
            "[libx264 @ 0x55a251a845c0] coded y,uvDC,uvAC intra: 7.8% 15.0% 13.2% inter: 0.0% 0.1% 0.1%\n",
            "[libx264 @ 0x55a251a845c0] i16 v,h,dc,p: 89%  3%  8%  0%\n",
            "[libx264 @ 0x55a251a845c0] i8 v,h,dc,ddl,ddr,vr,hd,vl,hu:  0%  0% 100%  0%  0%  0%  0%  0%  0%\n",
            "[libx264 @ 0x55a251a845c0] i4 v,h,dc,ddl,ddr,vr,hd,vl,hu: 17% 17% 47%  7%  7%  2%  1%  2%  1%\n",
            "[libx264 @ 0x55a251a845c0] i8c dc,h,v,p: 81%  9%  4%  6%\n",
            "[libx264 @ 0x55a251a845c0] Weighted P-Frames: Y:0.0% UV:0.0%\n",
            "[libx264 @ 0x55a251a845c0] ref P L0: 48.3%  0.0% 24.1% 27.6%\n",
            "[libx264 @ 0x55a251a845c0] ref B L0: 93.3%  6.7%\n",
            "[libx264 @ 0x55a251a845c0] kb/s:14.52\n"
          ]
        },
        {
          "output_type": "display_data",
          "data": {
            "text/html": [
              "<video alt=\"videos/gw.mp4\" autoplay\n",
              "                      loop controls style=\"height: 400px;\">\n",
              "                    <source src=\"data:video/mp4;base64,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\" type=\"video/mp4\" />\n",
              "                 </video>"
            ],
            "text/plain": [
              "<IPython.core.display.HTML object>"
            ]
          },
          "metadata": {}
        }
      ],
      "metadata": {
        "colab": {
          "base_uri": "https://localhost:8080/",
          "height": 441
        },
        "id": "W3r5WHYZctYN",
        "outputId": "e8288247-9653-46f6-adf9-1363a6bfb2e7"
      }
    },
    {
      "cell_type": "markdown",
      "source": [
        "# `AgentManager`: A powerfull class for hyperparameter optimization, training and evaluating agents."
      ],
      "metadata": {
        "id": "7XV-Z1Znen44"
      }
    },
    {
      "cell_type": "code",
      "execution_count": 6,
      "source": [
        "# Create random agent as a baseline\n",
        "class RandomAgent(AgentWithSimplePolicy):\n",
        "    name = 'RandomAgent'\n",
        "    def __init__(self, env, gamma=0.99, epsilon=1e-5, **kwargs):   # it's important to put **kwargs to ensure compatibility with the base class \n",
        "        \"\"\"\n",
        "        gamma: discount factor\n",
        "        episilon: precision of value iteration\n",
        "        \"\"\"\n",
        "        AgentWithSimplePolicy.__init__(self, env, **kwargs) # self.env is initialized in the base class\n",
        "\n",
        "    def fit(self, budget=None, **kwargs):  \n",
        "        pass\n",
        "          \n",
        "    def policy(self, observation):\n",
        "        return self.env.action_space.sample()"
      ],
      "outputs": [],
      "metadata": {
        "id": "l3OCUH2YfhOQ"
      }
    },
    {
      "cell_type": "code",
      "execution_count": 7,
      "source": [
        "from rlberry.manager import AgentManager, evaluate_agents\n",
        "\n",
        "# Define parameters\n",
        "vi_params = {'gamma':0.1, 'epsilon':1e-3}\n",
        "\n",
        "# Create AgentManager to fit 4 agents using 1 job\n",
        "vi_stats = AgentManager(\n",
        "    ValueIterationAgent,\n",
        "    (env_ctor, env_kwargs),\n",
        "    fit_budget=0,\n",
        "    eval_kwargs=dict(eval_horizon=20),\n",
        "    init_kwargs=vi_params,\n",
        "    n_fit=4)\n",
        "vi_stats.fit()\n",
        "\n",
        "# Create AgentManager for baseline\n",
        "baseline_stats = AgentManager(\n",
        "    RandomAgent,\n",
        "    (env_ctor, env_kwargs),\n",
        "    fit_budget=0,\n",
        "    eval_kwargs=dict(eval_horizon=20),\n",
        "    n_fit=1)\n",
        "baseline_stats.fit()\n",
        "\n",
        "# Compare policies using 10 Monte Carlo simulations\n",
        "output = evaluate_agents([vi_stats, baseline_stats], n_simulations=10)\n"
      ],
      "outputs": [
        {
          "output_type": "stream",
          "name": "stderr",
          "text": [
            "[INFO] Training AgentManager for ValueIterationAgent...  \n",
            "[INFO] Sucessful call to AgentHandler.dump() for <class '__main__.ValueIterationAgent'> \n",
            "[INFO] Sucessful call to AgentHandler.dump() for <class '__main__.ValueIterationAgent'> \n",
            "[INFO] Sucessful call to AgentHandler.dump() for <class '__main__.ValueIterationAgent'> \n",
            "[INFO] Sucessful call to AgentHandler.dump() for <class '__main__.ValueIterationAgent'> \n",
            "[INFO] ... trained! \n",
            "[INFO] Sucessful call to AgentHandler.load() for <class '__main__.ValueIterationAgent'> \n",
            "[INFO] Sucessful call to AgentHandler.load() for <class '__main__.ValueIterationAgent'> \n",
            "[INFO] Sucessful call to AgentHandler.load() for <class '__main__.ValueIterationAgent'> \n",
            "[INFO] Sucessful call to AgentHandler.load() for <class '__main__.ValueIterationAgent'> \n",
            "[INFO] Training AgentManager for RandomAgent...  \n",
            "[INFO] Sucessful call to AgentHandler.dump() for <class '__main__.RandomAgent'> \n",
            "[INFO] ... trained! \n",
            "[INFO] Sucessful call to AgentHandler.load() for <class '__main__.RandomAgent'> \n",
            "[INFO] Evaluating ValueIterationAgent... \n",
            "[INFO] ... simulation 1/10 \n",
            "[INFO] ... simulation 2/10 \n",
            "[INFO] ... simulation 3/10 \n",
            "[INFO] ... simulation 4/10 \n",
            "[INFO] ... simulation 5/10 \n",
            "[INFO] ... simulation 6/10 \n",
            "[INFO] ... simulation 7/10 \n",
            "[INFO] ... simulation 8/10 \n",
            "[INFO] ... simulation 9/10 \n",
            "[INFO] ... simulation 10/10 \n",
            "[INFO] Evaluating RandomAgent... \n",
            "[INFO] ... simulation 1/10 \n",
            "[INFO] ... simulation 2/10 \n",
            "[INFO] ... simulation 3/10 \n",
            "[INFO] ... simulation 4/10 \n",
            "[INFO] ... simulation 5/10 \n",
            "[INFO] ... simulation 6/10 \n",
            "[INFO] ... simulation 7/10 \n",
            "[INFO] ... simulation 8/10 \n",
            "[INFO] ... simulation 9/10 \n",
            "[INFO] ... simulation 10/10 \n"
          ]
        },
        {
          "output_type": "display_data",
          "data": {
            "image/png": "[encoded data removed]",
            "text/plain": [
              "<Figure size 432x288 with 1 Axes>"
            ]
          },
          "metadata": {
            "needs_background": "light"
          }
        }
      ],
      "metadata": {
        "colab": {
          "base_uri": "https://localhost:8080/",
          "height": 913
        },
        "id": "ePl7Bqq2eniv",
        "outputId": "2add633b-94d7-4978-e40b-81915f255bd9"
      }
    },
    {
      "cell_type": "code",
      "execution_count": 8,
      "source": [
        "# The value of gamma above makes our VI agent quite bad! Let's optimize it.\n",
        "vi_stats.optimize_hyperparams(n_trials=30, timeout=30, n_fit=1, sampler_method='random', pruner_method='none')\n",
        "\n",
        "# fit with optimized params\n",
        "vi_stats.fit()\n",
        "\n",
        "# ... and see the results\n",
        "output = evaluate_agents([vi_stats, baseline_stats])\n"
      ],
      "outputs": [
        {
          "output_type": "stream",
          "name": "stdout",
          "text": [
            "Connected to temp/stats_ValueIterationAgent_1632497313/data_1403605487026081632497313.db (sqlite3 version = 2.6.0)\n"
          ]
        },
        {
          "output_type": "stream",
          "name": "stderr",
          "text": [
            "\u001b[32m[I 2021-09-24 17:28:36,858]\u001b[0m A new study created in RDB with name: no-name-0ac07548-ad2e-4b20-bf6d-93034c98ae9f\u001b[0m\n",
            "[INFO] Sucessful call to AgentHandler.dump() for <class '__main__.ValueIterationAgent'> \n",
            "[INFO] Sucessful call to AgentHandler.dump() for <class '__main__.ValueIterationAgent'> \n",
            "[INFO] Sucessful call to AgentHandler.dump() for <class '__main__.ValueIterationAgent'> \n",
            "[INFO] Sucessful call to AgentHandler.dump() for <class '__main__.ValueIterationAgent'> \n",
            "[INFO] Saved AgentManager(ValueIterationAgent) using pickle. \n",
            "[INFO] Training AgentManager for optim...  \n",
            "[INFO] Sucessful call to AgentHandler.dump() for <class '__main__.ValueIterationAgent'> \n",
            "[INFO] ... trained! \n",
            "[INFO] Sucessful call to AgentHandler.load() for <class '__main__.ValueIterationAgent'> \n",
            "\u001b[32m[I 2021-09-24 17:28:37,163]\u001b[0m Trial 0 finished with value: 0.9199999999999999 and parameters: {'gamma': 0.75}. Best is trial 0 with value: 0.9199999999999999.\u001b[0m\n",
            "[INFO] Training AgentManager for optim...  \n",
            "[INFO] Sucessful call to AgentHandler.dump() for <class '__main__.ValueIterationAgent'> \n",
            "[INFO] ... trained! \n",
            "[INFO] Sucessful call to AgentHandler.load() for <class '__main__.ValueIterationAgent'> \n",
            "\u001b[32m[I 2021-09-24 17:28:37,527]\u001b[0m Trial 1 finished with value: 0.7899999999999999 and parameters: {'gamma': 0.5}. Best is trial 0 with value: 0.9199999999999999.\u001b[0m\n",
            "[INFO] Training AgentManager for optim...  \n",
            "[INFO] Sucessful call to AgentHandler.dump() for <class '__main__.ValueIterationAgent'> \n",
            "[INFO] ... trained! \n",
            "[INFO] Sucessful call to AgentHandler.load() for <class '__main__.ValueIterationAgent'> \n",
            "\u001b[32m[I 2021-09-24 17:28:38,107]\u001b[0m Trial 2 finished with value: 1.0 and parameters: {'gamma': 0.99}. Best is trial 2 with value: 1.0.\u001b[0m\n",
            "[INFO] Training AgentManager for optim...  \n",
            "[INFO] Sucessful call to AgentHandler.dump() for <class '__main__.ValueIterationAgent'> \n",
            "[INFO] ... trained! \n",
            "[INFO] Sucessful call to AgentHandler.load() for <class '__main__.ValueIterationAgent'> \n",
            "\u001b[32m[I 2021-09-24 17:28:38,467]\u001b[0m Trial 3 finished with value: 0.8099999999999999 and parameters: {'gamma': 0.5}. Best is trial 2 with value: 1.0.\u001b[0m\n",
            "[INFO] Training AgentManager for optim...  \n",
            "[INFO] Sucessful call to AgentHandler.dump() for <class '__main__.ValueIterationAgent'> \n",
            "[INFO] ... trained! \n",
            "[INFO] Sucessful call to AgentHandler.load() for <class '__main__.ValueIterationAgent'> \n",
            "\u001b[32m[I 2021-09-24 17:28:38,850]\u001b[0m Trial 4 finished with value: 0.9099999999999999 and parameters: {'gamma': 0.75}. Best is trial 2 with value: 1.0.\u001b[0m\n",
            "[INFO] Training AgentManager for optim...  \n",
            "[INFO] Sucessful call to AgentHandler.dump() for <class '__main__.ValueIterationAgent'> \n",
            "[INFO] ... trained! \n",
            "[INFO] Sucessful call to AgentHandler.load() for <class '__main__.ValueIterationAgent'> \n",
            "\u001b[32m[I 2021-09-24 17:28:39,223]\u001b[0m Trial 5 finished with value: 0.8 and parameters: {'gamma': 0.75}. Best is trial 2 with value: 1.0.\u001b[0m\n",
            "[INFO] Training AgentManager for optim...  \n",
            "[INFO] Sucessful call to AgentHandler.dump() for <class '__main__.ValueIterationAgent'> \n",
            "[INFO] ... trained! \n",
            "[INFO] Sucessful call to AgentHandler.load() for <class '__main__.ValueIterationAgent'> \n",
            "\u001b[32m[I 2021-09-24 17:28:39,591]\u001b[0m Trial 6 finished with value: 0.7699999999999999 and parameters: {'gamma': 0.25}. Best is trial 2 with value: 1.0.\u001b[0m\n",
            "[INFO] Training AgentManager for optim...  \n",
            "[INFO] Sucessful call to AgentHandler.dump() for <class '__main__.ValueIterationAgent'> \n",
            "[INFO] ... trained! \n",
            "[INFO] Sucessful call to AgentHandler.load() for <class '__main__.ValueIterationAgent'> \n",
            "\u001b[32m[I 2021-09-24 17:28:39,934]\u001b[0m Trial 7 finished with value: 0.8699999999999999 and parameters: {'gamma': 0.25}. Best is trial 2 with value: 1.0.\u001b[0m\n",
            "[INFO] Training AgentManager for optim...  \n",
            "[INFO] Sucessful call to AgentHandler.dump() for <class '__main__.ValueIterationAgent'> \n",
            "[INFO] ... trained! \n",
            "[INFO] Sucessful call to AgentHandler.load() for <class '__main__.ValueIterationAgent'> \n",
            "\u001b[32m[I 2021-09-24 17:28:40,277]\u001b[0m Trial 8 finished with value: 0.97 and parameters: {'gamma': 0.75}. Best is trial 2 with value: 1.0.\u001b[0m\n",
            "[INFO] Training AgentManager for optim...  \n",
            "[INFO] Sucessful call to AgentHandler.dump() for <class '__main__.ValueIterationAgent'> \n",
            "[INFO] ... trained! \n",
            "[INFO] Sucessful call to AgentHandler.load() for <class '__main__.ValueIterationAgent'> \n",
            "\u001b[32m[I 2021-09-24 17:28:40,628]\u001b[0m Trial 9 finished with value: 0.89 and parameters: {'gamma': 0.75}. Best is trial 2 with value: 1.0.\u001b[0m\n",
            "[INFO] Training AgentManager for optim...  \n",
            "[INFO] Sucessful call to AgentHandler.dump() for <class '__main__.ValueIterationAgent'> \n",
            "[INFO] ... trained! \n",
            "[INFO] Sucessful call to AgentHandler.load() for <class '__main__.ValueIterationAgent'> \n",
            "\u001b[32m[I 2021-09-24 17:28:40,993]\u001b[0m Trial 10 finished with value: 0.7299999999999999 and parameters: {'gamma': 0.75}. Best is trial 2 with value: 1.0.\u001b[0m\n",
            "[INFO] Training AgentManager for optim...  \n",
            "[INFO] Sucessful call to AgentHandler.dump() for <class '__main__.ValueIterationAgent'> \n",
            "[INFO] ... trained! \n",
            "[INFO] Sucessful call to AgentHandler.load() for <class '__main__.ValueIterationAgent'> \n",
            "\u001b[32m[I 2021-09-24 17:28:41,551]\u001b[0m Trial 11 finished with value: 1.01 and parameters: {'gamma': 0.99}. Best is trial 11 with value: 1.01.\u001b[0m\n",
            "[INFO] Training AgentManager for optim...  \n",
            "[INFO] Sucessful call to AgentHandler.dump() for <class '__main__.ValueIterationAgent'> \n",
            "[INFO] ... trained! \n",
            "[INFO] Sucessful call to AgentHandler.load() for <class '__main__.ValueIterationAgent'> \n",
            "\u001b[32m[I 2021-09-24 17:28:41,933]\u001b[0m Trial 12 finished with value: 0.8299999999999998 and parameters: {'gamma': 0.1}. Best is trial 11 with value: 1.01.\u001b[0m\n",
            "[INFO] Training AgentManager for optim...  \n",
            "[INFO] Sucessful call to AgentHandler.dump() for <class '__main__.ValueIterationAgent'> \n",
            "[INFO] ... trained! \n",
            "[INFO] Sucessful call to AgentHandler.load() for <class '__main__.ValueIterationAgent'> \n",
            "\u001b[32m[I 2021-09-24 17:28:42,300]\u001b[0m Trial 13 finished with value: 0.7799999999999999 and parameters: {'gamma': 0.25}. Best is trial 11 with value: 1.01.\u001b[0m\n",
            "[INFO] Training AgentManager for optim...  \n",
            "[INFO] Sucessful call to AgentHandler.dump() for <class '__main__.ValueIterationAgent'> \n",
            "[INFO] ... trained! \n",
            "[INFO] Sucessful call to AgentHandler.load() for <class '__main__.ValueIterationAgent'> \n",
            "\u001b[32m[I 2021-09-24 17:28:42,689]\u001b[0m Trial 14 finished with value: 0.8699999999999999 and parameters: {'gamma': 0.75}. Best is trial 11 with value: 1.01.\u001b[0m\n",
            "[INFO] Training AgentManager for optim...  \n",
            "[INFO] Sucessful call to AgentHandler.dump() for <class '__main__.ValueIterationAgent'> \n",
            "[INFO] ... trained! \n",
            "[INFO] Sucessful call to AgentHandler.load() for <class '__main__.ValueIterationAgent'> \n",
            "\u001b[32m[I 2021-09-24 17:28:43,025]\u001b[0m Trial 15 finished with value: 0.7999999999999999 and parameters: {'gamma': 0.25}. Best is trial 11 with value: 1.01.\u001b[0m\n",
            "[INFO] Training AgentManager for optim...  \n",
            "[INFO] Sucessful call to AgentHandler.dump() for <class '__main__.ValueIterationAgent'> \n",
            "[INFO] ... trained! \n",
            "[INFO] Sucessful call to AgentHandler.load() for <class '__main__.ValueIterationAgent'> \n",
            "\u001b[32m[I 2021-09-24 17:28:43,583]\u001b[0m Trial 16 finished with value: 1.02 and parameters: {'gamma': 0.99}. Best is trial 16 with value: 1.02.\u001b[0m\n",
            "[INFO] Training AgentManager for optim...  \n",
            "[INFO] Sucessful call to AgentHandler.dump() for <class '__main__.ValueIterationAgent'> \n",
            "[INFO] ... trained! \n",
            "[INFO] Sucessful call to AgentHandler.load() for <class '__main__.ValueIterationAgent'> \n",
            "\u001b[32m[I 2021-09-24 17:28:43,909]\u001b[0m Trial 17 finished with value: 0.7899999999999999 and parameters: {'gamma': 0.5}. Best is trial 16 with value: 1.02.\u001b[0m\n",
            "[INFO] Training AgentManager for optim...  \n",
            "[INFO] Sucessful call to AgentHandler.dump() for <class '__main__.ValueIterationAgent'> \n",
            "[INFO] ... trained! \n",
            "[INFO] Sucessful call to AgentHandler.load() for <class '__main__.ValueIterationAgent'> \n",
            "\u001b[32m[I 2021-09-24 17:28:44,232]\u001b[0m Trial 18 finished with value: 0.7999999999999999 and parameters: {'gamma': 0.25}. Best is trial 16 with value: 1.02.\u001b[0m\n",
            "[INFO] Training AgentManager for optim...  \n",
            "[INFO] Sucessful call to AgentHandler.dump() for <class '__main__.ValueIterationAgent'> \n",
            "[INFO] ... trained! \n",
            "[INFO] Sucessful call to AgentHandler.load() for <class '__main__.ValueIterationAgent'> \n",
            "\u001b[32m[I 2021-09-24 17:28:44,556]\u001b[0m Trial 19 finished with value: 0.8300000000000001 and parameters: {'gamma': 0.1}. Best is trial 16 with value: 1.02.\u001b[0m\n",
            "[INFO] Training AgentManager for optim...  \n",
            "[INFO] Sucessful call to AgentHandler.dump() for <class '__main__.ValueIterationAgent'> \n",
            "[INFO] ... trained! \n",
            "[INFO] Sucessful call to AgentHandler.load() for <class '__main__.ValueIterationAgent'> \n",
            "\u001b[32m[I 2021-09-24 17:28:44,852]\u001b[0m Trial 20 finished with value: 0.7699999999999999 and parameters: {'gamma': 0.25}. Best is trial 16 with value: 1.02.\u001b[0m\n",
            "[INFO] Training AgentManager for optim...  \n",
            "[INFO] Sucessful call to AgentHandler.dump() for <class '__main__.ValueIterationAgent'> \n",
            "[INFO] ... trained! \n",
            "[INFO] Sucessful call to AgentHandler.load() for <class '__main__.ValueIterationAgent'> \n",
            "\u001b[32m[I 2021-09-24 17:28:45,137]\u001b[0m Trial 21 finished with value: 0.8699999999999999 and parameters: {'gamma': 0.5}. Best is trial 16 with value: 1.02.\u001b[0m\n",
            "[INFO] Training AgentManager for optim...  \n",
            "[INFO] Sucessful call to AgentHandler.dump() for <class '__main__.ValueIterationAgent'> \n",
            "[INFO] ... trained! \n",
            "[INFO] Sucessful call to AgentHandler.load() for <class '__main__.ValueIterationAgent'> \n",
            "\u001b[32m[I 2021-09-24 17:28:45,426]\u001b[0m Trial 22 finished with value: 0.7799999999999999 and parameters: {'gamma': 0.1}. Best is trial 16 with value: 1.02.\u001b[0m\n",
            "[INFO] Training AgentManager for optim...  \n",
            "[INFO] Sucessful call to AgentHandler.dump() for <class '__main__.ValueIterationAgent'> \n",
            "[INFO] ... trained! \n",
            "[INFO] Sucessful call to AgentHandler.load() for <class '__main__.ValueIterationAgent'> \n",
            "\u001b[32m[I 2021-09-24 17:28:45,964]\u001b[0m Trial 23 finished with value: 1.0299999999999998 and parameters: {'gamma': 0.99}. Best is trial 23 with value: 1.0299999999999998.\u001b[0m\n",
            "[INFO] Training AgentManager for optim...  \n",
            "[INFO] Sucessful call to AgentHandler.dump() for <class '__main__.ValueIterationAgent'> \n",
            "[INFO] ... trained! \n",
            "[INFO] Sucessful call to AgentHandler.load() for <class '__main__.ValueIterationAgent'> \n",
            "\u001b[32m[I 2021-09-24 17:28:46,305]\u001b[0m Trial 24 finished with value: 0.8299999999999998 and parameters: {'gamma': 0.1}. Best is trial 23 with value: 1.0299999999999998.\u001b[0m\n",
            "[INFO] Training AgentManager for optim...  \n",
            "[INFO] Sucessful call to AgentHandler.dump() for <class '__main__.ValueIterationAgent'> \n",
            "[INFO] ... trained! \n",
            "[INFO] Sucessful call to AgentHandler.load() for <class '__main__.ValueIterationAgent'> \n",
            "\u001b[32m[I 2021-09-24 17:28:46,672]\u001b[0m Trial 25 finished with value: 0.79 and parameters: {'gamma': 0.5}. Best is trial 23 with value: 1.0299999999999998.\u001b[0m\n",
            "[INFO] Training AgentManager for optim...  \n",
            "[INFO] Sucessful call to AgentHandler.dump() for <class '__main__.ValueIterationAgent'> \n",
            "[INFO] ... trained! \n",
            "[INFO] Sucessful call to AgentHandler.load() for <class '__main__.ValueIterationAgent'> \n",
            "\u001b[32m[I 2021-09-24 17:28:47,029]\u001b[0m Trial 26 finished with value: 0.7899999999999999 and parameters: {'gamma': 0.5}. Best is trial 23 with value: 1.0299999999999998.\u001b[0m\n",
            "[INFO] Training AgentManager for optim...  \n",
            "[INFO] Sucessful call to AgentHandler.dump() for <class '__main__.ValueIterationAgent'> \n",
            "[INFO] ... trained! \n",
            "[INFO] Sucessful call to AgentHandler.load() for <class '__main__.ValueIterationAgent'> \n",
            "\u001b[32m[I 2021-09-24 17:28:47,383]\u001b[0m Trial 27 finished with value: 0.7799999999999999 and parameters: {'gamma': 0.5}. Best is trial 23 with value: 1.0299999999999998.\u001b[0m\n",
            "[INFO] Training AgentManager for optim...  \n",
            "[INFO] Sucessful call to AgentHandler.dump() for <class '__main__.ValueIterationAgent'> \n",
            "[INFO] ... trained! \n",
            "[INFO] Sucessful call to AgentHandler.load() for <class '__main__.ValueIterationAgent'> \n",
            "\u001b[32m[I 2021-09-24 17:28:47,721]\u001b[0m Trial 28 finished with value: 0.8099999999999999 and parameters: {'gamma': 0.1}. Best is trial 23 with value: 1.0299999999999998.\u001b[0m\n",
            "[INFO] Training AgentManager for optim...  \n",
            "[INFO] Sucessful call to AgentHandler.dump() for <class '__main__.ValueIterationAgent'> \n",
            "[INFO] ... trained! \n",
            "[INFO] Sucessful call to AgentHandler.load() for <class '__main__.ValueIterationAgent'> \n",
            "\u001b[32m[I 2021-09-24 17:28:48,324]\u001b[0m Trial 29 finished with value: 0.9299999999999999 and parameters: {'gamma': 0.99}. Best is trial 23 with value: 1.0299999999999998.\u001b[0m\n",
            "[INFO] Number of finished trials: 30 \n",
            "[INFO] Best trial: \n",
            "[INFO] Value: 1.0299999999999998 \n",
            "[INFO] Params: \n",
            "[INFO]     gamma: 0.99 \n",
            "[INFO] Training AgentManager for ValueIterationAgent...  \n",
            "[INFO] Sucessful call to AgentHandler.dump() for <class '__main__.ValueIterationAgent'> \n",
            "[INFO] Sucessful call to AgentHandler.dump() for <class '__main__.ValueIterationAgent'> \n",
            "[INFO] Sucessful call to AgentHandler.dump() for <class '__main__.ValueIterationAgent'> \n",
            "[INFO] Sucessful call to AgentHandler.dump() for <class '__main__.ValueIterationAgent'> \n",
            "[INFO] ... trained! \n",
            "[INFO] Sucessful call to AgentHandler.load() for <class '__main__.ValueIterationAgent'> \n",
            "[INFO] Sucessful call to AgentHandler.load() for <class '__main__.ValueIterationAgent'> \n",
            "[INFO] Sucessful call to AgentHandler.load() for <class '__main__.ValueIterationAgent'> \n",
            "[INFO] Sucessful call to AgentHandler.load() for <class '__main__.ValueIterationAgent'> \n",
            "[INFO] Evaluating ValueIterationAgent... \n",
            "[INFO] ... simulation 1/5 \n",
            "[INFO] ... simulation 2/5 \n",
            "[INFO] ... simulation 3/5 \n",
            "[INFO] ... simulation 4/5 \n",
            "[INFO] ... simulation 5/5 \n",
            "[INFO] Evaluating RandomAgent... \n",
            "[INFO] ... simulation 1/5 \n",
            "[INFO] ... simulation 2/5 \n",
            "[INFO] ... simulation 3/5 \n",
            "[INFO] ... simulation 4/5 \n",
            "[INFO] ... simulation 5/5 \n"
          ]
        },
        {
          "output_type": "display_data",
          "data": {
            "image/png": "[encoded data removed]",
            "text/plain": [
              "<Figure size 432x288 with 1 Axes>"
            ]
          },
          "metadata": {
            "needs_background": "light"
          }
        }
      ],
      "metadata": {
        "colab": {
          "base_uri": "https://localhost:8080/",
          "height": 1000
        },
        "id": "slTijRljiamE",
        "outputId": "af9a8b55-9f9a-41fc-9322-a61c27035a9b"
      }
    },
    {
      "cell_type": "code",
      "execution_count": 9,
      "source": [
        "# clear generated data\n",
        "vi_stats.clear_output_dir()\n",
        "baseline_stats.clear_output_dir()"
      ],
      "outputs": [],
      "metadata": {
        "id": "NsJrVDT6hpeB"
      }
    }
  ]
}