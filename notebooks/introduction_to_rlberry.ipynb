{
 "nbformat": 4,
 "nbformat_minor": 2,
 "metadata": {
  "colab": {
   "name": "Introduction to rlberry.ipynb",
   "provenance": [],
   "collapsed_sections": [],
   "authorship_tag": "ABX9TyMGbpdlboMc23rqeRODdt47",
   "include_colab_link": true
  },
  "kernelspec": {
   "name": "python3",
   "display_name": "Python 3"
  }
 },
 "cells": [
  {
   "cell_type": "markdown",
   "source": [
    "<a href=\"https://colab.research.google.com/github/rlberry-py/rlberry/blob/main/notebooks/introduction_to_rlberry.ipynb\" target=\"_parent\"><img src=\"https://colab.research.google.com/assets/colab-badge.svg\" alt=\"Open In Colab\"/></a>"
   ],
   "metadata": {
    "id": "view-in-github",
    "colab_type": "text"
   }
  },
  {
   "cell_type": "markdown",
   "source": [
    "# Introduction to\n",
    "<img src=\"https://raw.githubusercontent.com/rlberry-py/rlberry/main/assets/logo_wide.svg\" width=\"700\"/>\n",
    "\n",
    "\n"
   ],
   "metadata": {
    "id": "gVtvJ8vqQehR"
   }
  },
  {
   "cell_type": "markdown",
   "source": [
    "# Colab setup"
   ],
   "metadata": {
    "id": "BR9N_lSyTh-E"
   }
  },
  {
   "cell_type": "code",
   "execution_count": 1,
   "source": [
    "# install rlberry library\n",
    "!git clone https://github.com/rlberry-py/rlberry.git \n",
    "!cd rlberry && git pull && pip install -e . > /dev/null 2>&1\n",
    "\n",
    "# install ffmpeg-python for saving videos\n",
    "!pip install ffmpeg-python > /dev/null 2>&1\n",
    "\n",
    "# install optuna for hyperparameter optimization\n",
    "!pip install optuna > /dev/null 2>&1\n",
    "\n",
    "# packages required to show video\n",
    "!pip install pyvirtualdisplay > /dev/null 2>&1\n",
    "!apt-get install -y xvfb python-opengl ffmpeg > /dev/null 2>&1\n",
    "\n",
    "print(\"\")\n",
    "print(\" ~~~  Libraries installed, please restart the runtime! ~~~ \")\n",
    "print(\"\")\n"
   ],
   "outputs": [
    {
     "output_type": "stream",
     "name": "stdout",
     "text": [
      "fatal: destination path 'rlberry' already exists and is not an empty directory.\n",
      "remote: Enumerating objects: 9, done.\u001b[K\n",
      "remote: Counting objects: 100% (9/9), done.\u001b[K\n",
      "remote: Compressing objects: 100% (1/1), done.\u001b[K\n",
      "remote: Total 5 (delta 4), reused 5 (delta 4), pack-reused 0\u001b[K\n",
      "Unpacking objects: 100% (5/5), done.\n",
      "From https://github.com/rlberry-py/rlberry\n",
      "   f2abf19..ea58731  main       -> origin/main\n",
      "Updating f2abf19..ea58731\n",
      "Fast-forward\n",
      " rlberry/stats/agent_stats.py | 2 \u001b[32m+\u001b[m\u001b[31m-\u001b[m\n",
      " 1 file changed, 1 insertion(+), 1 deletion(-)\n",
      "\n",
      " ~~~  Libraries installed, please restart the runtime! ~~~ \n",
      "\n"
     ]
    }
   ],
   "metadata": {
    "id": "j2VU8Y7xQbSg",
    "colab": {
     "base_uri": "https://localhost:8080/"
    },
    "outputId": "f033b175-4db6-4e82-f75f-f29c8e23b7ed"
   }
  },
  {
   "cell_type": "code",
   "execution_count": 2,
   "source": [
    "# Create directory for saving videos\n",
    "!mkdir videos > /dev/null 2>&1\n",
    "\n",
    "# Initialize display and import function to show videos\n",
    "import rlberry.colab_utils.display_setup\n",
    "from rlberry.colab_utils.display_setup import show_video"
   ],
   "outputs": [],
   "metadata": {
    "id": "rvkt6z9pVUnv"
   }
  },
  {
   "cell_type": "markdown",
   "source": [
    "# Interacting with a simple environment"
   ],
   "metadata": {
    "id": "BCCyreAiWikz"
   }
  },
  {
   "cell_type": "code",
   "execution_count": 3,
   "source": [
    "from rlberry.envs import GridWorld\n",
    "\n",
    "# A grid world is a simple environment with finite states and actions, on which \n",
    "# we can test simple algorithms.\n",
    "# -> The reward function can be accessed by: env.R[state, action]\n",
    "# -> And the transitions: env.P[state, action, next_state]\n",
    "env = GridWorld(nrows=3, ncols=10,\n",
    "                reward_at = {(1,1):0.1, (2, 9):1.0},\n",
    "                walls=((1,4),(2,4), (1,5)),\n",
    "                success_probability=0.9)\n",
    "\n",
    "\n",
    "# Let's visuzalize a random policy in this environment!\n",
    "env.enable_rendering()\n",
    "env.reset()\n",
    "for tt in range(20):\n",
    "    action = env.action_space.sample()\n",
    "    next_state, reward, is_terminal, info = env.step(action)\n",
    "\n",
    "# save video and clear buffer\n",
    "env.save_video('./videos/gw.mp4', framerate=5)\n",
    "env.clear_render_buffer()\n",
    "# show video\n",
    "show_video('./videos/gw.mp4')"
   ],
   "outputs": [
    {
     "output_type": "stream",
     "name": "stdout",
     "text": [
      "videos/gw.mp4\n"
     ]
    },
    {
     "output_type": "display_data",
     "data": {
      "text/plain": [
       "<IPython.core.display.HTML object>"
      ],
      "text/html": [
       "<video alt=\"videos/gw.mp4\" autoplay \n",
       "                      loop controls style=\"height: 400px;\">\n",
       "                      <source src=\"data:video/mp4;base64,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\" type=\"video/mp4\" />\n",
       "                 </video>"
      ]
     },
     "metadata": {
      "tags": []
     }
    }
   ],
   "metadata": {
    "colab": {
     "base_uri": "https://localhost:8080/",
     "height": 438
    },
    "id": "M5qrjKk3WiHE",
    "outputId": "30b601df-417b-45c3-9be2-5e68a1a59c72"
   }
  },
  {
   "cell_type": "markdown",
   "source": [
    "# Creating an agent\n",
    "\n",
    "Let's create an agent that runs value iteration to find a near-optimal policy.\n",
    "This is possible in our GridWorld, because we have access to the transitions `env.P` and the rewards `env.R`.\n",
    "\n",
    "\n",
    "An Agent must implement at least two methods, **fit()** and **policy()**.\n",
    "\n",
    "It can also implement **sample_parameters()** used for hyperparameter optimization with [Optuna](https://optuna.org/).\n"
   ],
   "metadata": {
    "id": "jWgoh5yoYuDE"
   }
  },
  {
   "cell_type": "code",
   "execution_count": 4,
   "source": [
    "import numpy as np\n",
    "from rlberry.agents import Agent\n",
    "\n",
    "class ValueIterationAgent(Agent):\n",
    "    name = 'ValueIterationAgent'\n",
    "    def __init__(self, env, gamma=0.99, epsilon=1e-5, **kwargs):   # it's important to put **kwargs to ensure compatibility with the base class \n",
    "        \"\"\"\n",
    "        gamma: discount factor\n",
    "        episilon: precision of value iteration\n",
    "        \"\"\"\n",
    "        Agent.__init__(self, env, **kwargs) # self.env is initialized in the base class\n",
    "\n",
    "        self.gamma = gamma\n",
    "        self.epsilon = epsilon \n",
    "        self.Q = None  # Q function to be computed in fit()\n",
    "    \n",
    "    def fit(self, **kwargs):  \n",
    "        \"\"\"\n",
    "        Run value iteration.\n",
    "        \"\"\"\n",
    "        S, A = env.observation_space.n, env.action_space.n \n",
    "        Q = np.zeros((S, A))\n",
    "        V = np.zeros(S)\n",
    "\n",
    "        while True:\n",
    "            TQ = np.zeros((S, A))\n",
    "            for ss in range(S):\n",
    "                for aa in range(A):\n",
    "                    TQ[ss, aa] = env.R[ss, aa] + self.gamma*env.P[ss, aa, :].dot(V)\n",
    "            V = TQ.max(axis=1)\n",
    "\n",
    "            if np.abs(TQ-Q).max() < self.epsilon:\n",
    "                break\n",
    "            Q = TQ\n",
    "        self.Q = Q\n",
    "          \n",
    "    def policy(self, observation, **kwargs):\n",
    "        return self.Q[observation, :].argmax()\n",
    "\n",
    "    \n",
    "    @classmethod\n",
    "    def sample_parameters(cls, trial):\n",
    "      \"\"\"\n",
    "      Sample hyperparameters for hyperparam optimization using Optuna (https://optuna.org/)\n",
    "      \"\"\"\n",
    "      gamma = trial.suggest_categorical('gamma', [0.1, 0.25, 0.5, 0.75, 0.99])\n",
    "      return {'gamma':gamma}\n"
   ],
   "outputs": [],
   "metadata": {
    "id": "AJVMjW7WYspi"
   }
  },
  {
   "cell_type": "code",
   "execution_count": 5,
   "source": [
    "# Now, let's fit and test the agent!\n",
    "agent = ValueIterationAgent(env)\n",
    "agent.fit()\n",
    "\n",
    "\n",
    "# Run agent's policy\n",
    "env.enable_rendering()\n",
    "state = env.reset()\n",
    "for tt in range(20):\n",
    "    action = agent.policy(state)\n",
    "    state, reward, is_terminal, info = env.step(action)\n",
    "\n",
    "# save video and clear buffer\n",
    "env.save_video('./videos/gw.mp4', framerate=5)\n",
    "env.clear_render_buffer()\n",
    "# show video\n",
    "show_video('./videos/gw.mp4')\n"
   ],
   "outputs": [
    {
     "output_type": "stream",
     "name": "stdout",
     "text": [
      "videos/gw.mp4\n"
     ]
    },
    {
     "output_type": "display_data",
     "data": {
      "text/plain": [
       "<IPython.core.display.HTML object>"
      ],
      "text/html": [
       "<video alt=\"videos/gw.mp4\" autoplay \n",
       "                      loop controls style=\"height: 400px;\">\n",
       "                      <source src=\"data:video/mp4;base64,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\" type=\"video/mp4\" />\n",
       "                 </video>"
      ]
     },
     "metadata": {
      "tags": []
     }
    }
   ],
   "metadata": {
    "colab": {
     "base_uri": "https://localhost:8080/",
     "height": 438
    },
    "id": "W3r5WHYZctYN",
    "outputId": "0962127a-03ee-43da-d678-081a881e397a"
   }
  },
  {
   "cell_type": "markdown",
   "source": [
    "# `AgentStats`: A powerfull class for hyperparameter optimization, training and evaluating agents."
   ],
   "metadata": {
    "id": "7XV-Z1Znen44"
   }
  },
  {
   "cell_type": "code",
   "execution_count": 6,
   "source": [
    "# Create random agent as a baseline\n",
    "class RandomAgent(Agent):\n",
    "    name = 'RandomAgent'\n",
    "    def __init__(self, env, gamma=0.99, epsilon=1e-5, **kwargs):   # it's important to put **kwargs to ensure compatibility with the base class \n",
    "        \"\"\"\n",
    "        gamma: discount factor\n",
    "        episilon: precision of value iteration\n",
    "        \"\"\"\n",
    "        Agent.__init__(self, env, **kwargs) # self.env is initialized in the base class\n",
    "\n",
    "    def fit(self, **kwargs):  \n",
    "        pass\n",
    "          \n",
    "    def policy(self, observation, **kwargs):\n",
    "        return self.env.action_space.sample()"
   ],
   "outputs": [],
   "metadata": {
    "id": "l3OCUH2YfhOQ"
   }
  },
  {
   "cell_type": "code",
   "execution_count": 7,
   "source": [
    "from rlberry.stats import AgentStats, evaluate_policies\n",
    "\n",
    "# Define parameters\n",
    "vi_params = {'gamma':0.1, 'epsilon':1e-3}\n",
    "\n",
    "# Create AgentStats to fit 4 agents using 1 job\n",
    "vi_stats = AgentStats(ValueIterationAgent, env, eval_horizon=20, init_kwargs=vi_params, n_fit=4, n_jobs=1)\n",
    "vi_stats.fit()\n",
    "\n",
    "# Create AgentStats for baseline\n",
    "baseline_stats = AgentStats(RandomAgent, env, eval_horizon=20, n_fit=1)\n",
    "\n",
    "# Compare policies using 10 Monte Carlo simulations\n",
    "output = evaluate_policies([vi_stats, baseline_stats], n_sim=10)\n"
   ],
   "outputs": [
    {
     "output_type": "stream",
     "name": "stdout",
     "text": [
      "\n",
      " Training AgentStats for ValueIterationAgent... \n",
      "\n",
      "\n",
      " ... trained! \n",
      "\n",
      "\n",
      " Training AgentStats for RandomAgent... \n",
      "\n"
     ]
    },
    {
     "output_type": "stream",
     "name": "stderr",
     "text": [
      "[Parallel(n_jobs=1)]: Using backend SequentialBackend with 1 concurrent workers.\n",
      "[Parallel(n_jobs=1)]: Done   1 out of   1 | elapsed:    0.0s remaining:    0.0s\n",
      "[Parallel(n_jobs=1)]: Done   2 out of   2 | elapsed:    0.0s remaining:    0.0s\n",
      "[Parallel(n_jobs=1)]: Done   3 out of   3 | elapsed:    0.0s remaining:    0.0s\n",
      "[Parallel(n_jobs=1)]: Done   4 out of   4 | elapsed:    0.0s remaining:    0.0s\n",
      "[Parallel(n_jobs=1)]: Done   4 out of   4 | elapsed:    0.0s finished\n",
      "[Parallel(n_jobs=4)]: Using backend LokyBackend with 4 concurrent workers.\n",
      "[Parallel(n_jobs=4)]: Done   1 out of   1 | elapsed:    3.6s finished\n"
     ]
    },
    {
     "output_type": "stream",
     "name": "stdout",
     "text": [
      "\n",
      " ... trained! \n",
      "\n"
     ]
    },
    {
     "output_type": "display_data",
     "data": {
      "text/plain": [
       "<Figure size 432x288 with 1 Axes>"
      ],
      "image/png": "[encoded data removed]"
     },
     "metadata": {
      "tags": [],
      "needs_background": "light"
     }
    }
   ],
   "metadata": {
    "colab": {
     "base_uri": "https://localhost:8080/",
     "height": 655
    },
    "id": "ePl7Bqq2eniv",
    "outputId": "cf3fdc67-be32-4baf-8a93-1977915cc3c5"
   }
  },
  {
   "cell_type": "code",
   "execution_count": 11,
   "source": [
    "# The value of gamma above makes our VI agent quite bad! Let's optimize it.\n",
    "vi_stats.optimize_hyperparams(n_trials=15, timeout=30, n_sim=5, n_fit=1, n_jobs=1, sampler_method='random', pruner_method='none')\n",
    "\n",
    "# fit with optimized params\n",
    "vi_stats.fit()\n",
    "\n",
    "# ... and see the results\n",
    "output = evaluate_policies([vi_stats, baseline_stats], n_sim=10)\n"
   ],
   "outputs": [
    {
     "output_type": "stream",
     "name": "stderr",
     "text": [
      "\u001b[32m[I 2020-11-22 15:33:24,381]\u001b[0m A new study created in memory with name: no-name-853cb971-a1ac-45a3-8d33-82ccd07b32c1\u001b[0m\n",
      "\u001b[32m[I 2020-11-22 15:33:24,406]\u001b[0m Trial 0 finished with value: 0.9 and parameters: {'gamma': 0.25}. Best is trial 0 with value: 0.9.\u001b[0m\n",
      "\u001b[32m[I 2020-11-22 15:33:24,427]\u001b[0m Trial 1 finished with value: 0.8799999999999999 and parameters: {'gamma': 0.5}. Best is trial 0 with value: 0.9.\u001b[0m\n",
      "\u001b[32m[I 2020-11-22 15:33:24,578]\u001b[0m Trial 2 finished with value: 2.0 and parameters: {'gamma': 0.99}. Best is trial 2 with value: 2.0.\u001b[0m\n",
      "\u001b[32m[I 2020-11-22 15:33:24,595]\u001b[0m Trial 3 finished with value: 0.9399999999999998 and parameters: {'gamma': 0.25}. Best is trial 2 with value: 2.0.\u001b[0m\n",
      "\u001b[32m[I 2020-11-22 15:33:24,612]\u001b[0m Trial 4 finished with value: 0.96 and parameters: {'gamma': 0.1}. Best is trial 2 with value: 2.0.\u001b[0m\n",
      "\u001b[32m[I 2020-11-22 15:33:24,630]\u001b[0m Trial 5 finished with value: 0.8599999999999998 and parameters: {'gamma': 0.5}. Best is trial 2 with value: 2.0.\u001b[0m\n",
      "\u001b[32m[I 2020-11-22 15:33:24,650]\u001b[0m Trial 6 finished with value: 0.8599999999999998 and parameters: {'gamma': 0.1}. Best is trial 2 with value: 2.0.\u001b[0m\n",
      "\u001b[32m[I 2020-11-22 15:33:24,667]\u001b[0m Trial 7 finished with value: 0.8799999999999999 and parameters: {'gamma': 0.1}. Best is trial 2 with value: 2.0.\u001b[0m\n",
      "\u001b[32m[I 2020-11-22 15:33:24,683]\u001b[0m Trial 8 finished with value: 0.9399999999999998 and parameters: {'gamma': 0.25}. Best is trial 2 with value: 2.0.\u001b[0m\n",
      "\u001b[32m[I 2020-11-22 15:33:24,704]\u001b[0m Trial 9 finished with value: 1.4200000000000002 and parameters: {'gamma': 0.75}. Best is trial 2 with value: 2.0.\u001b[0m\n",
      "\u001b[32m[I 2020-11-22 15:33:24,725]\u001b[0m Trial 10 finished with value: 1.2599999999999998 and parameters: {'gamma': 0.75}. Best is trial 2 with value: 2.0.\u001b[0m\n",
      "\u001b[32m[I 2020-11-22 15:33:24,741]\u001b[0m Trial 11 finished with value: 0.78 and parameters: {'gamma': 0.1}. Best is trial 2 with value: 2.0.\u001b[0m\n",
      "\u001b[32m[I 2020-11-22 15:33:24,890]\u001b[0m Trial 12 finished with value: 2.02 and parameters: {'gamma': 0.99}. Best is trial 12 with value: 2.02.\u001b[0m\n",
      "\u001b[32m[I 2020-11-22 15:33:24,909]\u001b[0m Trial 13 finished with value: 0.96 and parameters: {'gamma': 0.25}. Best is trial 12 with value: 2.02.\u001b[0m\n",
      "\u001b[32m[I 2020-11-22 15:33:24,937]\u001b[0m Trial 14 finished with value: 0.8400000000000001 and parameters: {'gamma': 0.75}. Best is trial 12 with value: 2.02.\u001b[0m\n",
      "[Parallel(n_jobs=1)]: Using backend SequentialBackend with 1 concurrent workers.\n",
      "[Parallel(n_jobs=1)]: Done   1 out of   1 | elapsed:    0.1s remaining:    0.0s\n"
     ]
    },
    {
     "output_type": "stream",
     "name": "stdout",
     "text": [
      "Number of finished trials:  15\n",
      "Best trial:\n",
      "Value:  2.02\n",
      "Params: \n",
      "    gamma: 0.99\n",
      "\n",
      " Training AgentStats for ValueIterationAgent... \n",
      "\n"
     ]
    },
    {
     "output_type": "stream",
     "name": "stderr",
     "text": [
      "[Parallel(n_jobs=1)]: Done   2 out of   2 | elapsed:    0.3s remaining:    0.0s\n",
      "[Parallel(n_jobs=1)]: Done   3 out of   3 | elapsed:    0.4s remaining:    0.0s\n"
     ]
    },
    {
     "output_type": "stream",
     "name": "stdout",
     "text": [
      "\n",
      " ... trained! \n",
      "\n"
     ]
    },
    {
     "output_type": "stream",
     "name": "stderr",
     "text": [
      "[Parallel(n_jobs=1)]: Done   4 out of   4 | elapsed:    0.5s remaining:    0.0s\n",
      "[Parallel(n_jobs=1)]: Done   4 out of   4 | elapsed:    0.5s finished\n"
     ]
    },
    {
     "output_type": "display_data",
     "data": {
      "text/plain": [
       "<Figure size 432x288 with 1 Axes>"
      ],
      "image/png": "[encoded data removed]"
     },
     "metadata": {
      "tags": [],
      "needs_background": "light"
     }
    }
   ],
   "metadata": {
    "colab": {
     "base_uri": "https://localhost:8080/",
     "height": 889
    },
    "id": "slTijRljiamE",
    "outputId": "1c12fc8a-cd2d-418e-9456-4fc80a5783a7"
   }
  }
 ]
}