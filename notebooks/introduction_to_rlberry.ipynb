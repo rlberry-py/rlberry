{
 "nbformat": 4,
 "nbformat_minor": 2,
 "metadata": {
  "colab": {
   "name": "Introduction to rlberry.ipynb",
   "provenance": [],
   "collapsed_sections": [],
   "authorship_tag": "ABX9TyMGbpdlboMc23rqeRODdt47",
   "include_colab_link": true
  },
  "kernelspec": {
   "name": "python3",
   "display_name": "Python 3.7.11 64-bit ('rlberry': conda)"
  },
  "language_info": {
   "name": "python",
   "version": "3.7.11",
   "mimetype": "text/x-python",
   "codemirror_mode": {
    "name": "ipython",
    "version": 3
   },
   "pygments_lexer": "ipython3",
   "nbconvert_exporter": "python",
   "file_extension": ".py"
  },
  "interpreter": {
   "hash": "77626d6da4f24721c6cde6592fa6521e12f75aa06b21b1ac25df0859aa7f2530"
  }
 },
 "cells": [
  {
   "cell_type": "markdown",
   "source": [
    "<a href=\"https://colab.research.google.com/github/rlberry-py/rlberry/blob/main/notebooks/introduction_to_rlberry.ipynb\" target=\"_parent\"><img src=\"https://colab.research.google.com/assets/colab-badge.svg\" alt=\"Open In Colab\"/></a>"
   ],
   "metadata": {
    "id": "view-in-github",
    "colab_type": "text"
   }
  },
  {
   "cell_type": "markdown",
   "source": [
    "# Introduction to\n",
    "<img src=\"https://raw.githubusercontent.com/rlberry-py/rlberry/main/assets/logo_wide.svg\" width=\"700\"/>\n",
    "\n",
    "\n"
   ],
   "metadata": {
    "id": "gVtvJ8vqQehR"
   }
  },
  {
   "cell_type": "markdown",
   "source": [
    "# Colab setup"
   ],
   "metadata": {
    "id": "BR9N_lSyTh-E"
   }
  },
  {
   "cell_type": "code",
   "execution_count": 1,
   "source": [
    "from IPython import get_ipython\n",
    "COLAB = False\n",
    "if 'google.colab' in str(get_ipython()):\n",
    "    COLAB = True\n",
    "\n",
    "if COLAB:\n",
    "    # install rlberry library\n",
    "    !git clone https://github.com/rlberry-py/rlberry.git \n",
    "    !cd rlberry && git pull && pip install -e . > /dev/null 2>&1\n",
    "\n",
    "    # install ffmpeg-python for saving videos\n",
    "    !pip install ffmpeg-python > /dev/null 2>&1\n",
    "\n",
    "    # install optuna for hyperparameter optimization\n",
    "    !pip install optuna > /dev/null 2>&1\n",
    "\n",
    "    # packages required to show video\n",
    "    !pip install pyvirtualdisplay > /dev/null 2>&1\n",
    "    !apt-get install -y xvfb python-opengl ffmpeg > /dev/null 2>&1\n",
    "\n",
    "    print(\"\")\n",
    "    print(\" ~~~  Libraries installed, please restart the runtime! ~~~ \")\n",
    "    print(\"\")\n"
   ],
   "outputs": [],
   "metadata": {
    "id": "j2VU8Y7xQbSg",
    "colab": {
     "base_uri": "https://localhost:8080/"
    },
    "outputId": "f033b175-4db6-4e82-f75f-f29c8e23b7ed"
   }
  },
  {
   "cell_type": "code",
   "execution_count": 2,
   "source": [
    "# Create directory for saving videos\n",
    "!mkdir videos > /dev/null 2>&1\n",
    "\n",
    "# Initialize display and import function to show videos\n",
    "import rlberry.colab_utils.display_setup\n",
    "from rlberry.colab_utils.display_setup import show_video"
   ],
   "outputs": [],
   "metadata": {
    "id": "rvkt6z9pVUnv"
   }
  },
  {
   "cell_type": "markdown",
   "source": [
    "# Interacting with a simple environment"
   ],
   "metadata": {
    "id": "BCCyreAiWikz"
   }
  },
  {
   "cell_type": "code",
   "execution_count": 3,
   "source": [
    "from rlberry.envs import GridWorld\n",
    "\n",
    "# A grid world is a simple environment with finite states and actions, on which \n",
    "# we can test simple algorithms.\n",
    "# -> The reward function can be accessed by: env.R[state, action]\n",
    "# -> And the transitions: env.P[state, action, next_state]\n",
    "env_ctor = GridWorld\n",
    "env_kwargs =dict(nrows=3, ncols=10,\n",
    "                reward_at = {(1,1):0.1, (2, 9):1.0},\n",
    "                walls=((1,4),(2,4), (1,5)),\n",
    "                success_probability=0.9)\n",
    "env = env_ctor(**env_kwargs)\n",
    "\n",
    "# Let's visuzalize a random policy in this environment!\n",
    "env.enable_rendering()\n",
    "env.reset()\n",
    "for tt in range(20):\n",
    "    action = env.action_space.sample()\n",
    "    next_state, reward, is_terminal, info = env.step(action)\n",
    "\n",
    "# save video and clear buffer\n",
    "env.save_video('./videos/gw.mp4', framerate=5)\n",
    "env.clear_render_buffer()\n",
    "# show video\n",
    "show_video('./videos/gw.mp4')"
   ],
   "outputs": [
    {
     "output_type": "stream",
     "name": "stderr",
     "text": [
      "[INFO] OpenGL_accelerate module loaded \n",
      "[INFO] Using accelerated ArrayDatatype \n",
      "ffmpeg version 4.2.4-1ubuntu0.1 Copyright (c) 2000-2020 the FFmpeg developers\n",
      "  built with gcc 9 (Ubuntu 9.3.0-10ubuntu2)\n",
      "  configuration: --prefix=/usr --extra-version=1ubuntu0.1 --toolchain=hardened --libdir=/usr/lib/x86_64-linux-gnu --incdir=/usr/include/x86_64-linux-gnu --arch=amd64 --enable-gpl --disable-stripping --enable-avresample --disable-filter=resample --enable-avisynth --enable-gnutls --enable-ladspa --enable-libaom --enable-libass --enable-libbluray --enable-libbs2b --enable-libcaca --enable-libcdio --enable-libcodec2 --enable-libflite --enable-libfontconfig --enable-libfreetype --enable-libfribidi --enable-libgme --enable-libgsm --enable-libjack --enable-libmp3lame --enable-libmysofa --enable-libopenjpeg --enable-libopenmpt --enable-libopus --enable-libpulse --enable-librsvg --enable-librubberband --enable-libshine --enable-libsnappy --enable-libsoxr --enable-libspeex --enable-libssh --enable-libtheora --enable-libtwolame --enable-libvidstab --enable-libvorbis --enable-libvpx --enable-libwavpack --enable-libwebp --enable-libx265 --enable-libxml2 --enable-libxvid --enable-libzmq --enable-libzvbi --enable-lv2 --enable-omx --enable-openal --enable-opencl --enable-opengl --enable-sdl2 --enable-libdc1394 --enable-libdrm --enable-libiec61883 --enable-nvenc --enable-chromaprint --enable-frei0r --enable-libx264 --enable-shared\n",
      "  libavutil      56. 31.100 / 56. 31.100\n",
      "  libavcodec     58. 54.100 / 58. 54.100\n",
      "  libavformat    58. 29.100 / 58. 29.100\n",
      "  libavdevice    58.  8.100 / 58.  8.100\n",
      "  libavfilter     7. 57.100 /  7. 57.100\n",
      "  libavresample   4.  0.  0 /  4.  0.  0\n",
      "  libswscale      5.  5.100 /  5.  5.100\n",
      "  libswresample   3.  5.100 /  3.  5.100\n",
      "  libpostproc    55.  5.100 / 55.  5.100\n",
      "Input #0, rawvideo, from 'pipe:':\n",
      "  Duration: N/A, start: 0.000000, bitrate: 23040 kb/s\n",
      "    Stream #0:0: Video: rawvideo (RGB[24] / 0x18424752), rgb24, 800x240, 23040 kb/s, 5 tbr, 5 tbn, 5 tbc\n",
      "Stream mapping:\n",
      "  Stream #0:0 -> #0:0 (rawvideo (native) -> h264 (libx264))\n",
      "[libx264 @ 0x558ffa386a80] using cpu capabilities: MMX2 SSE2Fast SSSE3 SSE4.2 AVX FMA3 BMI2 AVX2\n",
      "[libx264 @ 0x558ffa386a80] profile High, level 2.1\n",
      "[libx264 @ 0x558ffa386a80] 264 - core 155 r2917 0a84d98 - H.264/MPEG-4 AVC codec - Copyleft 2003-2018 - http://www.videolan.org/x264.html - options: cabac=1 ref=3 deblock=1:0:0 analyse=0x3:0x113 me=hex subme=7 psy=1 psy_rd=1.00:0.00 mixed_ref=1 me_range=16 chroma_me=1 trellis=1 8x8dct=1 cqm=0 deadzone=21,11 fast_pskip=1 chroma_qp_offset=-2 threads=6 lookahead_threads=1 sliced_threads=0 nr=0 decimate=1 interlaced=0 bluray_compat=0 constrained_intra=0 bframes=3 b_pyramid=2 b_adapt=1 b_bias=0 direct=1 weightb=1 open_gop=0 weightp=2 keyint=250 keyint_min=5 scenecut=40 intra_refresh=0 rc_lookahead=40 rc=crf mbtree=1 crf=23.0 qcomp=0.60 qpmin=0 qpmax=69 qpstep=4 ip_ratio=1.40 aq=1:1.00\n",
      "Output #0, mp4, to './videos/gw.mp4':\n",
      "  Metadata:\n",
      "    encoder         : Lavf58.29.100\n",
      "    Stream #0:0: Video: h264 (libx264) (avc1 / 0x31637661), yuv420p, 800x240, q=-1--1, 5 fps, 10240 tbn, 5 tbc\n",
      "    Metadata:\n",
      "      encoder         : Lavc58.54.100 libx264\n",
      "    Side data:\n",
      "      cpb: bitrate max/min/avg: 0/0/0 buffer size: 0 vbv_delay: -1\n",
      "frame=   21 fps=0.0 q=-1.0 Lsize=       8kB time=00:00:03.60 bitrate=  17.7kbits/s speed=43.7x    \n",
      "video:7kB audio:0kB subtitle:0kB other streams:0kB global headers:0kB muxing overhead: 15.356833%\n",
      "[libx264 @ 0x558ffa386a80] frame I:1     Avg QP: 6.18  size:  1573\n",
      "[libx264 @ 0x558ffa386a80] frame P:9     Avg QP:14.57  size:   302\n",
      "[libx264 @ 0x558ffa386a80] frame B:11    Avg QP:16.14  size:   177\n",
      "[libx264 @ 0x558ffa386a80] consecutive B-frames: 14.3% 38.1% 28.6% 19.0%\n",
      "[libx264 @ 0x558ffa386a80] mb I  I16..4: 96.8%  0.0%  3.2%\n",
      "[libx264 @ 0x558ffa386a80] mb P  I16..4:  0.4%  1.1%  0.7%  P16..4:  0.5%  0.1%  0.0%  0.0%  0.0%    skip:97.3%\n",
      "[libx264 @ 0x558ffa386a80] mb B  I16..4:  0.0%  0.0%  0.3%  B16..8:  2.2%  0.0%  0.0%  direct: 0.1%  skip:97.4%  L0:48.6% L1:51.4% BI: 0.0%\n",
      "[libx264 @ 0x558ffa386a80] 8x8 transform intra:7.9% inter:0.0%\n",
      "[libx264 @ 0x558ffa386a80] coded y,uvDC,uvAC intra: 6.6% 12.0% 10.5% inter: 0.0% 0.1% 0.1%\n",
      "[libx264 @ 0x558ffa386a80] i16 v,h,dc,p: 89%  3%  8%  0%\n",
      "[libx264 @ 0x558ffa386a80] i8 v,h,dc,ddl,ddr,vr,hd,vl,hu:  0%  0% 100%  0%  0%  0%  0%  0%  0%\n",
      "[libx264 @ 0x558ffa386a80] i4 v,h,dc,ddl,ddr,vr,hd,vl,hu: 14% 19% 48%  7%  6%  2%  0%  2%  1%\n",
      "[libx264 @ 0x558ffa386a80] i8c dc,h,v,p: 82% 10%  4%  5%\n",
      "[libx264 @ 0x558ffa386a80] Weighted P-Frames: Y:0.0% UV:0.0%\n",
      "[libx264 @ 0x558ffa386a80] ref P L0: 18.9%  0.0% 67.6% 13.5%\n",
      "[libx264 @ 0x558ffa386a80] ref B L0: 79.2% 19.7%  1.1%\n",
      "[libx264 @ 0x558ffa386a80] ref B L1: 85.6% 14.4%\n",
      "[libx264 @ 0x558ffa386a80] kb/s:11.87\n"
     ]
    },
    {
     "output_type": "display_data",
     "data": {
      "text/plain": [
       "<IPython.core.display.HTML object>"
      ],
      "text/html": [
       "<video alt=\"videos/gw.mp4\" autoplay\n",
       "                      loop controls style=\"height: 400px;\">\n",
       "                    <source src=\"data:video/mp4;base64,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\" type=\"video/mp4\" />\n",
       "                 </video>"
      ]
     },
     "metadata": {}
    }
   ],
   "metadata": {
    "colab": {
     "base_uri": "https://localhost:8080/",
     "height": 438
    },
    "id": "M5qrjKk3WiHE",
    "outputId": "30b601df-417b-45c3-9be2-5e68a1a59c72"
   }
  },
  {
   "cell_type": "markdown",
   "source": [
    "# Creating an agent\n",
    "\n",
    "Let's create an agent that runs value iteration to find a near-optimal policy.\n",
    "This is possible in our GridWorld, because we have access to the transitions `env.P` and the rewards `env.R`.\n",
    "\n",
    "\n",
    "An `Agent` must implement at least two methods, **fit()** and **eval()**. These methods train and evaluate the agent, respectively. A convenient subclass of `Agent`, `AgentWithSimplePolicy`, requires a **policy()** method instead of **eval()** and implements a default `eval()` method that performs Monte-Carlo policy evaluation.\n",
    "\n",
    "It can also implement **sample_parameters()** used for hyperparameter optimization with [Optuna](https://optuna.org/).\n"
   ],
   "metadata": {
    "id": "jWgoh5yoYuDE"
   }
  },
  {
   "cell_type": "code",
   "execution_count": 4,
   "source": [
    "import numpy as np\n",
    "from rlberry.agents import AgentWithSimplePolicy\n",
    "\n",
    "class ValueIterationAgent(AgentWithSimplePolicy):\n",
    "    name = 'ValueIterationAgent'\n",
    "    def __init__(self, env, gamma=0.99, epsilon=1e-5, **kwargs):   # it's important to put **kwargs to ensure compatibility with the base class \n",
    "        \"\"\"\n",
    "        gamma: discount factor\n",
    "        episilon: precision of value iteration\n",
    "        \"\"\"\n",
    "        AgentWithSimplePolicy.__init__(self, env, **kwargs) # self.env is initialized in the base class\n",
    "\n",
    "        self.gamma = gamma\n",
    "        self.epsilon = epsilon \n",
    "        self.Q = None  # Q function to be computed in fit()\n",
    "    \n",
    "    def fit(self, budget=None, **kwargs):  \n",
    "        \"\"\"\n",
    "        Run value iteration.\n",
    "        \"\"\"\n",
    "        S, A = env.observation_space.n, env.action_space.n \n",
    "        Q = np.zeros((S, A))\n",
    "        V = np.zeros(S)\n",
    "\n",
    "        while True:\n",
    "            TQ = np.zeros((S, A))\n",
    "            for ss in range(S):\n",
    "                for aa in range(A):\n",
    "                    TQ[ss, aa] = env.R[ss, aa] + self.gamma*env.P[ss, aa, :].dot(V)\n",
    "            V = TQ.max(axis=1)\n",
    "\n",
    "            if np.abs(TQ-Q).max() < self.epsilon:\n",
    "                break\n",
    "            Q = TQ\n",
    "        self.Q = Q\n",
    "          \n",
    "    def policy(self, observation, **kwargs):\n",
    "        return self.Q[observation, :].argmax()\n",
    "\n",
    "    \n",
    "    @classmethod\n",
    "    def sample_parameters(cls, trial):\n",
    "      \"\"\"\n",
    "      Sample hyperparameters for hyperparam optimization using Optuna (https://optuna.org/)\n",
    "      \"\"\"\n",
    "      gamma = trial.suggest_categorical('gamma', [0.1, 0.25, 0.5, 0.75, 0.99])\n",
    "      return {'gamma':gamma}\n"
   ],
   "outputs": [],
   "metadata": {
    "id": "AJVMjW7WYspi"
   }
  },
  {
   "cell_type": "code",
   "execution_count": 5,
   "source": [
    "# Now, let's fit and test the agent!\n",
    "agent = ValueIterationAgent(env)\n",
    "agent.fit()\n",
    "\n",
    "\n",
    "# Run agent's policy\n",
    "env.enable_rendering()\n",
    "state = env.reset()\n",
    "for tt in range(20):\n",
    "    action = agent.policy(state)\n",
    "    state, reward, is_terminal, info = env.step(action)\n",
    "\n",
    "# save video and clear buffer\n",
    "env.save_video('./videos/gw.mp4', framerate=5)\n",
    "env.clear_render_buffer()\n",
    "# show video\n",
    "show_video('./videos/gw.mp4')\n"
   ],
   "outputs": [
    {
     "output_type": "stream",
     "name": "stderr",
     "text": [
      "ffmpeg version 4.2.4-1ubuntu0.1 Copyright (c) 2000-2020 the FFmpeg developers\n",
      "  built with gcc 9 (Ubuntu 9.3.0-10ubuntu2)\n",
      "  configuration: --prefix=/usr --extra-version=1ubuntu0.1 --toolchain=hardened --libdir=/usr/lib/x86_64-linux-gnu --incdir=/usr/include/x86_64-linux-gnu --arch=amd64 --enable-gpl --disable-stripping --enable-avresample --disable-filter=resample --enable-avisynth --enable-gnutls --enable-ladspa --enable-libaom --enable-libass --enable-libbluray --enable-libbs2b --enable-libcaca --enable-libcdio --enable-libcodec2 --enable-libflite --enable-libfontconfig --enable-libfreetype --enable-libfribidi --enable-libgme --enable-libgsm --enable-libjack --enable-libmp3lame --enable-libmysofa --enable-libopenjpeg --enable-libopenmpt --enable-libopus --enable-libpulse --enable-librsvg --enable-librubberband --enable-libshine --enable-libsnappy --enable-libsoxr --enable-libspeex --enable-libssh --enable-libtheora --enable-libtwolame --enable-libvidstab --enable-libvorbis --enable-libvpx --enable-libwavpack --enable-libwebp --enable-libx265 --enable-libxml2 --enable-libxvid --enable-libzmq --enable-libzvbi --enable-lv2 --enable-omx --enable-openal --enable-opencl --enable-opengl --enable-sdl2 --enable-libdc1394 --enable-libdrm --enable-libiec61883 --enable-nvenc --enable-chromaprint --enable-frei0r --enable-libx264 --enable-shared\n",
      "  libavutil      56. 31.100 / 56. 31.100\n",
      "  libavcodec     58. 54.100 / 58. 54.100\n",
      "  libavformat    58. 29.100 / 58. 29.100\n",
      "  libavdevice    58.  8.100 / 58.  8.100\n",
      "  libavfilter     7. 57.100 /  7. 57.100\n",
      "  libavresample   4.  0.  0 /  4.  0.  0\n",
      "  libswscale      5.  5.100 /  5.  5.100\n",
      "  libswresample   3.  5.100 /  3.  5.100\n",
      "  libpostproc    55.  5.100 / 55.  5.100\n",
      "Input #0, rawvideo, from 'pipe:':\n",
      "  Duration: N/A, start: 0.000000, bitrate: 23040 kb/s\n",
      "    Stream #0:0: Video: rawvideo (RGB[24] / 0x18424752), rgb24, 800x240, 23040 kb/s, 5 tbr, 5 tbn, 5 tbc\n",
      "Stream mapping:\n",
      "  Stream #0:0 -> #0:0 (rawvideo (native) -> h264 (libx264))\n",
      "[libx264 @ 0x563a5c3e1a80] using cpu capabilities: MMX2 SSE2Fast SSSE3 SSE4.2 AVX FMA3 BMI2 AVX2\n",
      "[libx264 @ 0x563a5c3e1a80] profile High, level 2.1\n",
      "[libx264 @ 0x563a5c3e1a80] 264 - core 155 r2917 0a84d98 - H.264/MPEG-4 AVC codec - Copyleft 2003-2018 - http://www.videolan.org/x264.html - options: cabac=1 ref=3 deblock=1:0:0 analyse=0x3:0x113 me=hex subme=7 psy=1 psy_rd=1.00:0.00 mixed_ref=1 me_range=16 chroma_me=1 trellis=1 8x8dct=1 cqm=0 deadzone=21,11 fast_pskip=1 chroma_qp_offset=-2 threads=6 lookahead_threads=1 sliced_threads=0 nr=0 decimate=1 interlaced=0 bluray_compat=0 constrained_intra=0 bframes=3 b_pyramid=2 b_adapt=1 b_bias=0 direct=1 weightb=1 open_gop=0 weightp=2 keyint=250 keyint_min=5 scenecut=40 intra_refresh=0 rc_lookahead=40 rc=crf mbtree=1 crf=23.0 qcomp=0.60 qpmin=0 qpmax=69 qpstep=4 ip_ratio=1.40 aq=1:1.00\n",
      "Output #0, mp4, to './videos/gw.mp4':\n",
      "  Metadata:\n",
      "    encoder         : Lavf58.29.100\n",
      "    Stream #0:0: Video: h264 (libx264) (avc1 / 0x31637661), yuv420p, 800x240, q=-1--1, 5 fps, 10240 tbn, 5 tbc\n",
      "    Metadata:\n",
      "      encoder         : Lavc58.54.100 libx264\n",
      "    Side data:\n",
      "      cpb: bitrate max/min/avg: 0/0/0 buffer size: 0 vbv_delay: -1\n",
      "frame=   21 fps=0.0 q=-1.0 Lsize=       9kB time=00:00:03.60 bitrate=  20.0kbits/s speed=67.9x    \n",
      "video:8kB audio:0kB subtitle:0kB other streams:0kB global headers:0kB muxing overhead: 12.712926%\n",
      "[libx264 @ 0x563a5c3e1a80] frame I:1     Avg QP: 6.27  size:  1560\n",
      "[libx264 @ 0x563a5c3e1a80] frame P:13    Avg QP:14.67  size:   397\n",
      "[libx264 @ 0x563a5c3e1a80] frame B:7     Avg QP:12.54  size:    83\n",
      "[libx264 @ 0x563a5c3e1a80] consecutive B-frames: 52.4%  9.5%  0.0% 38.1%\n",
      "[libx264 @ 0x563a5c3e1a80] mb I  I16..4: 96.8%  0.0%  3.2%\n",
      "[libx264 @ 0x563a5c3e1a80] mb P  I16..4:  0.4%  1.1%  0.9%  P16..4:  0.3%  0.0%  0.0%  0.0%  0.0%    skip:97.4%\n",
      "[libx264 @ 0x563a5c3e1a80] mb B  I16..4:  0.0%  0.0%  0.1%  B16..8:  1.4%  0.0%  0.0%  direct: 0.0%  skip:98.4%  L0:56.6% L1:43.4% BI: 0.0%\n",
      "[libx264 @ 0x563a5c3e1a80] 8x8 transform intra:10.8% inter:0.0%\n",
      "[libx264 @ 0x563a5c3e1a80] coded y,uvDC,uvAC intra: 7.6% 14.8% 13.1% inter: 0.0% 0.1% 0.1%\n",
      "[libx264 @ 0x563a5c3e1a80] i16 v,h,dc,p: 89%  3%  8%  0%\n",
      "[libx264 @ 0x563a5c3e1a80] i8 v,h,dc,ddl,ddr,vr,hd,vl,hu:  0%  0% 100%  0%  0%  0%  0%  0%  0%\n",
      "[libx264 @ 0x563a5c3e1a80] i4 v,h,dc,ddl,ddr,vr,hd,vl,hu: 17% 16% 48%  7%  6%  2%  1%  2%  1%\n",
      "[libx264 @ 0x563a5c3e1a80] i8c dc,h,v,p: 81% 10%  4%  6%\n",
      "[libx264 @ 0x563a5c3e1a80] Weighted P-Frames: Y:0.0% UV:0.0%\n",
      "[libx264 @ 0x563a5c3e1a80] ref P L0: 50.0%  0.0% 23.3% 26.7%\n",
      "[libx264 @ 0x563a5c3e1a80] ref B L0: 76.7% 23.3%\n",
      "[libx264 @ 0x563a5c3e1a80] kb/s:13.90\n"
     ]
    },
    {
     "output_type": "display_data",
     "data": {
      "text/plain": [
       "<IPython.core.display.HTML object>"
      ],
      "text/html": [
       "<video alt=\"videos/gw.mp4\" autoplay\n",
       "                      loop controls style=\"height: 400px;\">\n",
       "                    <source src=\"data:video/mp4;base64,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\" type=\"video/mp4\" />\n",
       "                 </video>"
      ]
     },
     "metadata": {}
    }
   ],
   "metadata": {
    "colab": {
     "base_uri": "https://localhost:8080/",
     "height": 438
    },
    "id": "W3r5WHYZctYN",
    "outputId": "0962127a-03ee-43da-d678-081a881e397a"
   }
  },
  {
   "cell_type": "markdown",
   "source": [
    "# `AgentStats`: A powerfull class for hyperparameter optimization, training and evaluating agents."
   ],
   "metadata": {
    "id": "7XV-Z1Znen44"
   }
  },
  {
   "cell_type": "code",
   "execution_count": 6,
   "source": [
    "# Create random agent as a baseline\n",
    "class RandomAgent(AgentWithSimplePolicy):\n",
    "    name = 'RandomAgent'\n",
    "    def __init__(self, env, gamma=0.99, epsilon=1e-5, **kwargs):   # it's important to put **kwargs to ensure compatibility with the base class \n",
    "        \"\"\"\n",
    "        gamma: discount factor\n",
    "        episilon: precision of value iteration\n",
    "        \"\"\"\n",
    "        AgentWithSimplePolicy.__init__(self, env, **kwargs) # self.env is initialized in the base class\n",
    "\n",
    "    def fit(self, budget=None, **kwargs):  \n",
    "        pass\n",
    "          \n",
    "    def policy(self, observation, **kwargs):\n",
    "        return self.env.action_space.sample()"
   ],
   "outputs": [],
   "metadata": {
    "id": "l3OCUH2YfhOQ"
   }
  },
  {
   "cell_type": "code",
   "execution_count": 7,
   "source": [
    "from rlberry.stats import AgentStats, evaluate_agents\n",
    "\n",
    "# Define parameters\n",
    "vi_params = {'gamma':0.1, 'epsilon':1e-3}\n",
    "\n",
    "# Create AgentStats to fit 4 agents using 1 job\n",
    "vi_stats = AgentStats(\n",
    "    ValueIterationAgent,\n",
    "    (env_ctor, env_kwargs),\n",
    "    fit_budget=None,\n",
    "    eval_kwargs=dict(eval_horizon=20),\n",
    "    init_kwargs=vi_params,\n",
    "    n_fit=4)\n",
    "vi_stats.fit()\n",
    "\n",
    "# Create AgentStats for baseline\n",
    "baseline_stats = AgentStats(\n",
    "    RandomAgent,\n",
    "    (env_ctor, env_kwargs),\n",
    "    fit_budget=None,\n",
    "    eval_kwargs=dict(eval_horizon=20),\n",
    "    n_fit=1)\n",
    "baseline_stats.fit()\n",
    "\n",
    "# Compare policies using 10 Monte Carlo simulations\n",
    "output = evaluate_agents([vi_stats, baseline_stats])\n"
   ],
   "outputs": [
    {
     "output_type": "stream",
     "name": "stderr",
     "text": [
      "[INFO] Training AgentStats for ValueIterationAgent...  \n",
      "[INFO] Sucessful call to AgentHandler.dump() for <class '__main__.ValueIterationAgent'> \n",
      "[INFO] Sucessful call to AgentHandler.dump() for <class '__main__.ValueIterationAgent'> \n",
      "[INFO] Sucessful call to AgentHandler.dump() for <class '__main__.ValueIterationAgent'> \n",
      "[INFO] Sucessful call to AgentHandler.dump() for <class '__main__.ValueIterationAgent'> \n",
      "[INFO] ... trained! \n",
      "[INFO] Sucessful call to AgentHandler.load() for <class '__main__.ValueIterationAgent'> \n",
      "[INFO] Sucessful call to AgentHandler.load() for <class '__main__.ValueIterationAgent'> \n",
      "[INFO] Sucessful call to AgentHandler.load() for <class '__main__.ValueIterationAgent'> \n",
      "[INFO] Sucessful call to AgentHandler.load() for <class '__main__.ValueIterationAgent'> \n",
      "[INFO] Training AgentStats for RandomAgent...  \n",
      "[INFO] Sucessful call to AgentHandler.dump() for <class '__main__.RandomAgent'> \n",
      "[INFO] ... trained! \n",
      "[INFO] Sucessful call to AgentHandler.load() for <class '__main__.RandomAgent'> \n",
      "[INFO] Evaluating ValueIterationAgent... \n",
      "[INFO] ... simulation 1/5 \n",
      "[INFO] ... simulation 2/5 \n",
      "[INFO] ... simulation 3/5 \n",
      "[INFO] ... simulation 4/5 \n",
      "[INFO] ... simulation 5/5 \n",
      "[INFO] Evaluating RandomAgent... \n",
      "[INFO] ... simulation 1/5 \n",
      "[INFO] ... simulation 2/5 \n",
      "[INFO] ... simulation 3/5 \n",
      "[INFO] ... simulation 4/5 \n",
      "[INFO] ... simulation 5/5 \n"
     ]
    },
    {
     "output_type": "display_data",
     "data": {
      "text/plain": [
       "<Figure size 432x288 with 1 Axes>"
      ],
      "image/svg+xml": "<?xml version=\"1.0\" encoding=\"utf-8\" standalone=\"no\"?>\n<!DOCTYPE svg PUBLIC \"-//W3C//DTD SVG 1.1//EN\"\n  \"http://www.w3.org/Graphics/SVG/1.1/DTD/svg11.dtd\">\n<svg height=\"262.19625pt\" version=\"1.1\" viewBox=\"0 0 385.78125 262.19625\" width=\"385.78125pt\" xmlns=\"http://www.w3.org/2000/svg\" xmlns:xlink=\"http://www.w3.org/1999/xlink\">\n <metadata>\n  <rdf:RDF xmlns:cc=\"http://creativecommons.org/ns#\" xmlns:dc=\"http://purl.org/dc/elements/1.1/\" xmlns:rdf=\"http://www.w3.org/1999/02/22-rdf-syntax-ns#\">\n   <cc:Work>\n    <dc:type rdf:resource=\"http://purl.org/dc/dcmitype/StillImage\"/>\n    <dc:date>2021-08-25T17:31:53.176867</dc:date>\n    <dc:format>image/svg+xml</dc:format>\n    <dc:creator>\n     <cc:Agent>\n      <dc:title>Matplotlib v3.4.3, https://matplotlib.org/</dc:title>\n     </cc:Agent>\n    </dc:creator>\n   </cc:Work>\n  </rdf:RDF>\n </metadata>\n <defs>\n  <style type=\"text/css\">*{stroke-linecap:butt;stroke-linejoin:round;}</style>\n </defs>\n <g id=\"figure_1\">\n  <g id=\"patch_1\">\n   <path d=\"M 0 262.19625 \nL 385.78125 262.19625 \nL 385.78125 0 \nL 0 0 \nz\n\" style=\"fill:none;\"/>\n  </g>\n  <g id=\"axes_1\">\n   <g id=\"patch_2\">\n    <path d=\"M 43.78125 224.64 \nL 378.58125 224.64 \nL 378.58125 7.2 \nL 43.78125 7.2 \nz\n\" style=\"fill:#ffffff;\"/>\n   </g>\n   <g id=\"matplotlib.axis_1\">\n    <g id=\"xtick_1\">\n     <g id=\"text_1\">\n      <!-- ValueIterationAgent -->\n      <g style=\"fill:#262626;\" transform=\"translate(77.741406 239.238438)scale(0.1 -0.1)\">\n       <defs>\n        <path d=\"M 1831 0 \nL 50 4666 \nL 709 4666 \nL 2188 738 \nL 3669 4666 \nL 4325 4666 \nL 2547 0 \nL 1831 0 \nz\n\" id=\"DejaVuSans-56\" transform=\"scale(0.015625)\"/>\n        <path d=\"M 2194 1759 \nQ 1497 1759 1228 1600 \nQ 959 1441 959 1056 \nQ 959 750 1161 570 \nQ 1363 391 1709 391 \nQ 2188 391 2477 730 \nQ 2766 1069 2766 1631 \nL 2766 1759 \nL 2194 1759 \nz\nM 3341 1997 \nL 3341 0 \nL 2766 0 \nL 2766 531 \nQ 2569 213 2275 61 \nQ 1981 -91 1556 -91 \nQ 1019 -91 701 211 \nQ 384 513 384 1019 \nQ 384 1609 779 1909 \nQ 1175 2209 1959 2209 \nL 2766 2209 \nL 2766 2266 \nQ 2766 2663 2505 2880 \nQ 2244 3097 1772 3097 \nQ 1472 3097 1187 3025 \nQ 903 2953 641 2809 \nL 641 3341 \nQ 956 3463 1253 3523 \nQ 1550 3584 1831 3584 \nQ 2591 3584 2966 3190 \nQ 3341 2797 3341 1997 \nz\n\" id=\"DejaVuSans-61\" transform=\"scale(0.015625)\"/>\n        <path d=\"M 603 4863 \nL 1178 4863 \nL 1178 0 \nL 603 0 \nL 603 4863 \nz\n\" id=\"DejaVuSans-6c\" transform=\"scale(0.015625)\"/>\n        <path d=\"M 544 1381 \nL 544 3500 \nL 1119 3500 \nL 1119 1403 \nQ 1119 906 1312 657 \nQ 1506 409 1894 409 \nQ 2359 409 2629 706 \nQ 2900 1003 2900 1516 \nL 2900 3500 \nL 3475 3500 \nL 3475 0 \nL 2900 0 \nL 2900 538 \nQ 2691 219 2414 64 \nQ 2138 -91 1772 -91 \nQ 1169 -91 856 284 \nQ 544 659 544 1381 \nz\nM 1991 3584 \nL 1991 3584 \nz\n\" id=\"DejaVuSans-75\" transform=\"scale(0.015625)\"/>\n        <path d=\"M 3597 1894 \nL 3597 1613 \nL 953 1613 \nQ 991 1019 1311 708 \nQ 1631 397 2203 397 \nQ 2534 397 2845 478 \nQ 3156 559 3463 722 \nL 3463 178 \nQ 3153 47 2828 -22 \nQ 2503 -91 2169 -91 \nQ 1331 -91 842 396 \nQ 353 884 353 1716 \nQ 353 2575 817 3079 \nQ 1281 3584 2069 3584 \nQ 2775 3584 3186 3129 \nQ 3597 2675 3597 1894 \nz\nM 3022 2063 \nQ 3016 2534 2758 2815 \nQ 2500 3097 2075 3097 \nQ 1594 3097 1305 2825 \nQ 1016 2553 972 2059 \nL 3022 2063 \nz\n\" id=\"DejaVuSans-65\" transform=\"scale(0.015625)\"/>\n        <path d=\"M 628 4666 \nL 1259 4666 \nL 1259 0 \nL 628 0 \nL 628 4666 \nz\n\" id=\"DejaVuSans-49\" transform=\"scale(0.015625)\"/>\n        <path d=\"M 1172 4494 \nL 1172 3500 \nL 2356 3500 \nL 2356 3053 \nL 1172 3053 \nL 1172 1153 \nQ 1172 725 1289 603 \nQ 1406 481 1766 481 \nL 2356 481 \nL 2356 0 \nL 1766 0 \nQ 1100 0 847 248 \nQ 594 497 594 1153 \nL 594 3053 \nL 172 3053 \nL 172 3500 \nL 594 3500 \nL 594 4494 \nL 1172 4494 \nz\n\" id=\"DejaVuSans-74\" transform=\"scale(0.015625)\"/>\n        <path d=\"M 2631 2963 \nQ 2534 3019 2420 3045 \nQ 2306 3072 2169 3072 \nQ 1681 3072 1420 2755 \nQ 1159 2438 1159 1844 \nL 1159 0 \nL 581 0 \nL 581 3500 \nL 1159 3500 \nL 1159 2956 \nQ 1341 3275 1631 3429 \nQ 1922 3584 2338 3584 \nQ 2397 3584 2469 3576 \nQ 2541 3569 2628 3553 \nL 2631 2963 \nz\n\" id=\"DejaVuSans-72\" transform=\"scale(0.015625)\"/>\n        <path d=\"M 603 3500 \nL 1178 3500 \nL 1178 0 \nL 603 0 \nL 603 3500 \nz\nM 603 4863 \nL 1178 4863 \nL 1178 4134 \nL 603 4134 \nL 603 4863 \nz\n\" id=\"DejaVuSans-69\" transform=\"scale(0.015625)\"/>\n        <path d=\"M 1959 3097 \nQ 1497 3097 1228 2736 \nQ 959 2375 959 1747 \nQ 959 1119 1226 758 \nQ 1494 397 1959 397 \nQ 2419 397 2687 759 \nQ 2956 1122 2956 1747 \nQ 2956 2369 2687 2733 \nQ 2419 3097 1959 3097 \nz\nM 1959 3584 \nQ 2709 3584 3137 3096 \nQ 3566 2609 3566 1747 \nQ 3566 888 3137 398 \nQ 2709 -91 1959 -91 \nQ 1206 -91 779 398 \nQ 353 888 353 1747 \nQ 353 2609 779 3096 \nQ 1206 3584 1959 3584 \nz\n\" id=\"DejaVuSans-6f\" transform=\"scale(0.015625)\"/>\n        <path d=\"M 3513 2113 \nL 3513 0 \nL 2938 0 \nL 2938 2094 \nQ 2938 2591 2744 2837 \nQ 2550 3084 2163 3084 \nQ 1697 3084 1428 2787 \nQ 1159 2491 1159 1978 \nL 1159 0 \nL 581 0 \nL 581 3500 \nL 1159 3500 \nL 1159 2956 \nQ 1366 3272 1645 3428 \nQ 1925 3584 2291 3584 \nQ 2894 3584 3203 3211 \nQ 3513 2838 3513 2113 \nz\n\" id=\"DejaVuSans-6e\" transform=\"scale(0.015625)\"/>\n        <path d=\"M 2188 4044 \nL 1331 1722 \nL 3047 1722 \nL 2188 4044 \nz\nM 1831 4666 \nL 2547 4666 \nL 4325 0 \nL 3669 0 \nL 3244 1197 \nL 1141 1197 \nL 716 0 \nL 50 0 \nL 1831 4666 \nz\n\" id=\"DejaVuSans-41\" transform=\"scale(0.015625)\"/>\n        <path d=\"M 2906 1791 \nQ 2906 2416 2648 2759 \nQ 2391 3103 1925 3103 \nQ 1463 3103 1205 2759 \nQ 947 2416 947 1791 \nQ 947 1169 1205 825 \nQ 1463 481 1925 481 \nQ 2391 481 2648 825 \nQ 2906 1169 2906 1791 \nz\nM 3481 434 \nQ 3481 -459 3084 -895 \nQ 2688 -1331 1869 -1331 \nQ 1566 -1331 1297 -1286 \nQ 1028 -1241 775 -1147 \nL 775 -588 \nQ 1028 -725 1275 -790 \nQ 1522 -856 1778 -856 \nQ 2344 -856 2625 -561 \nQ 2906 -266 2906 331 \nL 2906 616 \nQ 2728 306 2450 153 \nQ 2172 0 1784 0 \nQ 1141 0 747 490 \nQ 353 981 353 1791 \nQ 353 2603 747 3093 \nQ 1141 3584 1784 3584 \nQ 2172 3584 2450 3431 \nQ 2728 3278 2906 2969 \nL 2906 3500 \nL 3481 3500 \nL 3481 434 \nz\n\" id=\"DejaVuSans-67\" transform=\"scale(0.015625)\"/>\n       </defs>\n       <use xlink:href=\"#DejaVuSans-56\"/>\n       <use x=\"60.658203\" xlink:href=\"#DejaVuSans-61\"/>\n       <use x=\"121.9375\" xlink:href=\"#DejaVuSans-6c\"/>\n       <use x=\"149.720703\" xlink:href=\"#DejaVuSans-75\"/>\n       <use x=\"213.099609\" xlink:href=\"#DejaVuSans-65\"/>\n       <use x=\"274.623047\" xlink:href=\"#DejaVuSans-49\"/>\n       <use x=\"304.115234\" xlink:href=\"#DejaVuSans-74\"/>\n       <use x=\"343.324219\" xlink:href=\"#DejaVuSans-65\"/>\n       <use x=\"404.847656\" xlink:href=\"#DejaVuSans-72\"/>\n       <use x=\"445.960938\" xlink:href=\"#DejaVuSans-61\"/>\n       <use x=\"507.240234\" xlink:href=\"#DejaVuSans-74\"/>\n       <use x=\"546.449219\" xlink:href=\"#DejaVuSans-69\"/>\n       <use x=\"574.232422\" xlink:href=\"#DejaVuSans-6f\"/>\n       <use x=\"635.414062\" xlink:href=\"#DejaVuSans-6e\"/>\n       <use x=\"698.792969\" xlink:href=\"#DejaVuSans-41\"/>\n       <use x=\"767.201172\" xlink:href=\"#DejaVuSans-67\"/>\n       <use x=\"830.677734\" xlink:href=\"#DejaVuSans-65\"/>\n       <use x=\"892.201172\" xlink:href=\"#DejaVuSans-6e\"/>\n       <use x=\"955.580078\" xlink:href=\"#DejaVuSans-74\"/>\n      </g>\n     </g>\n    </g>\n    <g id=\"xtick_2\">\n     <g id=\"text_2\">\n      <!-- RandomAgent -->\n      <g style=\"fill:#262626;\" transform=\"translate(259.382812 239.238438)scale(0.1 -0.1)\">\n       <defs>\n        <path d=\"M 2841 2188 \nQ 3044 2119 3236 1894 \nQ 3428 1669 3622 1275 \nL 4263 0 \nL 3584 0 \nL 2988 1197 \nQ 2756 1666 2539 1819 \nQ 2322 1972 1947 1972 \nL 1259 1972 \nL 1259 0 \nL 628 0 \nL 628 4666 \nL 2053 4666 \nQ 2853 4666 3247 4331 \nQ 3641 3997 3641 3322 \nQ 3641 2881 3436 2590 \nQ 3231 2300 2841 2188 \nz\nM 1259 4147 \nL 1259 2491 \nL 2053 2491 \nQ 2509 2491 2742 2702 \nQ 2975 2913 2975 3322 \nQ 2975 3731 2742 3939 \nQ 2509 4147 2053 4147 \nL 1259 4147 \nz\n\" id=\"DejaVuSans-52\" transform=\"scale(0.015625)\"/>\n        <path d=\"M 2906 2969 \nL 2906 4863 \nL 3481 4863 \nL 3481 0 \nL 2906 0 \nL 2906 525 \nQ 2725 213 2448 61 \nQ 2172 -91 1784 -91 \nQ 1150 -91 751 415 \nQ 353 922 353 1747 \nQ 353 2572 751 3078 \nQ 1150 3584 1784 3584 \nQ 2172 3584 2448 3432 \nQ 2725 3281 2906 2969 \nz\nM 947 1747 \nQ 947 1113 1208 752 \nQ 1469 391 1925 391 \nQ 2381 391 2643 752 \nQ 2906 1113 2906 1747 \nQ 2906 2381 2643 2742 \nQ 2381 3103 1925 3103 \nQ 1469 3103 1208 2742 \nQ 947 2381 947 1747 \nz\n\" id=\"DejaVuSans-64\" transform=\"scale(0.015625)\"/>\n        <path d=\"M 3328 2828 \nQ 3544 3216 3844 3400 \nQ 4144 3584 4550 3584 \nQ 5097 3584 5394 3201 \nQ 5691 2819 5691 2113 \nL 5691 0 \nL 5113 0 \nL 5113 2094 \nQ 5113 2597 4934 2840 \nQ 4756 3084 4391 3084 \nQ 3944 3084 3684 2787 \nQ 3425 2491 3425 1978 \nL 3425 0 \nL 2847 0 \nL 2847 2094 \nQ 2847 2600 2669 2842 \nQ 2491 3084 2119 3084 \nQ 1678 3084 1418 2786 \nQ 1159 2488 1159 1978 \nL 1159 0 \nL 581 0 \nL 581 3500 \nL 1159 3500 \nL 1159 2956 \nQ 1356 3278 1631 3431 \nQ 1906 3584 2284 3584 \nQ 2666 3584 2933 3390 \nQ 3200 3197 3328 2828 \nz\n\" id=\"DejaVuSans-6d\" transform=\"scale(0.015625)\"/>\n       </defs>\n       <use xlink:href=\"#DejaVuSans-52\"/>\n       <use x=\"67.232422\" xlink:href=\"#DejaVuSans-61\"/>\n       <use x=\"128.511719\" xlink:href=\"#DejaVuSans-6e\"/>\n       <use x=\"191.890625\" xlink:href=\"#DejaVuSans-64\"/>\n       <use x=\"255.367188\" xlink:href=\"#DejaVuSans-6f\"/>\n       <use x=\"316.548828\" xlink:href=\"#DejaVuSans-6d\"/>\n       <use x=\"413.960938\" xlink:href=\"#DejaVuSans-41\"/>\n       <use x=\"482.369141\" xlink:href=\"#DejaVuSans-67\"/>\n       <use x=\"545.845703\" xlink:href=\"#DejaVuSans-65\"/>\n       <use x=\"607.369141\" xlink:href=\"#DejaVuSans-6e\"/>\n       <use x=\"670.748047\" xlink:href=\"#DejaVuSans-74\"/>\n      </g>\n     </g>\n    </g>\n    <g id=\"text_3\">\n     <!-- agent -->\n     <g style=\"fill:#262626;\" transform=\"translate(196.7375 252.916563)scale(0.1 -0.1)\">\n      <use xlink:href=\"#DejaVuSans-61\"/>\n      <use x=\"61.279297\" xlink:href=\"#DejaVuSans-67\"/>\n      <use x=\"124.755859\" xlink:href=\"#DejaVuSans-65\"/>\n      <use x=\"186.279297\" xlink:href=\"#DejaVuSans-6e\"/>\n      <use x=\"249.658203\" xlink:href=\"#DejaVuSans-74\"/>\n     </g>\n    </g>\n   </g>\n   <g id=\"matplotlib.axis_2\">\n    <g id=\"ytick_1\">\n     <g id=\"line2d_1\">\n      <path clip-path=\"url(#pba19c4f9c9)\" d=\"M 43.78125 200.059507 \nL 378.58125 200.059507 \n\" style=\"fill:none;stroke:#cccccc;stroke-linecap:round;stroke-width:0.8;\"/>\n     </g>\n     <g id=\"text_4\">\n      <!-- 0.2 -->\n      <g style=\"fill:#262626;\" transform=\"translate(20.878125 203.858725)scale(0.1 -0.1)\">\n       <defs>\n        <path d=\"M 2034 4250 \nQ 1547 4250 1301 3770 \nQ 1056 3291 1056 2328 \nQ 1056 1369 1301 889 \nQ 1547 409 2034 409 \nQ 2525 409 2770 889 \nQ 3016 1369 3016 2328 \nQ 3016 3291 2770 3770 \nQ 2525 4250 2034 4250 \nz\nM 2034 4750 \nQ 2819 4750 3233 4129 \nQ 3647 3509 3647 2328 \nQ 3647 1150 3233 529 \nQ 2819 -91 2034 -91 \nQ 1250 -91 836 529 \nQ 422 1150 422 2328 \nQ 422 3509 836 4129 \nQ 1250 4750 2034 4750 \nz\n\" id=\"DejaVuSans-30\" transform=\"scale(0.015625)\"/>\n        <path d=\"M 684 794 \nL 1344 794 \nL 1344 0 \nL 684 0 \nL 684 794 \nz\n\" id=\"DejaVuSans-2e\" transform=\"scale(0.015625)\"/>\n        <path d=\"M 1228 531 \nL 3431 531 \nL 3431 0 \nL 469 0 \nL 469 531 \nQ 828 903 1448 1529 \nQ 2069 2156 2228 2338 \nQ 2531 2678 2651 2914 \nQ 2772 3150 2772 3378 \nQ 2772 3750 2511 3984 \nQ 2250 4219 1831 4219 \nQ 1534 4219 1204 4116 \nQ 875 4013 500 3803 \nL 500 4441 \nQ 881 4594 1212 4672 \nQ 1544 4750 1819 4750 \nQ 2544 4750 2975 4387 \nQ 3406 4025 3406 3419 \nQ 3406 3131 3298 2873 \nQ 3191 2616 2906 2266 \nQ 2828 2175 2409 1742 \nQ 1991 1309 1228 531 \nz\n\" id=\"DejaVuSans-32\" transform=\"scale(0.015625)\"/>\n       </defs>\n       <use xlink:href=\"#DejaVuSans-30\"/>\n       <use x=\"63.623047\" xlink:href=\"#DejaVuSans-2e\"/>\n       <use x=\"95.410156\" xlink:href=\"#DejaVuSans-32\"/>\n      </g>\n     </g>\n    </g>\n    <g id=\"ytick_2\">\n     <g id=\"line2d_2\">\n      <path clip-path=\"url(#pba19c4f9c9)\" d=\"M 43.78125 170.665792 \nL 378.58125 170.665792 \n\" style=\"fill:none;stroke:#cccccc;stroke-linecap:round;stroke-width:0.8;\"/>\n     </g>\n     <g id=\"text_5\">\n      <!-- 0.3 -->\n      <g style=\"fill:#262626;\" transform=\"translate(20.878125 174.465011)scale(0.1 -0.1)\">\n       <defs>\n        <path d=\"M 2597 2516 \nQ 3050 2419 3304 2112 \nQ 3559 1806 3559 1356 \nQ 3559 666 3084 287 \nQ 2609 -91 1734 -91 \nQ 1441 -91 1130 -33 \nQ 819 25 488 141 \nL 488 750 \nQ 750 597 1062 519 \nQ 1375 441 1716 441 \nQ 2309 441 2620 675 \nQ 2931 909 2931 1356 \nQ 2931 1769 2642 2001 \nQ 2353 2234 1838 2234 \nL 1294 2234 \nL 1294 2753 \nL 1863 2753 \nQ 2328 2753 2575 2939 \nQ 2822 3125 2822 3475 \nQ 2822 3834 2567 4026 \nQ 2313 4219 1838 4219 \nQ 1578 4219 1281 4162 \nQ 984 4106 628 3988 \nL 628 4550 \nQ 988 4650 1302 4700 \nQ 1616 4750 1894 4750 \nQ 2613 4750 3031 4423 \nQ 3450 4097 3450 3541 \nQ 3450 3153 3228 2886 \nQ 3006 2619 2597 2516 \nz\n\" id=\"DejaVuSans-33\" transform=\"scale(0.015625)\"/>\n       </defs>\n       <use xlink:href=\"#DejaVuSans-30\"/>\n       <use x=\"63.623047\" xlink:href=\"#DejaVuSans-2e\"/>\n       <use x=\"95.410156\" xlink:href=\"#DejaVuSans-33\"/>\n      </g>\n     </g>\n    </g>\n    <g id=\"ytick_3\">\n     <g id=\"line2d_3\">\n      <path clip-path=\"url(#pba19c4f9c9)\" d=\"M 43.78125 141.272078 \nL 378.58125 141.272078 \n\" style=\"fill:none;stroke:#cccccc;stroke-linecap:round;stroke-width:0.8;\"/>\n     </g>\n     <g id=\"text_6\">\n      <!-- 0.4 -->\n      <g style=\"fill:#262626;\" transform=\"translate(20.878125 145.071297)scale(0.1 -0.1)\">\n       <defs>\n        <path d=\"M 2419 4116 \nL 825 1625 \nL 2419 1625 \nL 2419 4116 \nz\nM 2253 4666 \nL 3047 4666 \nL 3047 1625 \nL 3713 1625 \nL 3713 1100 \nL 3047 1100 \nL 3047 0 \nL 2419 0 \nL 2419 1100 \nL 313 1100 \nL 313 1709 \nL 2253 4666 \nz\n\" id=\"DejaVuSans-34\" transform=\"scale(0.015625)\"/>\n       </defs>\n       <use xlink:href=\"#DejaVuSans-30\"/>\n       <use x=\"63.623047\" xlink:href=\"#DejaVuSans-2e\"/>\n       <use x=\"95.410156\" xlink:href=\"#DejaVuSans-34\"/>\n      </g>\n     </g>\n    </g>\n    <g id=\"ytick_4\">\n     <g id=\"line2d_4\">\n      <path clip-path=\"url(#pba19c4f9c9)\" d=\"M 43.78125 111.878364 \nL 378.58125 111.878364 \n\" style=\"fill:none;stroke:#cccccc;stroke-linecap:round;stroke-width:0.8;\"/>\n     </g>\n     <g id=\"text_7\">\n      <!-- 0.5 -->\n      <g style=\"fill:#262626;\" transform=\"translate(20.878125 115.677583)scale(0.1 -0.1)\">\n       <defs>\n        <path d=\"M 691 4666 \nL 3169 4666 \nL 3169 4134 \nL 1269 4134 \nL 1269 2991 \nQ 1406 3038 1543 3061 \nQ 1681 3084 1819 3084 \nQ 2600 3084 3056 2656 \nQ 3513 2228 3513 1497 \nQ 3513 744 3044 326 \nQ 2575 -91 1722 -91 \nQ 1428 -91 1123 -41 \nQ 819 9 494 109 \nL 494 744 \nQ 775 591 1075 516 \nQ 1375 441 1709 441 \nQ 2250 441 2565 725 \nQ 2881 1009 2881 1497 \nQ 2881 1984 2565 2268 \nQ 2250 2553 1709 2553 \nQ 1456 2553 1204 2497 \nQ 953 2441 691 2322 \nL 691 4666 \nz\n\" id=\"DejaVuSans-35\" transform=\"scale(0.015625)\"/>\n       </defs>\n       <use xlink:href=\"#DejaVuSans-30\"/>\n       <use x=\"63.623047\" xlink:href=\"#DejaVuSans-2e\"/>\n       <use x=\"95.410156\" xlink:href=\"#DejaVuSans-35\"/>\n      </g>\n     </g>\n    </g>\n    <g id=\"ytick_5\">\n     <g id=\"line2d_5\">\n      <path clip-path=\"url(#pba19c4f9c9)\" d=\"M 43.78125 82.48465 \nL 378.58125 82.48465 \n\" style=\"fill:none;stroke:#cccccc;stroke-linecap:round;stroke-width:0.8;\"/>\n     </g>\n     <g id=\"text_8\">\n      <!-- 0.6 -->\n      <g style=\"fill:#262626;\" transform=\"translate(20.878125 86.283869)scale(0.1 -0.1)\">\n       <defs>\n        <path d=\"M 2113 2584 \nQ 1688 2584 1439 2293 \nQ 1191 2003 1191 1497 \nQ 1191 994 1439 701 \nQ 1688 409 2113 409 \nQ 2538 409 2786 701 \nQ 3034 994 3034 1497 \nQ 3034 2003 2786 2293 \nQ 2538 2584 2113 2584 \nz\nM 3366 4563 \nL 3366 3988 \nQ 3128 4100 2886 4159 \nQ 2644 4219 2406 4219 \nQ 1781 4219 1451 3797 \nQ 1122 3375 1075 2522 \nQ 1259 2794 1537 2939 \nQ 1816 3084 2150 3084 \nQ 2853 3084 3261 2657 \nQ 3669 2231 3669 1497 \nQ 3669 778 3244 343 \nQ 2819 -91 2113 -91 \nQ 1303 -91 875 529 \nQ 447 1150 447 2328 \nQ 447 3434 972 4092 \nQ 1497 4750 2381 4750 \nQ 2619 4750 2861 4703 \nQ 3103 4656 3366 4563 \nz\n\" id=\"DejaVuSans-36\" transform=\"scale(0.015625)\"/>\n       </defs>\n       <use xlink:href=\"#DejaVuSans-30\"/>\n       <use x=\"63.623047\" xlink:href=\"#DejaVuSans-2e\"/>\n       <use x=\"95.410156\" xlink:href=\"#DejaVuSans-36\"/>\n      </g>\n     </g>\n    </g>\n    <g id=\"ytick_6\">\n     <g id=\"line2d_6\">\n      <path clip-path=\"url(#pba19c4f9c9)\" d=\"M 43.78125 53.090936 \nL 378.58125 53.090936 \n\" style=\"fill:none;stroke:#cccccc;stroke-linecap:round;stroke-width:0.8;\"/>\n     </g>\n     <g id=\"text_9\">\n      <!-- 0.7 -->\n      <g style=\"fill:#262626;\" transform=\"translate(20.878125 56.890155)scale(0.1 -0.1)\">\n       <defs>\n        <path d=\"M 525 4666 \nL 3525 4666 \nL 3525 4397 \nL 1831 0 \nL 1172 0 \nL 2766 4134 \nL 525 4134 \nL 525 4666 \nz\n\" id=\"DejaVuSans-37\" transform=\"scale(0.015625)\"/>\n       </defs>\n       <use xlink:href=\"#DejaVuSans-30\"/>\n       <use x=\"63.623047\" xlink:href=\"#DejaVuSans-2e\"/>\n       <use x=\"95.410156\" xlink:href=\"#DejaVuSans-37\"/>\n      </g>\n     </g>\n    </g>\n    <g id=\"ytick_7\">\n     <g id=\"line2d_7\">\n      <path clip-path=\"url(#pba19c4f9c9)\" d=\"M 43.78125 23.697222 \nL 378.58125 23.697222 \n\" style=\"fill:none;stroke:#cccccc;stroke-linecap:round;stroke-width:0.8;\"/>\n     </g>\n     <g id=\"text_10\">\n      <!-- 0.8 -->\n      <g style=\"fill:#262626;\" transform=\"translate(20.878125 27.496441)scale(0.1 -0.1)\">\n       <defs>\n        <path d=\"M 2034 2216 \nQ 1584 2216 1326 1975 \nQ 1069 1734 1069 1313 \nQ 1069 891 1326 650 \nQ 1584 409 2034 409 \nQ 2484 409 2743 651 \nQ 3003 894 3003 1313 \nQ 3003 1734 2745 1975 \nQ 2488 2216 2034 2216 \nz\nM 1403 2484 \nQ 997 2584 770 2862 \nQ 544 3141 544 3541 \nQ 544 4100 942 4425 \nQ 1341 4750 2034 4750 \nQ 2731 4750 3128 4425 \nQ 3525 4100 3525 3541 \nQ 3525 3141 3298 2862 \nQ 3072 2584 2669 2484 \nQ 3125 2378 3379 2068 \nQ 3634 1759 3634 1313 \nQ 3634 634 3220 271 \nQ 2806 -91 2034 -91 \nQ 1263 -91 848 271 \nQ 434 634 434 1313 \nQ 434 1759 690 2068 \nQ 947 2378 1403 2484 \nz\nM 1172 3481 \nQ 1172 3119 1398 2916 \nQ 1625 2713 2034 2713 \nQ 2441 2713 2670 2916 \nQ 2900 3119 2900 3481 \nQ 2900 3844 2670 4047 \nQ 2441 4250 2034 4250 \nQ 1625 4250 1398 4047 \nQ 1172 3844 1172 3481 \nz\n\" id=\"DejaVuSans-38\" transform=\"scale(0.015625)\"/>\n       </defs>\n       <use xlink:href=\"#DejaVuSans-30\"/>\n       <use x=\"63.623047\" xlink:href=\"#DejaVuSans-2e\"/>\n       <use x=\"95.410156\" xlink:href=\"#DejaVuSans-38\"/>\n      </g>\n     </g>\n    </g>\n    <g id=\"text_11\">\n     <!-- evaluation output -->\n     <g style=\"fill:#262626;\" transform=\"translate(14.798438 160.299688)rotate(-90)scale(0.1 -0.1)\">\n      <defs>\n       <path d=\"M 191 3500 \nL 800 3500 \nL 1894 563 \nL 2988 3500 \nL 3597 3500 \nL 2284 0 \nL 1503 0 \nL 191 3500 \nz\n\" id=\"DejaVuSans-76\" transform=\"scale(0.015625)\"/>\n       <path id=\"DejaVuSans-20\" transform=\"scale(0.015625)\"/>\n       <path d=\"M 1159 525 \nL 1159 -1331 \nL 581 -1331 \nL 581 3500 \nL 1159 3500 \nL 1159 2969 \nQ 1341 3281 1617 3432 \nQ 1894 3584 2278 3584 \nQ 2916 3584 3314 3078 \nQ 3713 2572 3713 1747 \nQ 3713 922 3314 415 \nQ 2916 -91 2278 -91 \nQ 1894 -91 1617 61 \nQ 1341 213 1159 525 \nz\nM 3116 1747 \nQ 3116 2381 2855 2742 \nQ 2594 3103 2138 3103 \nQ 1681 3103 1420 2742 \nQ 1159 2381 1159 1747 \nQ 1159 1113 1420 752 \nQ 1681 391 2138 391 \nQ 2594 391 2855 752 \nQ 3116 1113 3116 1747 \nz\n\" id=\"DejaVuSans-70\" transform=\"scale(0.015625)\"/>\n      </defs>\n      <use xlink:href=\"#DejaVuSans-65\"/>\n      <use x=\"61.523438\" xlink:href=\"#DejaVuSans-76\"/>\n      <use x=\"120.703125\" xlink:href=\"#DejaVuSans-61\"/>\n      <use x=\"181.982422\" xlink:href=\"#DejaVuSans-6c\"/>\n      <use x=\"209.765625\" xlink:href=\"#DejaVuSans-75\"/>\n      <use x=\"273.144531\" xlink:href=\"#DejaVuSans-61\"/>\n      <use x=\"334.423828\" xlink:href=\"#DejaVuSans-74\"/>\n      <use x=\"373.632812\" xlink:href=\"#DejaVuSans-69\"/>\n      <use x=\"401.416016\" xlink:href=\"#DejaVuSans-6f\"/>\n      <use x=\"462.597656\" xlink:href=\"#DejaVuSans-6e\"/>\n      <use x=\"525.976562\" xlink:href=\"#DejaVuSans-20\"/>\n      <use x=\"557.763672\" xlink:href=\"#DejaVuSans-6f\"/>\n      <use x=\"618.945312\" xlink:href=\"#DejaVuSans-75\"/>\n      <use x=\"682.324219\" xlink:href=\"#DejaVuSans-74\"/>\n      <use x=\"721.533203\" xlink:href=\"#DejaVuSans-70\"/>\n      <use x=\"785.009766\" xlink:href=\"#DejaVuSans-75\"/>\n      <use x=\"848.388672\" xlink:href=\"#DejaVuSans-74\"/>\n     </g>\n    </g>\n   </g>\n   <g id=\"patch_3\">\n    <path clip-path=\"url(#pba19c4f9c9)\" d=\"M 60.52125 25.901751 \nL 194.44125 25.901751 \nL 194.44125 20.023008 \nL 60.52125 20.023008 \nL 60.52125 25.901751 \nz\n\" style=\"fill:#3274a1;stroke:#3f3f3f;stroke-linejoin:miter;stroke-width:1.5;\"/>\n   </g>\n   <g id=\"patch_4\">\n    <path clip-path=\"url(#pba19c4f9c9)\" d=\"M 227.92125 205.938249 \nL 361.84125 205.938249 \nL 361.84125 194.180764 \nL 227.92125 194.180764 \nL 227.92125 205.938249 \nz\n\" style=\"fill:#e1812c;stroke:#3f3f3f;stroke-linejoin:miter;stroke-width:1.5;\"/>\n   </g>\n   <g id=\"line2d_8\">\n    <path clip-path=\"url(#pba19c4f9c9)\" d=\"M 127.48125 25.901751 \nL 127.48125 27.371436 \n\" style=\"fill:none;stroke:#3f3f3f;stroke-linecap:round;stroke-width:1.5;\"/>\n   </g>\n   <g id=\"line2d_9\">\n    <path clip-path=\"url(#pba19c4f9c9)\" d=\"M 127.48125 20.023008 \nL 127.48125 17.083636 \n\" style=\"fill:none;stroke:#3f3f3f;stroke-linecap:round;stroke-width:1.5;\"/>\n   </g>\n   <g id=\"line2d_10\">\n    <path clip-path=\"url(#pba19c4f9c9)\" d=\"M 94.00125 27.371436 \nL 160.96125 27.371436 \n\" style=\"fill:none;stroke:#3f3f3f;stroke-linecap:round;stroke-width:1.5;\"/>\n   </g>\n   <g id=\"line2d_11\">\n    <path clip-path=\"url(#pba19c4f9c9)\" d=\"M 94.00125 17.083636 \nL 160.96125 17.083636 \n\" style=\"fill:none;stroke:#3f3f3f;stroke-linecap:round;stroke-width:1.5;\"/>\n   </g>\n   <g id=\"line2d_12\"/>\n   <g id=\"line2d_13\">\n    <path clip-path=\"url(#pba19c4f9c9)\" d=\"M 294.88125 205.938249 \nL 294.88125 214.756364 \n\" style=\"fill:none;stroke:#3f3f3f;stroke-linecap:round;stroke-width:1.5;\"/>\n   </g>\n   <g id=\"line2d_14\">\n    <path clip-path=\"url(#pba19c4f9c9)\" d=\"M 294.88125 194.180764 \nL 294.88125 188.302021 \n\" style=\"fill:none;stroke:#3f3f3f;stroke-linecap:round;stroke-width:1.5;\"/>\n   </g>\n   <g id=\"line2d_15\">\n    <path clip-path=\"url(#pba19c4f9c9)\" d=\"M 261.40125 214.756364 \nL 328.36125 214.756364 \n\" style=\"fill:none;stroke:#3f3f3f;stroke-linecap:round;stroke-width:1.5;\"/>\n   </g>\n   <g id=\"line2d_16\">\n    <path clip-path=\"url(#pba19c4f9c9)\" d=\"M 261.40125 188.302021 \nL 328.36125 188.302021 \n\" style=\"fill:none;stroke:#3f3f3f;stroke-linecap:round;stroke-width:1.5;\"/>\n   </g>\n   <g id=\"line2d_17\"/>\n   <g id=\"line2d_18\">\n    <path clip-path=\"url(#pba19c4f9c9)\" d=\"M 60.52125 20.757851 \nL 194.44125 20.757851 \n\" style=\"fill:none;stroke:#3f3f3f;stroke-linecap:round;stroke-width:1.5;\"/>\n   </g>\n   <g id=\"line2d_19\">\n    <path clip-path=\"url(#pba19c4f9c9)\" d=\"M 227.92125 205.938249 \nL 361.84125 205.938249 \n\" style=\"fill:none;stroke:#3f3f3f;stroke-linecap:round;stroke-width:1.5;\"/>\n   </g>\n   <g id=\"patch_5\">\n    <path d=\"M 43.78125 224.64 \nL 43.78125 7.2 \n\" style=\"fill:none;stroke:#cccccc;stroke-linecap:square;stroke-linejoin:miter;stroke-width:0.8;\"/>\n   </g>\n   <g id=\"patch_6\">\n    <path d=\"M 378.58125 224.64 \nL 378.58125 7.2 \n\" style=\"fill:none;stroke:#cccccc;stroke-linecap:square;stroke-linejoin:miter;stroke-width:0.8;\"/>\n   </g>\n   <g id=\"patch_7\">\n    <path d=\"M 43.78125 224.64 \nL 378.58125 224.64 \n\" style=\"fill:none;stroke:#cccccc;stroke-linecap:square;stroke-linejoin:miter;stroke-width:0.8;\"/>\n   </g>\n   <g id=\"patch_8\">\n    <path d=\"M 43.78125 7.2 \nL 378.58125 7.2 \n\" style=\"fill:none;stroke:#cccccc;stroke-linecap:square;stroke-linejoin:miter;stroke-width:0.8;\"/>\n   </g>\n  </g>\n </g>\n <defs>\n  <clipPath id=\"pba19c4f9c9\">\n   <rect height=\"217.44\" width=\"334.8\" x=\"43.78125\" y=\"7.2\"/>\n  </clipPath>\n </defs>\n</svg>\n",
      "image/png": "[encoded data removed]"
     },
     "metadata": {
      "needs_background": "light"
     }
    }
   ],
   "metadata": {
    "colab": {
     "base_uri": "https://localhost:8080/",
     "height": 655
    },
    "id": "ePl7Bqq2eniv",
    "outputId": "cf3fdc67-be32-4baf-8a93-1977915cc3c5"
   }
  },
  {
   "cell_type": "code",
   "execution_count": 8,
   "source": [
    "# The value of gamma above makes our VI agent quite bad! Let's optimize it.\n",
    "vi_stats.optimize_hyperparams(n_trials=30, timeout=30, n_fit=1, sampler_method='random', pruner_method='none')\n",
    "\n",
    "# fit with optimized params\n",
    "vi_stats.fit()\n",
    "\n",
    "# ... and see the results\n",
    "output = evaluate_agents([vi_stats, baseline_stats])\n"
   ],
   "outputs": [
    {
     "output_type": "stream",
     "name": "stdout",
     "text": [
      "Connected to stats_ValueIterationAgent_1629905512/data_1399287470133281629905512.db (sqlite3 version = 2.6.0)\n"
     ]
    },
    {
     "output_type": "stream",
     "name": "stderr",
     "text": [
      "\u001b[32m[I 2021-08-25 17:31:53,783]\u001b[0m A new study created in RDB with name: no-name-1cfc002a-c179-48eb-adad-26de30b354e6\u001b[0m\n",
      "[INFO] Training AgentStats for optim...  \n",
      "\u001b[32m[I 2021-08-25 17:31:53,948]\u001b[0m Trial 0 finished with value: 0.7999999999999999 and parameters: {'gamma': 0.25}. Best is trial 0 with value: 0.7999999999999999.\u001b[0m\n",
      "\u001b[32m[I 2021-08-25 17:31:54,198]\u001b[0m Trial 1 finished with value: 1.0299999999999998 and parameters: {'gamma': 0.99}. Best is trial 1 with value: 1.0299999999999998.\u001b[0m\n",
      "\u001b[32m[I 2021-08-25 17:31:54,313]\u001b[0m Trial 2 finished with value: 0.8300000000000001 and parameters: {'gamma': 0.75}. Best is trial 1 with value: 1.0299999999999998.\u001b[0m\n",
      "\u001b[32m[I 2021-08-25 17:31:54,424]\u001b[0m Trial 3 finished with value: 0.77 and parameters: {'gamma': 0.25}. Best is trial 1 with value: 1.0299999999999998.\u001b[0m\n",
      "\u001b[32m[I 2021-08-25 17:31:54,533]\u001b[0m Trial 4 finished with value: 0.7799999999999999 and parameters: {'gamma': 0.5}. Best is trial 1 with value: 1.0299999999999998.\u001b[0m\n",
      "\u001b[32m[I 2021-08-25 17:31:54,834]\u001b[0m Trial 5 finished with value: 1.02 and parameters: {'gamma': 0.99}. Best is trial 1 with value: 1.0299999999999998.\u001b[0m\n",
      "\u001b[32m[I 2021-08-25 17:31:54,929]\u001b[0m Trial 6 finished with value: 0.78 and parameters: {'gamma': 0.75}. Best is trial 1 with value: 1.0299999999999998.\u001b[0m\n",
      "\u001b[32m[I 2021-08-25 17:31:55,043]\u001b[0m Trial 7 finished with value: 0.8099999999999998 and parameters: {'gamma': 0.25}. Best is trial 1 with value: 1.0299999999999998.\u001b[0m\n",
      "\u001b[32m[I 2021-08-25 17:31:55,129]\u001b[0m Trial 8 finished with value: 0.86 and parameters: {'gamma': 0.5}. Best is trial 1 with value: 1.0299999999999998.\u001b[0m\n",
      "\u001b[32m[I 2021-08-25 17:31:55,237]\u001b[0m Trial 9 finished with value: 0.7 and parameters: {'gamma': 0.75}. Best is trial 1 with value: 1.0299999999999998.\u001b[0m\n",
      "\u001b[32m[I 2021-08-25 17:31:55,466]\u001b[0m Trial 10 finished with value: 1.0 and parameters: {'gamma': 0.99}. Best is trial 1 with value: 1.0299999999999998.\u001b[0m\n",
      "\u001b[32m[I 2021-08-25 17:31:55,562]\u001b[0m Trial 11 finished with value: 0.8399999999999999 and parameters: {'gamma': 0.75}. Best is trial 1 with value: 1.0299999999999998.\u001b[0m\n",
      "\u001b[32m[I 2021-08-25 17:31:55,627]\u001b[0m Trial 12 finished with value: 0.8599999999999998 and parameters: {'gamma': 0.1}. Best is trial 1 with value: 1.0299999999999998.\u001b[0m\n",
      "\u001b[32m[I 2021-08-25 17:31:55,701]\u001b[0m Trial 13 finished with value: 0.8699999999999999 and parameters: {'gamma': 0.75}. Best is trial 1 with value: 1.0299999999999998.\u001b[0m\n",
      "\u001b[32m[I 2021-08-25 17:31:55,775]\u001b[0m Trial 14 finished with value: 0.78 and parameters: {'gamma': 0.75}. Best is trial 1 with value: 1.0299999999999998.\u001b[0m\n",
      "\u001b[32m[I 2021-08-25 17:31:55,869]\u001b[0m Trial 15 finished with value: 0.9100000000000001 and parameters: {'gamma': 0.75}. Best is trial 1 with value: 1.0299999999999998.\u001b[0m\n",
      "\u001b[32m[I 2021-08-25 17:31:55,969]\u001b[0m Trial 16 finished with value: 0.7899999999999999 and parameters: {'gamma': 0.5}. Best is trial 1 with value: 1.0299999999999998.\u001b[0m\n",
      "\u001b[32m[I 2021-08-25 17:31:56,071]\u001b[0m Trial 17 finished with value: 0.85 and parameters: {'gamma': 0.1}. Best is trial 1 with value: 1.0299999999999998.\u001b[0m\n",
      "\u001b[32m[I 2021-08-25 17:31:56,174]\u001b[0m Trial 18 finished with value: 0.89 and parameters: {'gamma': 0.75}. Best is trial 1 with value: 1.0299999999999998.\u001b[0m\n",
      "\u001b[32m[I 2021-08-25 17:31:56,275]\u001b[0m Trial 19 finished with value: 0.78 and parameters: {'gamma': 0.25}. Best is trial 1 with value: 1.0299999999999998.\u001b[0m\n",
      "\u001b[32m[I 2021-08-25 17:31:56,368]\u001b[0m Trial 20 finished with value: 0.85 and parameters: {'gamma': 0.75}. Best is trial 1 with value: 1.0299999999999998.\u001b[0m\n",
      "\u001b[32m[I 2021-08-25 17:31:56,622]\u001b[0m Trial 21 finished with value: 1.01 and parameters: {'gamma': 0.99}. Best is trial 1 with value: 1.0299999999999998.\u001b[0m\n",
      "\u001b[32m[I 2021-08-25 17:31:56,871]\u001b[0m Trial 22 finished with value: 1.01 and parameters: {'gamma': 0.99}. Best is trial 1 with value: 1.0299999999999998.\u001b[0m\n",
      "\u001b[32m[I 2021-08-25 17:31:57,145]\u001b[0m Trial 23 finished with value: 1.01 and parameters: {'gamma': 0.99}. Best is trial 1 with value: 1.0299999999999998.\u001b[0m\n",
      "\u001b[32m[I 2021-08-25 17:31:57,245]\u001b[0m Trial 24 finished with value: 0.8 and parameters: {'gamma': 0.25}. Best is trial 1 with value: 1.0299999999999998.\u001b[0m\n",
      "\u001b[32m[I 2021-08-25 17:31:57,330]\u001b[0m Trial 25 finished with value: 0.8300000000000001 and parameters: {'gamma': 0.25}. Best is trial 1 with value: 1.0299999999999998.\u001b[0m\n",
      "\u001b[32m[I 2021-08-25 17:31:57,419]\u001b[0m Trial 26 finished with value: 0.78 and parameters: {'gamma': 0.1}. Best is trial 1 with value: 1.0299999999999998.\u001b[0m\n",
      "\u001b[32m[I 2021-08-25 17:31:57,514]\u001b[0m Trial 27 finished with value: 0.86 and parameters: {'gamma': 0.25}. Best is trial 1 with value: 1.0299999999999998.\u001b[0m\n",
      "\u001b[32m[I 2021-08-25 17:31:57,759]\u001b[0m Trial 28 finished with value: 1.0 and parameters: {'gamma': 0.99}. Best is trial 1 with value: 1.0299999999999998.\u001b[0m\n",
      "\u001b[32m[I 2021-08-25 17:31:57,847]\u001b[0m Trial 29 finished with value: 0.8299999999999998 and parameters: {'gamma': 0.5}. Best is trial 1 with value: 1.0299999999999998.\u001b[0m\n",
      "[INFO] Sucessful call to AgentHandler.dump() for <class '__main__.ValueIterationAgent'> \n",
      "[INFO] Sucessful call to AgentHandler.dump() for <class '__main__.ValueIterationAgent'> \n",
      "[INFO] Sucessful call to AgentHandler.dump() for <class '__main__.ValueIterationAgent'> \n",
      "[INFO] Sucessful call to AgentHandler.dump() for <class '__main__.ValueIterationAgent'> \n"
     ]
    },
    {
     "output_type": "display_data",
     "data": {
      "text/plain": [
       "<Figure size 432x288 with 1 Axes>"
      ],
      "image/svg+xml": "<?xml version=\"1.0\" encoding=\"utf-8\" standalone=\"no\"?>\n<!DOCTYPE svg PUBLIC \"-//W3C//DTD SVG 1.1//EN\"\n  \"http://www.w3.org/Graphics/SVG/1.1/DTD/svg11.dtd\">\n<svg height=\"262.19625pt\" version=\"1.1\" viewBox=\"0 0 385.78125 262.19625\" width=\"385.78125pt\" xmlns=\"http://www.w3.org/2000/svg\" xmlns:xlink=\"http://www.w3.org/1999/xlink\">\n <metadata>\n  <rdf:RDF xmlns:cc=\"http://creativecommons.org/ns#\" xmlns:dc=\"http://purl.org/dc/elements/1.1/\" xmlns:rdf=\"http://www.w3.org/1999/02/22-rdf-syntax-ns#\">\n   <cc:Work>\n    <dc:type rdf:resource=\"http://purl.org/dc/dcmitype/StillImage\"/>\n    <dc:date>2021-08-25T17:31:58.899635</dc:date>\n    <dc:format>image/svg+xml</dc:format>\n    <dc:creator>\n     <cc:Agent>\n      <dc:title>Matplotlib v3.4.3, https://matplotlib.org/</dc:title>\n     </cc:Agent>\n    </dc:creator>\n   </cc:Work>\n  </rdf:RDF>\n </metadata>\n <defs>\n  <style type=\"text/css\">*{stroke-linecap:butt;stroke-linejoin:round;}</style>\n </defs>\n <g id=\"figure_1\">\n  <g id=\"patch_1\">\n   <path d=\"M 0 262.19625 \nL 385.78125 262.19625 \nL 385.78125 0 \nL 0 0 \nz\n\" style=\"fill:none;\"/>\n  </g>\n  <g id=\"axes_1\">\n   <g id=\"patch_2\">\n    <path d=\"M 43.78125 224.64 \nL 378.58125 224.64 \nL 378.58125 7.2 \nL 43.78125 7.2 \nz\n\" style=\"fill:#ffffff;\"/>\n   </g>\n   <g id=\"matplotlib.axis_1\">\n    <g id=\"xtick_1\">\n     <g id=\"text_1\">\n      <!-- ValueIterationAgent -->\n      <g style=\"fill:#262626;\" transform=\"translate(77.741406 239.238438)scale(0.1 -0.1)\">\n       <defs>\n        <path d=\"M 1831 0 \nL 50 4666 \nL 709 4666 \nL 2188 738 \nL 3669 4666 \nL 4325 4666 \nL 2547 0 \nL 1831 0 \nz\n\" id=\"DejaVuSans-56\" transform=\"scale(0.015625)\"/>\n        <path d=\"M 2194 1759 \nQ 1497 1759 1228 1600 \nQ 959 1441 959 1056 \nQ 959 750 1161 570 \nQ 1363 391 1709 391 \nQ 2188 391 2477 730 \nQ 2766 1069 2766 1631 \nL 2766 1759 \nL 2194 1759 \nz\nM 3341 1997 \nL 3341 0 \nL 2766 0 \nL 2766 531 \nQ 2569 213 2275 61 \nQ 1981 -91 1556 -91 \nQ 1019 -91 701 211 \nQ 384 513 384 1019 \nQ 384 1609 779 1909 \nQ 1175 2209 1959 2209 \nL 2766 2209 \nL 2766 2266 \nQ 2766 2663 2505 2880 \nQ 2244 3097 1772 3097 \nQ 1472 3097 1187 3025 \nQ 903 2953 641 2809 \nL 641 3341 \nQ 956 3463 1253 3523 \nQ 1550 3584 1831 3584 \nQ 2591 3584 2966 3190 \nQ 3341 2797 3341 1997 \nz\n\" id=\"DejaVuSans-61\" transform=\"scale(0.015625)\"/>\n        <path d=\"M 603 4863 \nL 1178 4863 \nL 1178 0 \nL 603 0 \nL 603 4863 \nz\n\" id=\"DejaVuSans-6c\" transform=\"scale(0.015625)\"/>\n        <path d=\"M 544 1381 \nL 544 3500 \nL 1119 3500 \nL 1119 1403 \nQ 1119 906 1312 657 \nQ 1506 409 1894 409 \nQ 2359 409 2629 706 \nQ 2900 1003 2900 1516 \nL 2900 3500 \nL 3475 3500 \nL 3475 0 \nL 2900 0 \nL 2900 538 \nQ 2691 219 2414 64 \nQ 2138 -91 1772 -91 \nQ 1169 -91 856 284 \nQ 544 659 544 1381 \nz\nM 1991 3584 \nL 1991 3584 \nz\n\" id=\"DejaVuSans-75\" transform=\"scale(0.015625)\"/>\n        <path d=\"M 3597 1894 \nL 3597 1613 \nL 953 1613 \nQ 991 1019 1311 708 \nQ 1631 397 2203 397 \nQ 2534 397 2845 478 \nQ 3156 559 3463 722 \nL 3463 178 \nQ 3153 47 2828 -22 \nQ 2503 -91 2169 -91 \nQ 1331 -91 842 396 \nQ 353 884 353 1716 \nQ 353 2575 817 3079 \nQ 1281 3584 2069 3584 \nQ 2775 3584 3186 3129 \nQ 3597 2675 3597 1894 \nz\nM 3022 2063 \nQ 3016 2534 2758 2815 \nQ 2500 3097 2075 3097 \nQ 1594 3097 1305 2825 \nQ 1016 2553 972 2059 \nL 3022 2063 \nz\n\" id=\"DejaVuSans-65\" transform=\"scale(0.015625)\"/>\n        <path d=\"M 628 4666 \nL 1259 4666 \nL 1259 0 \nL 628 0 \nL 628 4666 \nz\n\" id=\"DejaVuSans-49\" transform=\"scale(0.015625)\"/>\n        <path d=\"M 1172 4494 \nL 1172 3500 \nL 2356 3500 \nL 2356 3053 \nL 1172 3053 \nL 1172 1153 \nQ 1172 725 1289 603 \nQ 1406 481 1766 481 \nL 2356 481 \nL 2356 0 \nL 1766 0 \nQ 1100 0 847 248 \nQ 594 497 594 1153 \nL 594 3053 \nL 172 3053 \nL 172 3500 \nL 594 3500 \nL 594 4494 \nL 1172 4494 \nz\n\" id=\"DejaVuSans-74\" transform=\"scale(0.015625)\"/>\n        <path d=\"M 2631 2963 \nQ 2534 3019 2420 3045 \nQ 2306 3072 2169 3072 \nQ 1681 3072 1420 2755 \nQ 1159 2438 1159 1844 \nL 1159 0 \nL 581 0 \nL 581 3500 \nL 1159 3500 \nL 1159 2956 \nQ 1341 3275 1631 3429 \nQ 1922 3584 2338 3584 \nQ 2397 3584 2469 3576 \nQ 2541 3569 2628 3553 \nL 2631 2963 \nz\n\" id=\"DejaVuSans-72\" transform=\"scale(0.015625)\"/>\n        <path d=\"M 603 3500 \nL 1178 3500 \nL 1178 0 \nL 603 0 \nL 603 3500 \nz\nM 603 4863 \nL 1178 4863 \nL 1178 4134 \nL 603 4134 \nL 603 4863 \nz\n\" id=\"DejaVuSans-69\" transform=\"scale(0.015625)\"/>\n        <path d=\"M 1959 3097 \nQ 1497 3097 1228 2736 \nQ 959 2375 959 1747 \nQ 959 1119 1226 758 \nQ 1494 397 1959 397 \nQ 2419 397 2687 759 \nQ 2956 1122 2956 1747 \nQ 2956 2369 2687 2733 \nQ 2419 3097 1959 3097 \nz\nM 1959 3584 \nQ 2709 3584 3137 3096 \nQ 3566 2609 3566 1747 \nQ 3566 888 3137 398 \nQ 2709 -91 1959 -91 \nQ 1206 -91 779 398 \nQ 353 888 353 1747 \nQ 353 2609 779 3096 \nQ 1206 3584 1959 3584 \nz\n\" id=\"DejaVuSans-6f\" transform=\"scale(0.015625)\"/>\n        <path d=\"M 3513 2113 \nL 3513 0 \nL 2938 0 \nL 2938 2094 \nQ 2938 2591 2744 2837 \nQ 2550 3084 2163 3084 \nQ 1697 3084 1428 2787 \nQ 1159 2491 1159 1978 \nL 1159 0 \nL 581 0 \nL 581 3500 \nL 1159 3500 \nL 1159 2956 \nQ 1366 3272 1645 3428 \nQ 1925 3584 2291 3584 \nQ 2894 3584 3203 3211 \nQ 3513 2838 3513 2113 \nz\n\" id=\"DejaVuSans-6e\" transform=\"scale(0.015625)\"/>\n        <path d=\"M 2188 4044 \nL 1331 1722 \nL 3047 1722 \nL 2188 4044 \nz\nM 1831 4666 \nL 2547 4666 \nL 4325 0 \nL 3669 0 \nL 3244 1197 \nL 1141 1197 \nL 716 0 \nL 50 0 \nL 1831 4666 \nz\n\" id=\"DejaVuSans-41\" transform=\"scale(0.015625)\"/>\n        <path d=\"M 2906 1791 \nQ 2906 2416 2648 2759 \nQ 2391 3103 1925 3103 \nQ 1463 3103 1205 2759 \nQ 947 2416 947 1791 \nQ 947 1169 1205 825 \nQ 1463 481 1925 481 \nQ 2391 481 2648 825 \nQ 2906 1169 2906 1791 \nz\nM 3481 434 \nQ 3481 -459 3084 -895 \nQ 2688 -1331 1869 -1331 \nQ 1566 -1331 1297 -1286 \nQ 1028 -1241 775 -1147 \nL 775 -588 \nQ 1028 -725 1275 -790 \nQ 1522 -856 1778 -856 \nQ 2344 -856 2625 -561 \nQ 2906 -266 2906 331 \nL 2906 616 \nQ 2728 306 2450 153 \nQ 2172 0 1784 0 \nQ 1141 0 747 490 \nQ 353 981 353 1791 \nQ 353 2603 747 3093 \nQ 1141 3584 1784 3584 \nQ 2172 3584 2450 3431 \nQ 2728 3278 2906 2969 \nL 2906 3500 \nL 3481 3500 \nL 3481 434 \nz\n\" id=\"DejaVuSans-67\" transform=\"scale(0.015625)\"/>\n       </defs>\n       <use xlink:href=\"#DejaVuSans-56\"/>\n       <use x=\"60.658203\" xlink:href=\"#DejaVuSans-61\"/>\n       <use x=\"121.9375\" xlink:href=\"#DejaVuSans-6c\"/>\n       <use x=\"149.720703\" xlink:href=\"#DejaVuSans-75\"/>\n       <use x=\"213.099609\" xlink:href=\"#DejaVuSans-65\"/>\n       <use x=\"274.623047\" xlink:href=\"#DejaVuSans-49\"/>\n       <use x=\"304.115234\" xlink:href=\"#DejaVuSans-74\"/>\n       <use x=\"343.324219\" xlink:href=\"#DejaVuSans-65\"/>\n       <use x=\"404.847656\" xlink:href=\"#DejaVuSans-72\"/>\n       <use x=\"445.960938\" xlink:href=\"#DejaVuSans-61\"/>\n       <use x=\"507.240234\" xlink:href=\"#DejaVuSans-74\"/>\n       <use x=\"546.449219\" xlink:href=\"#DejaVuSans-69\"/>\n       <use x=\"574.232422\" xlink:href=\"#DejaVuSans-6f\"/>\n       <use x=\"635.414062\" xlink:href=\"#DejaVuSans-6e\"/>\n       <use x=\"698.792969\" xlink:href=\"#DejaVuSans-41\"/>\n       <use x=\"767.201172\" xlink:href=\"#DejaVuSans-67\"/>\n       <use x=\"830.677734\" xlink:href=\"#DejaVuSans-65\"/>\n       <use x=\"892.201172\" xlink:href=\"#DejaVuSans-6e\"/>\n       <use x=\"955.580078\" xlink:href=\"#DejaVuSans-74\"/>\n      </g>\n     </g>\n    </g>\n    <g id=\"xtick_2\">\n     <g id=\"text_2\">\n      <!-- RandomAgent -->\n      <g style=\"fill:#262626;\" transform=\"translate(259.382812 239.238438)scale(0.1 -0.1)\">\n       <defs>\n        <path d=\"M 2841 2188 \nQ 3044 2119 3236 1894 \nQ 3428 1669 3622 1275 \nL 4263 0 \nL 3584 0 \nL 2988 1197 \nQ 2756 1666 2539 1819 \nQ 2322 1972 1947 1972 \nL 1259 1972 \nL 1259 0 \nL 628 0 \nL 628 4666 \nL 2053 4666 \nQ 2853 4666 3247 4331 \nQ 3641 3997 3641 3322 \nQ 3641 2881 3436 2590 \nQ 3231 2300 2841 2188 \nz\nM 1259 4147 \nL 1259 2491 \nL 2053 2491 \nQ 2509 2491 2742 2702 \nQ 2975 2913 2975 3322 \nQ 2975 3731 2742 3939 \nQ 2509 4147 2053 4147 \nL 1259 4147 \nz\n\" id=\"DejaVuSans-52\" transform=\"scale(0.015625)\"/>\n        <path d=\"M 2906 2969 \nL 2906 4863 \nL 3481 4863 \nL 3481 0 \nL 2906 0 \nL 2906 525 \nQ 2725 213 2448 61 \nQ 2172 -91 1784 -91 \nQ 1150 -91 751 415 \nQ 353 922 353 1747 \nQ 353 2572 751 3078 \nQ 1150 3584 1784 3584 \nQ 2172 3584 2448 3432 \nQ 2725 3281 2906 2969 \nz\nM 947 1747 \nQ 947 1113 1208 752 \nQ 1469 391 1925 391 \nQ 2381 391 2643 752 \nQ 2906 1113 2906 1747 \nQ 2906 2381 2643 2742 \nQ 2381 3103 1925 3103 \nQ 1469 3103 1208 2742 \nQ 947 2381 947 1747 \nz\n\" id=\"DejaVuSans-64\" transform=\"scale(0.015625)\"/>\n        <path d=\"M 3328 2828 \nQ 3544 3216 3844 3400 \nQ 4144 3584 4550 3584 \nQ 5097 3584 5394 3201 \nQ 5691 2819 5691 2113 \nL 5691 0 \nL 5113 0 \nL 5113 2094 \nQ 5113 2597 4934 2840 \nQ 4756 3084 4391 3084 \nQ 3944 3084 3684 2787 \nQ 3425 2491 3425 1978 \nL 3425 0 \nL 2847 0 \nL 2847 2094 \nQ 2847 2600 2669 2842 \nQ 2491 3084 2119 3084 \nQ 1678 3084 1418 2786 \nQ 1159 2488 1159 1978 \nL 1159 0 \nL 581 0 \nL 581 3500 \nL 1159 3500 \nL 1159 2956 \nQ 1356 3278 1631 3431 \nQ 1906 3584 2284 3584 \nQ 2666 3584 2933 3390 \nQ 3200 3197 3328 2828 \nz\n\" id=\"DejaVuSans-6d\" transform=\"scale(0.015625)\"/>\n       </defs>\n       <use xlink:href=\"#DejaVuSans-52\"/>\n       <use x=\"67.232422\" xlink:href=\"#DejaVuSans-61\"/>\n       <use x=\"128.511719\" xlink:href=\"#DejaVuSans-6e\"/>\n       <use x=\"191.890625\" xlink:href=\"#DejaVuSans-64\"/>\n       <use x=\"255.367188\" xlink:href=\"#DejaVuSans-6f\"/>\n       <use x=\"316.548828\" xlink:href=\"#DejaVuSans-6d\"/>\n       <use x=\"413.960938\" xlink:href=\"#DejaVuSans-41\"/>\n       <use x=\"482.369141\" xlink:href=\"#DejaVuSans-67\"/>\n       <use x=\"545.845703\" xlink:href=\"#DejaVuSans-65\"/>\n       <use x=\"607.369141\" xlink:href=\"#DejaVuSans-6e\"/>\n       <use x=\"670.748047\" xlink:href=\"#DejaVuSans-74\"/>\n      </g>\n     </g>\n    </g>\n    <g id=\"text_3\">\n     <!-- agent -->\n     <g style=\"fill:#262626;\" transform=\"translate(196.7375 252.916563)scale(0.1 -0.1)\">\n      <use xlink:href=\"#DejaVuSans-61\"/>\n      <use x=\"61.279297\" xlink:href=\"#DejaVuSans-67\"/>\n      <use x=\"124.755859\" xlink:href=\"#DejaVuSans-65\"/>\n      <use x=\"186.279297\" xlink:href=\"#DejaVuSans-6e\"/>\n      <use x=\"249.658203\" xlink:href=\"#DejaVuSans-74\"/>\n     </g>\n    </g>\n   </g>\n   <g id=\"matplotlib.axis_2\">\n    <g id=\"ytick_1\">\n     <g id=\"line2d_1\">\n      <path clip-path=\"url(#pb7edf6054e)\" d=\"M 43.78125 191.312698 \nL 378.58125 191.312698 \n\" style=\"fill:none;stroke:#cccccc;stroke-linecap:round;stroke-width:0.8;\"/>\n     </g>\n     <g id=\"text_4\">\n      <!-- 0.2 -->\n      <g style=\"fill:#262626;\" transform=\"translate(20.878125 195.111917)scale(0.1 -0.1)\">\n       <defs>\n        <path d=\"M 2034 4250 \nQ 1547 4250 1301 3770 \nQ 1056 3291 1056 2328 \nQ 1056 1369 1301 889 \nQ 1547 409 2034 409 \nQ 2525 409 2770 889 \nQ 3016 1369 3016 2328 \nQ 3016 3291 2770 3770 \nQ 2525 4250 2034 4250 \nz\nM 2034 4750 \nQ 2819 4750 3233 4129 \nQ 3647 3509 3647 2328 \nQ 3647 1150 3233 529 \nQ 2819 -91 2034 -91 \nQ 1250 -91 836 529 \nQ 422 1150 422 2328 \nQ 422 3509 836 4129 \nQ 1250 4750 2034 4750 \nz\n\" id=\"DejaVuSans-30\" transform=\"scale(0.015625)\"/>\n        <path d=\"M 684 794 \nL 1344 794 \nL 1344 0 \nL 684 0 \nL 684 794 \nz\n\" id=\"DejaVuSans-2e\" transform=\"scale(0.015625)\"/>\n        <path d=\"M 1228 531 \nL 3431 531 \nL 3431 0 \nL 469 0 \nL 469 531 \nQ 828 903 1448 1529 \nQ 2069 2156 2228 2338 \nQ 2531 2678 2651 2914 \nQ 2772 3150 2772 3378 \nQ 2772 3750 2511 3984 \nQ 2250 4219 1831 4219 \nQ 1534 4219 1204 4116 \nQ 875 4013 500 3803 \nL 500 4441 \nQ 881 4594 1212 4672 \nQ 1544 4750 1819 4750 \nQ 2544 4750 2975 4387 \nQ 3406 4025 3406 3419 \nQ 3406 3131 3298 2873 \nQ 3191 2616 2906 2266 \nQ 2828 2175 2409 1742 \nQ 1991 1309 1228 531 \nz\n\" id=\"DejaVuSans-32\" transform=\"scale(0.015625)\"/>\n       </defs>\n       <use xlink:href=\"#DejaVuSans-30\"/>\n       <use x=\"63.623047\" xlink:href=\"#DejaVuSans-2e\"/>\n       <use x=\"95.410156\" xlink:href=\"#DejaVuSans-32\"/>\n      </g>\n     </g>\n    </g>\n    <g id=\"ytick_2\">\n     <g id=\"line2d_2\">\n      <path clip-path=\"url(#pb7edf6054e)\" d=\"M 43.78125 148.687851 \nL 378.58125 148.687851 \n\" style=\"fill:none;stroke:#cccccc;stroke-linecap:round;stroke-width:0.8;\"/>\n     </g>\n     <g id=\"text_5\">\n      <!-- 0.4 -->\n      <g style=\"fill:#262626;\" transform=\"translate(20.878125 152.48707)scale(0.1 -0.1)\">\n       <defs>\n        <path d=\"M 2419 4116 \nL 825 1625 \nL 2419 1625 \nL 2419 4116 \nz\nM 2253 4666 \nL 3047 4666 \nL 3047 1625 \nL 3713 1625 \nL 3713 1100 \nL 3047 1100 \nL 3047 0 \nL 2419 0 \nL 2419 1100 \nL 313 1100 \nL 313 1709 \nL 2253 4666 \nz\n\" id=\"DejaVuSans-34\" transform=\"scale(0.015625)\"/>\n       </defs>\n       <use xlink:href=\"#DejaVuSans-30\"/>\n       <use x=\"63.623047\" xlink:href=\"#DejaVuSans-2e\"/>\n       <use x=\"95.410156\" xlink:href=\"#DejaVuSans-34\"/>\n      </g>\n     </g>\n    </g>\n    <g id=\"ytick_3\">\n     <g id=\"line2d_3\">\n      <path clip-path=\"url(#pb7edf6054e)\" d=\"M 43.78125 106.063004 \nL 378.58125 106.063004 \n\" style=\"fill:none;stroke:#cccccc;stroke-linecap:round;stroke-width:0.8;\"/>\n     </g>\n     <g id=\"text_6\">\n      <!-- 0.6 -->\n      <g style=\"fill:#262626;\" transform=\"translate(20.878125 109.862223)scale(0.1 -0.1)\">\n       <defs>\n        <path d=\"M 2113 2584 \nQ 1688 2584 1439 2293 \nQ 1191 2003 1191 1497 \nQ 1191 994 1439 701 \nQ 1688 409 2113 409 \nQ 2538 409 2786 701 \nQ 3034 994 3034 1497 \nQ 3034 2003 2786 2293 \nQ 2538 2584 2113 2584 \nz\nM 3366 4563 \nL 3366 3988 \nQ 3128 4100 2886 4159 \nQ 2644 4219 2406 4219 \nQ 1781 4219 1451 3797 \nQ 1122 3375 1075 2522 \nQ 1259 2794 1537 2939 \nQ 1816 3084 2150 3084 \nQ 2853 3084 3261 2657 \nQ 3669 2231 3669 1497 \nQ 3669 778 3244 343 \nQ 2819 -91 2113 -91 \nQ 1303 -91 875 529 \nQ 447 1150 447 2328 \nQ 447 3434 972 4092 \nQ 1497 4750 2381 4750 \nQ 2619 4750 2861 4703 \nQ 3103 4656 3366 4563 \nz\n\" id=\"DejaVuSans-36\" transform=\"scale(0.015625)\"/>\n       </defs>\n       <use xlink:href=\"#DejaVuSans-30\"/>\n       <use x=\"63.623047\" xlink:href=\"#DejaVuSans-2e\"/>\n       <use x=\"95.410156\" xlink:href=\"#DejaVuSans-36\"/>\n      </g>\n     </g>\n    </g>\n    <g id=\"ytick_4\">\n     <g id=\"line2d_4\">\n      <path clip-path=\"url(#pb7edf6054e)\" d=\"M 43.78125 63.438157 \nL 378.58125 63.438157 \n\" style=\"fill:none;stroke:#cccccc;stroke-linecap:round;stroke-width:0.8;\"/>\n     </g>\n     <g id=\"text_7\">\n      <!-- 0.8 -->\n      <g style=\"fill:#262626;\" transform=\"translate(20.878125 67.237376)scale(0.1 -0.1)\">\n       <defs>\n        <path d=\"M 2034 2216 \nQ 1584 2216 1326 1975 \nQ 1069 1734 1069 1313 \nQ 1069 891 1326 650 \nQ 1584 409 2034 409 \nQ 2484 409 2743 651 \nQ 3003 894 3003 1313 \nQ 3003 1734 2745 1975 \nQ 2488 2216 2034 2216 \nz\nM 1403 2484 \nQ 997 2584 770 2862 \nQ 544 3141 544 3541 \nQ 544 4100 942 4425 \nQ 1341 4750 2034 4750 \nQ 2731 4750 3128 4425 \nQ 3525 4100 3525 3541 \nQ 3525 3141 3298 2862 \nQ 3072 2584 2669 2484 \nQ 3125 2378 3379 2068 \nQ 3634 1759 3634 1313 \nQ 3634 634 3220 271 \nQ 2806 -91 2034 -91 \nQ 1263 -91 848 271 \nQ 434 634 434 1313 \nQ 434 1759 690 2068 \nQ 947 2378 1403 2484 \nz\nM 1172 3481 \nQ 1172 3119 1398 2916 \nQ 1625 2713 2034 2713 \nQ 2441 2713 2670 2916 \nQ 2900 3119 2900 3481 \nQ 2900 3844 2670 4047 \nQ 2441 4250 2034 4250 \nQ 1625 4250 1398 4047 \nQ 1172 3844 1172 3481 \nz\n\" id=\"DejaVuSans-38\" transform=\"scale(0.015625)\"/>\n       </defs>\n       <use xlink:href=\"#DejaVuSans-30\"/>\n       <use x=\"63.623047\" xlink:href=\"#DejaVuSans-2e\"/>\n       <use x=\"95.410156\" xlink:href=\"#DejaVuSans-38\"/>\n      </g>\n     </g>\n    </g>\n    <g id=\"ytick_5\">\n     <g id=\"line2d_5\">\n      <path clip-path=\"url(#pb7edf6054e)\" d=\"M 43.78125 20.81331 \nL 378.58125 20.81331 \n\" style=\"fill:none;stroke:#cccccc;stroke-linecap:round;stroke-width:0.8;\"/>\n     </g>\n     <g id=\"text_8\">\n      <!-- 1.0 -->\n      <g style=\"fill:#262626;\" transform=\"translate(20.878125 24.612529)scale(0.1 -0.1)\">\n       <defs>\n        <path d=\"M 794 531 \nL 1825 531 \nL 1825 4091 \nL 703 3866 \nL 703 4441 \nL 1819 4666 \nL 2450 4666 \nL 2450 531 \nL 3481 531 \nL 3481 0 \nL 794 0 \nL 794 531 \nz\n\" id=\"DejaVuSans-31\" transform=\"scale(0.015625)\"/>\n       </defs>\n       <use xlink:href=\"#DejaVuSans-31\"/>\n       <use x=\"63.623047\" xlink:href=\"#DejaVuSans-2e\"/>\n       <use x=\"95.410156\" xlink:href=\"#DejaVuSans-30\"/>\n      </g>\n     </g>\n    </g>\n    <g id=\"text_9\">\n     <!-- evaluation output -->\n     <g style=\"fill:#262626;\" transform=\"translate(14.798438 160.299688)rotate(-90)scale(0.1 -0.1)\">\n      <defs>\n       <path d=\"M 191 3500 \nL 800 3500 \nL 1894 563 \nL 2988 3500 \nL 3597 3500 \nL 2284 0 \nL 1503 0 \nL 191 3500 \nz\n\" id=\"DejaVuSans-76\" transform=\"scale(0.015625)\"/>\n       <path id=\"DejaVuSans-20\" transform=\"scale(0.015625)\"/>\n       <path d=\"M 1159 525 \nL 1159 -1331 \nL 581 -1331 \nL 581 3500 \nL 1159 3500 \nL 1159 2969 \nQ 1341 3281 1617 3432 \nQ 1894 3584 2278 3584 \nQ 2916 3584 3314 3078 \nQ 3713 2572 3713 1747 \nQ 3713 922 3314 415 \nQ 2916 -91 2278 -91 \nQ 1894 -91 1617 61 \nQ 1341 213 1159 525 \nz\nM 3116 1747 \nQ 3116 2381 2855 2742 \nQ 2594 3103 2138 3103 \nQ 1681 3103 1420 2742 \nQ 1159 2381 1159 1747 \nQ 1159 1113 1420 752 \nQ 1681 391 2138 391 \nQ 2594 391 2855 752 \nQ 3116 1113 3116 1747 \nz\n\" id=\"DejaVuSans-70\" transform=\"scale(0.015625)\"/>\n      </defs>\n      <use xlink:href=\"#DejaVuSans-65\"/>\n      <use x=\"61.523438\" xlink:href=\"#DejaVuSans-76\"/>\n      <use x=\"120.703125\" xlink:href=\"#DejaVuSans-61\"/>\n      <use x=\"181.982422\" xlink:href=\"#DejaVuSans-6c\"/>\n      <use x=\"209.765625\" xlink:href=\"#DejaVuSans-75\"/>\n      <use x=\"273.144531\" xlink:href=\"#DejaVuSans-61\"/>\n      <use x=\"334.423828\" xlink:href=\"#DejaVuSans-74\"/>\n      <use x=\"373.632812\" xlink:href=\"#DejaVuSans-69\"/>\n      <use x=\"401.416016\" xlink:href=\"#DejaVuSans-6f\"/>\n      <use x=\"462.597656\" xlink:href=\"#DejaVuSans-6e\"/>\n      <use x=\"525.976562\" xlink:href=\"#DejaVuSans-20\"/>\n      <use x=\"557.763672\" xlink:href=\"#DejaVuSans-6f\"/>\n      <use x=\"618.945312\" xlink:href=\"#DejaVuSans-75\"/>\n      <use x=\"682.324219\" xlink:href=\"#DejaVuSans-74\"/>\n      <use x=\"721.533203\" xlink:href=\"#DejaVuSans-70\"/>\n      <use x=\"785.009766\" xlink:href=\"#DejaVuSans-75\"/>\n      <use x=\"848.388672\" xlink:href=\"#DejaVuSans-74\"/>\n     </g>\n    </g>\n   </g>\n   <g id=\"patch_3\">\n    <path clip-path=\"url(#pb7edf6054e)\" d=\"M 60.52125 24.542985 \nL 194.44125 24.542985 \nL 194.44125 18.682068 \nL 60.52125 18.682068 \nL 60.52125 24.542985 \nz\n\" style=\"fill:#3274a1;stroke:#3f3f3f;stroke-linejoin:miter;stroke-width:1.5;\"/>\n   </g>\n   <g id=\"patch_4\">\n    <path clip-path=\"url(#pb7edf6054e)\" d=\"M 227.92125 210.493879 \nL 361.84125 210.493879 \nL 361.84125 197.706425 \nL 227.92125 197.706425 \nL 227.92125 210.493879 \nz\n\" style=\"fill:#e1812c;stroke:#3f3f3f;stroke-linejoin:miter;stroke-width:1.5;\"/>\n   </g>\n   <g id=\"line2d_6\">\n    <path clip-path=\"url(#pb7edf6054e)\" d=\"M 127.48125 24.542985 \nL 127.48125 24.542985 \n\" style=\"fill:none;stroke:#3f3f3f;stroke-linecap:round;stroke-width:1.5;\"/>\n   </g>\n   <g id=\"line2d_7\">\n    <path clip-path=\"url(#pb7edf6054e)\" d=\"M 127.48125 18.682068 \nL 127.48125 17.083636 \n\" style=\"fill:none;stroke:#3f3f3f;stroke-linecap:round;stroke-width:1.5;\"/>\n   </g>\n   <g id=\"line2d_8\">\n    <path clip-path=\"url(#pb7edf6054e)\" d=\"M 94.00125 24.542985 \nL 160.96125 24.542985 \n\" style=\"fill:none;stroke:#3f3f3f;stroke-linecap:round;stroke-width:1.5;\"/>\n   </g>\n   <g id=\"line2d_9\">\n    <path clip-path=\"url(#pb7edf6054e)\" d=\"M 94.00125 17.083636 \nL 160.96125 17.083636 \n\" style=\"fill:none;stroke:#3f3f3f;stroke-linecap:round;stroke-width:1.5;\"/>\n   </g>\n   <g id=\"line2d_10\"/>\n   <g id=\"line2d_11\">\n    <path clip-path=\"url(#pb7edf6054e)\" d=\"M 294.88125 210.493879 \nL 294.88125 214.756364 \n\" style=\"fill:none;stroke:#3f3f3f;stroke-linecap:round;stroke-width:1.5;\"/>\n   </g>\n   <g id=\"line2d_12\">\n    <path clip-path=\"url(#pb7edf6054e)\" d=\"M 294.88125 197.706425 \nL 294.88125 187.050213 \n\" style=\"fill:none;stroke:#3f3f3f;stroke-linecap:round;stroke-width:1.5;\"/>\n   </g>\n   <g id=\"line2d_13\">\n    <path clip-path=\"url(#pb7edf6054e)\" d=\"M 261.40125 214.756364 \nL 328.36125 214.756364 \n\" style=\"fill:none;stroke:#3f3f3f;stroke-linecap:round;stroke-width:1.5;\"/>\n   </g>\n   <g id=\"line2d_14\">\n    <path clip-path=\"url(#pb7edf6054e)\" d=\"M 261.40125 187.050213 \nL 328.36125 187.050213 \n\" style=\"fill:none;stroke:#3f3f3f;stroke-linecap:round;stroke-width:1.5;\"/>\n   </g>\n   <g id=\"line2d_15\"/>\n   <g id=\"line2d_16\">\n    <path clip-path=\"url(#pb7edf6054e)\" d=\"M 60.52125 19.214879 \nL 194.44125 19.214879 \n\" style=\"fill:none;stroke:#3f3f3f;stroke-linecap:round;stroke-width:1.5;\"/>\n   </g>\n   <g id=\"line2d_17\">\n    <path clip-path=\"url(#pb7edf6054e)\" d=\"M 227.92125 201.96891 \nL 361.84125 201.96891 \n\" style=\"fill:none;stroke:#3f3f3f;stroke-linecap:round;stroke-width:1.5;\"/>\n   </g>\n   <g id=\"patch_5\">\n    <path d=\"M 43.78125 224.64 \nL 43.78125 7.2 \n\" style=\"fill:none;stroke:#cccccc;stroke-linecap:square;stroke-linejoin:miter;stroke-width:0.8;\"/>\n   </g>\n   <g id=\"patch_6\">\n    <path d=\"M 378.58125 224.64 \nL 378.58125 7.2 \n\" style=\"fill:none;stroke:#cccccc;stroke-linecap:square;stroke-linejoin:miter;stroke-width:0.8;\"/>\n   </g>\n   <g id=\"patch_7\">\n    <path d=\"M 43.78125 224.64 \nL 378.58125 224.64 \n\" style=\"fill:none;stroke:#cccccc;stroke-linecap:square;stroke-linejoin:miter;stroke-width:0.8;\"/>\n   </g>\n   <g id=\"patch_8\">\n    <path d=\"M 43.78125 7.2 \nL 378.58125 7.2 \n\" style=\"fill:none;stroke:#cccccc;stroke-linecap:square;stroke-linejoin:miter;stroke-width:0.8;\"/>\n   </g>\n  </g>\n </g>\n <defs>\n  <clipPath id=\"pb7edf6054e\">\n   <rect height=\"217.44\" width=\"334.8\" x=\"43.78125\" y=\"7.2\"/>\n  </clipPath>\n </defs>\n</svg>\n",
      "image/png": "[encoded data removed]"
     },
     "metadata": {
      "needs_background": "light"
     }
    }
   ],
   "metadata": {
    "colab": {
     "base_uri": "https://localhost:8080/",
     "height": 889
    },
    "id": "slTijRljiamE",
    "outputId": "1c12fc8a-cd2d-418e-9456-4fc80a5783a7"
   }
  },
  {
   "cell_type": "code",
   "execution_count": 9,
   "source": [
    "vi_stats.clear_output_dir()\n",
    "baseline_stats.clear_output_dir()"
   ],
   "outputs": [
    {
     "output_type": "stream",
     "name": "stdout",
     "text": [
      "{'gamma': 0.99}\n",
      "{'gamma': 0.99, 'epsilon': 0.001}\n",
      "0.99\n"
     ]
    }
   ],
   "metadata": {}
  }
 ]
}